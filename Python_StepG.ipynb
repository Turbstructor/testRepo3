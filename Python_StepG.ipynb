{
 "cells": [
  {
   "cell_type": "markdown",
   "metadata": {},
   "source": [
    "# 영역 2 : 프로그래밍 제어구조 응용\n",
    "영역 2에서는 영역 1에서 습득한 프로그래밍의 기본 제어구조를 응용하는 방법을 연습한다. 먼저 2단계 이상이 중복된 복합 반복문을 사용하는 방법과 묶음자료 형식인 리스트를 다루는 방법을 연습한다. 또한 그동안 연습한 조건문과 반복문이 다양하게 적용되는 응용 예제들을 해결하는 연습을 하게 된다. 마지막으로 영역 3으로 진행하기 위한 준비단계로서 파이썬에서 제공하는 주요 함수들을 사용하는 연습을 하게 된다.\n",
    "\n",
    "영역 2는 다음과 같이 5개의 단계로 구성된다.\n",
    "\n",
    "- [[Step E] : 복합 반복문 사용하기](Python_StepE.ipynb#Intro)\n",
    "- [[Step F] : 리스트 사용하기](Python_StepF.ipynb#Intro)\n",
    "- [[Step G] : 조건과 반복을 활용하는 응용 예제 해결하기](#Intro)\n",
    "- [[Step H] : 파이썬의 주요 함수 사용하기](Python_StepH.ipynb#Intro)\n",
    "- [[Step H]' : 딕셔너리 사용하기](Python_StepH.ipynb#Intro2)"
   ]
  },
  {
   "cell_type": "markdown",
   "metadata": {},
   "source": [
    "***"
   ]
  },
  {
   "cell_type": "markdown",
   "metadata": {},
   "source": [
    "## <a id='Intro'>[Step G] 조건과 반복</a>"
   ]
  },
  {
   "cell_type": "markdown",
   "metadata": {},
   "source": [
    "이번 단계에서는 그동안 연습해 온 조건문과 반복문을 함께 응용하여 해결해야 하는 문제들을 풀어보려고 한다. 예를 들어서 어떤 레스토랑에서 하루 동안의 식사 금액을 계산하는 프로그램을 만들어보자. 이 식당에는 4가지 메뉴가 있으며 각 메뉴별 가격은 다음과 같다.\n",
    "\n",
    "1. 피자(15,000원)\n",
    "2. 스파게티(10,000원)\n",
    "3. 샐러드(7,000원)\n",
    "4. 음료수(2,000원)\n",
    "\n",
    "어떤 한 팀의 주문서 내용 즉, 메뉴별 주문 개수를 입력받아 식대를 계산하는 구문은 다음과 같다."
   ]
  },
  {
   "cell_type": "code",
   "execution_count": null,
   "metadata": {},
   "outputs": [],
   "source": [
    "price = [15000, 10000, 7000, 2000] # 메뉴별 가격\n",
    "print(\"피자(15,000원), 스파게티(10,000원), 샐러드(7,000원), 음료수(2,000원)\")\n",
    "order = input(\"메뉴별 주문 개수를 입력하시오.\").split()\n",
    "sum = 0\n",
    "for i in range(4) :\n",
    "    order[i] = int(order[i])\n",
    "    sum = sum + (order[i] * price[i])\n",
    "    \n",
    "print(\"식사 금액은 %d원입니다.\"%(sum))"
   ]
  },
  {
   "cell_type": "markdown",
   "metadata": {},
   "source": [
    "그런데, 이 레스토랑에서는 할인쿠폰제도가 있어서 5%, 10%, 20% 세 종류의 할인쿠폰 중 하나를 제시하는 팀에게는 할인해 주는 제도를 시행하고 있다면, 프로그램의 하단 부분은 다음과 같이 변경 되어야 할 것이다."
   ]
  },
  {
   "cell_type": "code",
   "execution_count": null,
   "metadata": {},
   "outputs": [],
   "source": [
    "# 위 코드와 1~7줄 동일\n",
    "price = [15000, 10000, 7000, 2000] # 메뉴별 가격\n",
    "print(\"피자(15,000원), 스파게티(10,000원), 샐러드(7,000원), 음료수(2,000원)\")\n",
    "order = input(\"메뉴별 주문 개수를 입력하시오.\").split()\n",
    "sum = 0\n",
    "for i in range(4) :\n",
    "    order[i] = int(order[i])\n",
    "    sum = sum + (order[i] * price[i])\n",
    "    \n",
    "coupon =int(input(\"사용하실 할인쿠폰을 선택하세요. (0: 없음, 1: 5%, 2: 10%, 3: 20%) \"))\n",
    "if coupon == 1 : sum = sum * 0.95\n",
    "elif coupon == 2 : sum = sum * 0.90\n",
    "elif coupon == 3 : sum = sum * 0.80\n",
    "print(\"식사 금액은 %d원입니다.\"%(sum))"
   ]
  },
  {
   "cell_type": "markdown",
   "metadata": {},
   "source": [
    "이제는 하루 동안의 매출을 계산해보자. 하루 동안 식사하러 온 팀이 모두 몇 팀인지를 입력받아 이 숫자만큼 위 프로그램을 반복해가면서 총 매출액을 계산하는 것이다. 그렇기 위해서는 다음과 같이 앞의 프로그램을 전체적으로 반복문으로 둘러싸야 한다. 그리고 매 반복 때마다 계산한 `sum`의 값을 누적해서 합산해야 한다."
   ]
  },
  {
   "cell_type": "code",
   "execution_count": null,
   "metadata": {},
   "outputs": [],
   "source": [
    "# coding: euc-kr\n",
    "# 예제 ex_G.py\n",
    "price = [15000, 10000, 7000, 2000] # 메뉴별 가격\n",
    "total_sum = 0\n",
    "\n",
    "team = int(input(\"오늘 방문한 팀은 모두 몇 팀입니까? \"))\n",
    "print(\"피자(15,000원), 스파게티(10,000원), 샐러드(7,000원), 음료수(2,000원)\")\n",
    "print(\"방문한 팀 별로 메뉴별 주문 개수를 입력하세요. \")\n",
    "\n",
    "for t in range(team) :\n",
    "    order = input(\"%d번 팀의 메뉴별 주문 개수를 입력하시오. \"%(t+1)).split()\n",
    "    sum = 0\n",
    "    for i in range(4) :\n",
    "        order[i] = int(order[i])\n",
    "        sum = sum + (order[i] * price[i])\n",
    "    coupon = int(input(\"사용하실 할인쿠폰을 선택하세요. (0: 없음, 1: 5%, 2: 10%, 3: 20%) \"))\n",
    "    if coupon == 1 : sum = sum * 0.95\n",
    "    elif coupon == 2 : sum = sum * 0.90\n",
    "    elif coupon == 3 : sum = sum * 0.80\n",
    "    print(\"식사 금액은 %d원입니다.\"%(sum))\n",
    "    total_sum = total_sum + sum\n",
    "    \n",
    "print(\"오늘 총 매출액은 %d원입니다.\"%(total_sum))"
   ]
  },
  {
   "cell_type": "markdown",
   "metadata": {},
   "source": [
    "***\n",
    "***"
   ]
  },
  {
   "cell_type": "markdown",
   "metadata": {},
   "source": [
    "### ○ 실습 문제"
   ]
  },
  {
   "cell_type": "markdown",
   "metadata": {},
   "source": [
    "#### <a id='G01'>[G01] 나이 계산 및 연령대 판정</a>\n",
    "최대 100명까지 사람들의 태어난 년도를 입력받아 나이를 계산한 후, 그 값을 저장하되, 2012보다 큰 년도가 입력되기 전까지 태어난 년도를 반복하여 입력받도록 하라. 반복이 끝나면 지금까지 입력된 사람들의 나이를 모두 출력하고, 각자의 나이에 따라 유아, 어린이, 청소년, 청년, 중년, 노년 여부를 판정하여 이 중에 유아, 어린이, 청소년, 청년, 중년, 노년이 각각 몇 명인지 출력하라. 단, 나이 = 2019 – 태어난 년도 + 1 로 계산하고 연령대 구분은 다음과 같이 판정한다.\n",
    "\n",
    "- 7세 미만 : 유아\n",
    "- 7세 이상 ~ 13세 미만 : 어린이\n",
    "- 13세 이상 ~ 20세 미만 : 청소년\n",
    "- 20세 이상 ~ 30세 미만 : 청년\n",
    "- 30세 이상 ~ 60세 미만 : 중년\n",
    "- 60세 이상 : 노년\n",
    "\n",
    "변수는 다음과 같이 사용하라.\n",
    "```\n",
    "birth_year # 입력받은 태어난 년도\n",
    "age=[] # 각 사람들의 나이 (최대 100명)\n",
    "count_person # 입력된 인원 수\n",
    "count_baby # 유아 수\n",
    "count_child # 어린이 수\n",
    "count_youth # 청소년 수\n",
    "count_young # 청년 수\n",
    "count_adult # 중년 수\n",
    "count_old # 노년 수\n",
    "i # 반복문을 위한 변수\n",
    "```"
   ]
  },
  {
   "cell_type": "code",
   "execution_count": null,
   "metadata": {},
   "outputs": [],
   "source": []
  },
  {
   "cell_type": "code",
   "execution_count": null,
   "metadata": {
    "hideCode": true
   },
   "outputs": [],
   "source": [
    "age = []\n",
    "i = 1\n",
    "while i <= 100:\n",
    "    try:\n",
    "        birth_year = int(input(str(i)+\"번째 사람의 태어난 연도를 입력하세요 : \"))\n",
    "    except ValueError:\n",
    "        from sys import stderr\n",
    "        print(\"숫자를 입력하세요\", file=stderr)\n",
    "        continue\n",
    "    if birth_year > 2019:\n",
    "        break\n",
    "    age.append(2019 - birth_year + 1)\n",
    "    i+=1\n",
    "\n",
    "count_person = 0\n",
    "count_baby = 0\n",
    "count_child = 0\n",
    "count_youth = 0\n",
    "count_young = 0\n",
    "count_adult = 0\n",
    "count_old = 0\n",
    "for idx, a in enumerate(age):\n",
    "    print(str(idx+1)+\"번째 사람의 나이는 \"+str(a)+\"입니다.\")\n",
    "    if a < 7:\n",
    "        count_baby += 1\n",
    "    elif a < 13:\n",
    "        count_child += 1\n",
    "    elif a < 20:\n",
    "        count_youth += 1\n",
    "    elif a < 30:\n",
    "        count_young += 1\n",
    "    elif a < 60:\n",
    "        count_adult += 1\n",
    "    else:\n",
    "        count_old += 1\n",
    "\n",
    "print(\"유아는 \"+str(count_baby)+\"명 입니다\")\n",
    "print(\"어린이는 \"+str(count_child)+\"명 입니다\")\n",
    "print(\"청소년은 \"+str(count_youth)+\"명 입니다\")\n",
    "print(\"청년은 \"+str(count_young)+\"명 입니다\")\n",
    "print(\"중년은 \"+str(count_adult)+\"명 입니다\")\n",
    "print(\"노년은 \"+str(count_old)+\"명 입니다\")"
   ]
  },
  {
   "cell_type": "markdown",
   "metadata": {},
   "source": [
    "##### 실행 예시\n",
    "1번째 사람의 태어난 연도를 입력하세요 : 1996<br>\n",
    "2번째 사람의 태어난 연도를 입력하세요 : 2006<br>\n",
    "3번째 사람의 태어난 연도를 입력하세요 : 2009<br>\n",
    "4번째 사람의 태어난 연도를 입력하세요 : 1983<br>\n",
    "5번째 사람의 태어난 연도를 입력하세요 : 1959<br>\n",
    "6번째 사람의 태어난 연도를 입력하세요 : 1939<br>\n",
    "7번째 사람의 태어난 연도를 입력하세요 : 1952<br>\n",
    "8번째 사람의 태어난 연도를 입력하세요 : 1969<br>\n",
    "9번째 사람의 태어난 연도를 입력하세요 : 1981<br>\n",
    "10번째 사람의 태어난 연도를 입력하세요 : 2229<br>\n",
    "1번째 사람의 나이는 24입니다.<br>\n",
    "2번째 사람의 나이는 14입니다.<br>\n",
    "3번째 사람의 나이는 11입니다.<br>\n",
    "4번째 사람의 나이는 37입니다.<br>\n",
    "5번째 사람의 나이는 61입니다.<br>\n",
    "6번째 사람의 나이는 81입니다.<br>\n",
    "7번째 사람의 나이는 68입니다.<br>\n",
    "8번째 사람의 나이는 51입니다.<br>\n",
    "9번째 사람의 나이는 39입니다.<br>\n",
    "유아는 0명 입니다<br>\n",
    "어린이는 1명 입니다<br>\n",
    "청소년은 1명 입니다<br>\n",
    "청년은 1명 입니다<br>\n",
    "중년은 3명 입니다<br>\n",
    "노년은 3명 입니다"
   ]
  },
  {
   "cell_type": "markdown",
   "metadata": {},
   "source": [
    "***"
   ]
  },
  {
   "cell_type": "markdown",
   "metadata": {},
   "source": [
    "#### <a id='G02'>[G02] 물의 온도 구간 판정</a>\n",
    "물의 온도를 10회 입력받은 후, 이 물이 각각 어느 정도의 온수인지 판정하여 그 결과를 출력하라. 출력할 내용은 입력된 10개의 온도 값, 냉수 입력 횟수, 미온수 입력 횟수, 온수 입력 횟수, 끓는 물 입력 횟수이며, 각각 출력하라. 단, 온수의 판정 구간은 다음과 같이 판정한다.\n",
    "\n",
    "- 음수 값 (0 미만) : 잘못입력\n",
    "- 0도 ~ 25도 미만 : 냉수\n",
    "- 25도 ~ 40도 미만 : 미온수\n",
    "- 40도 ~ 80도 미만 : 온수\n",
    "- 80도 이상 : 끓는 물\n",
    "\n",
    "변수는 다음과 같이 사용하라.\n",
    "\n",
    "```\n",
    "input_degree # 입력받은 온도\n",
    "degrees = [] # 온도 리스트\n",
    "degree_name = [\"냉수\", \"미온수\", \"온수\", \"끓는물\"]\n",
    "count = [0,0,0,0] # 입력 횟수 목록 (순서대로 냉수 입력 횟수, 미온수 입력 횟수, 온수 입력 횟수, 끓는 물 입력 횟수)\n",
    "i # 반복문을 위한 변수\n",
    "sel # 온도 판정 번호 (0,1,2,3)\n",
    "```"
   ]
  },
  {
   "cell_type": "code",
   "execution_count": null,
   "metadata": {},
   "outputs": [],
   "source": []
  },
  {
   "cell_type": "code",
   "execution_count": null,
   "metadata": {
    "hideCode": true,
    "hidePrompt": false
   },
   "outputs": [],
   "source": [
    "degrees = []\n",
    "degree_name = [\"냉수\", \"미온수\", \"온수\", \"끓는물\"]\n",
    "count = [0,0,0,0]\n",
    "\n",
    "for i in range(10):\n",
    "    try:\n",
    "        a = float(input(str(i+1)+\"번 물의 온도를 입력하시오 : \"))\n",
    "    except ValueError:\n",
    "        continue\n",
    "    if a < 0:\n",
    "        print(\"음수입력\")\n",
    "        continue\n",
    "    degrees.append(a)\n",
    "\n",
    "print_msg = lambda idx, degree, msg: print(str(idx+1)+\"번 물의 온도는 \"+repr(degree)+\"도 입니다. \"+msg)\n",
    "\n",
    "for idx, degree in enumerate(degrees):\n",
    "    if degree < 25:\n",
    "        print_msg(idx, degree, \"냉수\")\n",
    "        count[0]+=1\n",
    "    elif degree < 40:\n",
    "        print_msg(idx, degree, \"미온수\")\n",
    "        count[1]+=1\n",
    "    elif degree < 80:\n",
    "        print_msg(idx, degree, \"온수\")\n",
    "        count[2]+=1\n",
    "    else:\n",
    "        print_msg(idx, degree, \"끓는 물\")\n",
    "        count[3]+=1\n",
    "print(\"냉수 입력 횟수 : \", count[0])\n",
    "print(\"미온수 입력 횟수 : \", count[1])\n",
    "print(\"온수 입력 횟수 : \", count[2])\n",
    "print(\"끓는물 입력 횟수 : \", count[3])"
   ]
  },
  {
   "cell_type": "markdown",
   "metadata": {},
   "source": [
    "##### 실행 예시\n",
    "1번 물의 온도를 입력하시오 : 10.5<br>\n",
    "2번 물의 온도를 입력하시오 : 25.1<br>\n",
    "3번 물의 온도를 입력하시오 : 88.4<br>\n",
    "4번 물의 온도를 입력하시오 : 45.0<br>\n",
    "5번 물의 온도를 입력하시오 : 30.5<br>\n",
    "6번 물의 온도를 입력하시오 : 15.7<br>\n",
    "7번 물의 온도를 입력하시오 : 46.7<br>\n",
    "8번 물의 온도를 입력하시오 : 85.0<br>\n",
    "9번 물의 온도를 입력하시오 : 68.0<br>\n",
    "10번 물의 온도를 입력하시오 : 0.5<br>\n",
    "1번 물의 온도는 10.5도 입니다. 냉수<br>\n",
    "2번 물의 온도는 25.1도 입니다. 미온수<br>\n",
    "3번 물의 온도는 88.4도 입니다. 끓는 물<br>\n",
    "4번 물의 온도는 45.0도 입니다. 온수<br>\n",
    "5번 물의 온도는 30.5도 입니다. 미온수<br>\n",
    "6번 물의 온도는 15.7도 입니다. 냉수<br>\n",
    "7번 물의 온도는 46.7도 입니다. 온수<br>\n",
    "8번 물의 온도는 85.0도 입니다. 끓는 물<br>\n",
    "9번 물의 온도는 68.0도 입니다. 온수<br>\n",
    "10번 물의 온도는 0.5도 입니다. 냉수<br>\n",
    "냉수 입력 횟수 :  3<br>\n",
    "미온수 입력 횟수 :  2<br>\n",
    "온수 입력 횟수 :  3<br>\n",
    "끓는물 입력 횟수 :  2"
   ]
  },
  {
   "cell_type": "markdown",
   "metadata": {},
   "source": [
    "***"
   ]
  },
  {
   "cell_type": "markdown",
   "metadata": {},
   "source": [
    "#### <a id='G03'>[G03] 점수 계산</a>\n",
    "학생 5명의 국어, 영어, 수학 점수를 각각 입력받아 저장한 후에, 다음 항목들을 계산하여 출력하라.\n",
    "1. 각 과목별 총점과 평균 점수\n",
    "2. 각 학생별 총점과 평균점수, 평균에 따른 등급\n",
    "\n",
    "등급은 다음과 같은 기준으로 결정하라.\n",
    "- 평균 90이상 : A\n",
    "- 평균 80이상 ~ 90미만 : B\n",
    "- 평균 70이상 ~ 80미만 : C\n",
    "- 평균 60이상 ~ 70미만 : D\n",
    "- 평균 60미만 : F\n",
    "\n",
    "변수는 다음과 같이 사용하라.\n",
    "```\n",
    "jumsu = [] # 5명의 3과목 점수, 총점, 평균, 등급을 저장하고 있는 중복 리스트\n",
    "\n",
    "class_score = [] # 3과목 총점과 평균을 저장하고 있는 중복 리스트\n",
    "class_name = [\"국어\", \"영어\", \"수학\"] # 과목명 리스트\n",
    "kor, eng, mat # 3과목 점수 입력을 위한 변수\n",
    "sum, average, grade # 총점, 평균, 등급 계산을 위한 변수\n",
    "i, j # 반복문을 위한 변수\n",
    "```"
   ]
  },
  {
   "cell_type": "code",
   "execution_count": null,
   "metadata": {},
   "outputs": [],
   "source": []
  },
  {
   "cell_type": "code",
   "execution_count": null,
   "metadata": {
    "hideCode": true
   },
   "outputs": [],
   "source": [
    "jumsu=[]\n",
    "class_score=[[0,0],[0,0],[0,0]]\n",
    "class_name=[\"국어\",\"영어\",\"수학\"]\n",
    "\n",
    "for i in range(5):\n",
    "  kor,eng,mat=input(\"%s번 학생의 국어, 영어, 수학 점수는? \"%str(i+1)).split()\n",
    "  kor=int(kor)\n",
    "  eng=int(eng)\n",
    "  mat=int(mat)\n",
    "  class_score[0][0]+=kor\n",
    "  class_score[1][0]+=eng\n",
    "  class_score[2][0]+=mat\n",
    "  sum=kor+eng+mat\n",
    "  average=sum/3\n",
    "  if average>=90:\n",
    "    grade='A'\n",
    "  elif 80<=average<90:\n",
    "    grade='B'\n",
    "  elif 70<=average<80:\n",
    "    grade='C'\n",
    "  elif 60<=average<70:\n",
    "    grade='D'\n",
    "  else:\n",
    "    grade='F'\n",
    "\n",
    "  jumsu.append([kor,eng,mat,sum,average,grade])\n",
    "  \n",
    "\n",
    "for i in range(3):\n",
    "  class_score[i][1]=class_score[i][0]/5\n",
    "\n",
    "print(\"\\n1) 각 과목별 총점과 평균 점수\")\n",
    "for i in range(3):\n",
    "  print(\"%s 과목 총점은 %d 평균은 %.1f입니다.\"%(class_name[i], class_score[i][0], class_score[i][1]))\n",
    "\n",
    "print(\"\\n2) 각 학생별 총점과 평균 점수\")\n",
    "for i in range(5):\n",
    "  print(\"%d번 학생 점수 : 총점 %d, 평균 %.1f, 등급 %s\"%(i, jumsu[i][3], jumsu[i][4], jumsu[i][5]))\n"
   ]
  },
  {
   "cell_type": "markdown",
   "metadata": {},
   "source": [
    "##### 실행 예시\n",
    "1번 학생의 국어, 영어, 수학 점수는? 85 95 75<br>\n",
    "2번 학생의 국어, 영어, 수학 점수는? 90 80 70<br>\n",
    "3번 학생의 국어, 영어, 수학 점수는? 65 85 75<br>\n",
    "4번 학생의 국어, 영어, 수학 점수는? 60 70 80<br>\n",
    "5번 학생의 국어, 영어, 수학 점수는? 60 50 60\n",
    "\n",
    "1) 각 과목별 총점과 평균 점수<br>\n",
    "국어 과목 총점은 360 평균은 72.0입니다.<br>\n",
    "영어 과목 총점은 380 평균은 76.0입니다.<br>\n",
    "수학 과목 총점은 360 평균은 72.0입니다.\n",
    "\n",
    "2) 각 학생별 총점과 평균 점수<br>\n",
    "0번 학생 점수 : 총점 255, 평균 85.0, 등급 B<br>\n",
    "1번 학생 점수 : 총점 240, 평균 80.0, 등급 B<br>\n",
    "2번 학생 점수 : 총점 225, 평균 75.0, 등급 C<br>\n",
    "3번 학생 점수 : 총점 210, 평균 70.0, 등급 C<br>\n",
    "4번 학생 점수 : 총점 170, 평균 56.7, 등급 F"
   ]
  },
  {
   "cell_type": "markdown",
   "metadata": {},
   "source": [
    "***"
   ]
  },
  {
   "cell_type": "markdown",
   "metadata": {},
   "source": [
    "#### <a id='G04'>[G04] 부동산 중개 수수료 계산기</a>\n",
    "부동산 거래종류(1:매매, 2:임대, 0:계산종료)와 거래금액을 입력받은 후에 이에 대한 중개 수수료를 계산하여 출력하라. 입력과 출력을 계속 반복하되 계산종료(0)를 입력하면 반복을 중단하고 지금까지의 수수료 총액을 출력하라.\n",
    "\n",
    "중개 수수료 계산 방법은 아래 표를 참고하라.\n",
    "\n",
    "| 매매 거래금액 | 수수료 비율 | 상한금액 |\n",
    "| --- | --- | --- |\n",
    "| 5천만원 미만 | 0.6% | 250,000 |\n",
    "| 5천만원 이상 ~ 2억원 미만 | 0.5% | 800,000 |\n",
    "| 2억원 이상 | 0.4% | 없음 |\n",
    "\n",
    "| 임대 거래금액 | 수수료 비율 | 상한금액 |\n",
    "| --- | --- | --- |\n",
    "| 2천만원 미만 | 0.5% | 70,000 |\n",
    "| 2천만원 이상 ~ 5천만원 미만 | 0.5% | 200,000 |\n",
    "| 5천만원 이상 ~ 1억원 미만 | 0.4% | 300,000 |\n",
    "| 1억원 이상 | 0.3% | 없음|\n",
    "    \n",
    "변수는 다음과 같이 사용하라.\n",
    "```\n",
    "kind # 거래종류(1:매매, 2:임대, 0:계산종료)\n",
    "money # 거래금액\n",
    "charge # 중개 수수료\n",
    "total_charge # 수수료 총액\n",
    "```"
   ]
  },
  {
   "cell_type": "code",
   "execution_count": null,
   "metadata": {},
   "outputs": [],
   "source": []
  },
  {
   "cell_type": "code",
   "execution_count": null,
   "metadata": {
    "hideCode": true
   },
   "outputs": [],
   "source": [
    "total_charge=0\n",
    "\n",
    "while 1:\n",
    "  #int 해도 되고 안해도 됨\n",
    "  kind=input(\"부동산 거래종류(1:매매, 2:임대, 0:계산종료)를 입력하세요 : \")\n",
    "  if kind=='0':\n",
    "    break\n",
    "  money=int(input(\"부동산 거래금액(원)을 입력하세요 : \"))\n",
    "\n",
    "  if kind=='1':\n",
    "    if money<5*10**7:\n",
    "      charge=money*0.006\n",
    "      if charge>25*10**4:\n",
    "        charge=25*10**4\n",
    "    elif 5*10**7<=money<2*10**8:\n",
    "      charge=money*0.005\n",
    "      if charge>8*10**5:\n",
    "        charge=8*10**5\n",
    "    else:\n",
    "      charge=money*0.004\n",
    "  elif kind=='2':\n",
    "    if money<2*10**7:\n",
    "      charge=money*0.005\n",
    "      if charge>7*10**4:\n",
    "        charge=7*10**4\n",
    "    elif 2*10**7<=money<5*10**7:\n",
    "      charge=money*0.005\n",
    "      if charge>2*10**5:\n",
    "        charge=2*10**5\n",
    "    elif 5*10**7<=money<10**8:\n",
    "      charge=money*0.004\n",
    "      if charge>3*10**5:\n",
    "        charge=3*10**5\n",
    "    else:\n",
    "      charge=money*0.003\n",
    "  total_charge+=charge\n",
    "  print(\"이에 대한 중개 수수료는 %d원입니다.\"%charge)\n",
    "\n",
    "print(\"지금까지의 수수료 총액은 %d원입니다.\"%total_charge) \n",
    " "
   ]
  },
  {
   "cell_type": "markdown",
   "metadata": {},
   "source": [
    "##### 실행 예시\n",
    "부동산 거래종류(1:매매, 2:임대, 0:계산종료)를 입력하세요 : 1<br>\n",
    "부동산 거래금액(원)을 입력하세요 : 48000000<br>\n",
    "이에 대한 중개 수수료는 250000원입니다.<br>\n",
    "부동산 거래종류(1:매매, 2:임대, 0:계산종료)를 입력하세요 : 1<br>\n",
    "부동산 거래금액(원)을 입력하세요 : 70000000<br>\n",
    "이에 대한 중개 수수료는 350000원입니다.<br>\n",
    "부동산 거래종류(1:매매, 2:임대, 0:계산종료)를 입력하세요 : 1<br>\n",
    "부동산 거래금액(원)을 입력하세요 : 250000000<br>\n",
    "이에 대한 중개 수수료는 1000000원입니다.<br>\n",
    "부동산 거래종류(1:매매, 2:임대, 0:계산종료)를 입력하세요 : 2<br>\n",
    "부동산 거래금액(원)을 입력하세요 : 19000000<br>\n",
    "이에 대한 중개 수수료는 70000원입니다.<br>\n",
    "부동산 거래종류(1:매매, 2:임대, 0:계산종료)를 입력하세요 : 2<br>\n",
    "부동산 거래금액(원)을 입력하세요 : 48000000<br>\n",
    "이에 대한 중개 수수료는 200000원입니다.<br>\n",
    "부동산 거래종류(1:매매, 2:임대, 0:계산종료)를 입력하세요 : 2<br>\n",
    "부동산 거래금액(원)을 입력하세요 : 70000000<br>\n",
    "이에 대한 중개 수수료는 280000원입니다.<br>\n",
    "부동산 거래종류(1:매매, 2:임대, 0:계산종료)를 입력하세요 : 2<br>\n",
    "부동산 거래금액(원)을 입력하세요 : 19000000<br>\n",
    "이에 대한 중개 수수료는 70000원입니다.<br>\n",
    "부동산 거래종류(1:매매, 2:임대, 0:계산종료)를 입력하세요 : 0<br>\n",
    "지금까지의 수수료 총액은 2220000원입니다."
   ]
  },
  {
   "cell_type": "markdown",
   "metadata": {},
   "source": [
    "***"
   ]
  },
  {
   "cell_type": "markdown",
   "metadata": {},
   "source": [
    "#### <a id='G05'>[G05] PC방 이용료 계산기</a>\n",
    "PC방 이용료를 계산하는 프로그램을 작성하라. 사용한 시간(시간, 분)을 입력받은 후 이에 따른 이용료를 화면에 출력하는 것을 반복한다. 시간과 분이 모두 0으로 입력되면 계산을 마치고 지금까지의 이용료 총금액을 출력하라. 단, 이용료는 매 30분 당 1,000원씩으로 계산하며, 다음과 같이 시간에 따라 할인혜택을 적용한다.\n",
    "1. 2시간 이상 3시간 미만 이용자는 비용의 5%를 할인받는다.\n",
    "2. 3시간 이상 5시간 미만 이용자는 비용의 10%를 할인받는다.\n",
    "3. 5시간 이상 이용자는 비용의 20%를 할인받는다.\n",
    "\n",
    "예) 이용시간이 4시간 20분이면 정상금액 9,000원에서 10% 할인을 받아 이용료는 8,100원이 된다.\n",
    "\n",
    "변수는 다음과 같이 사용한다.\n",
    "\n",
    "```\n",
    "hour, minute # 이용한 시간, 분\n",
    "charge # 이용료\n",
    "total_charge # 이용료 총액\n",
    "```"
   ]
  },
  {
   "cell_type": "code",
   "execution_count": null,
   "metadata": {},
   "outputs": [],
   "source": []
  },
  {
   "cell_type": "code",
   "execution_count": null,
   "metadata": {
    "hideCode": true
   },
   "outputs": [],
   "source": [
    "total_charge=0\n",
    "\n",
    "while 1:\n",
    "  hour,minute=input(\"사용한 시간을 시간과 분으로 입력하세요. : \").split()\n",
    "  hour=int(hour)\n",
    "  minute=int(minute)\n",
    "  if hour==0 and minute==0:\n",
    "    break\n",
    "  if (hour*60+minute)%30==0:\n",
    "    charge=(hour*60+minute)/30*1000\n",
    "  else:\n",
    "    charge=((hour*60+minute)//30+1)*1000\n",
    "\n",
    "  if 120<=hour*60+minute<180:\n",
    "    charge-=charge*0.05\n",
    "  elif 180<=hour*60+minute<300:\n",
    "    charge-=charge*0.10\n",
    "  elif hour*60+minute>300:\n",
    "    charge-=charge*0.20\n",
    "    \n",
    "  total_charge+=charge\n",
    "  print(\"고객님의 이용료는 %d원입니다.\"%charge)\n",
    "  \n",
    "print(\"\\n지금까지의 이용료 총금액은 %d원입니다.\"%total_charge)"
   ]
  },
  {
   "cell_type": "markdown",
   "metadata": {},
   "source": [
    "##### 실행 예시\n",
    "사용한 시간을 시간과 분으로 입력하세요. : 1 20<br>\n",
    "고객님의 이용료는 3000원입니다.<br>\n",
    "사용한 시간을 시간과 분으로 입력하세요. : 2 40<br>\n",
    "고객님의 이용료는 5700원입니다.<br>\n",
    "사용한 시간을 시간과 분으로 입력하세요. : 4 20<br>\n",
    "고객님의 이용료는 8100원입니다.<br>\n",
    "사용한 시간을 시간과 분으로 입력하세요. : 6 0<br>\n",
    "고객님의 이용료는 9600원입니다.<br>\n",
    "사용한 시간을 시간과 분으로 입력하세요. : 3 30<br>\n",
    "고객님의 이용료는 6300원입니다.<br>\n",
    "사용한 시간을 시간과 분으로 입력하세요. : 1 50<br>\n",
    "고객님의 이용료는 4000원입니다.<br>\n",
    "사용한 시간을 시간과 분으로 입력하세요. : 0 50<br>\n",
    "고객님의 이용료는 2000원입니다.<br>\n",
    "사용한 시간을 시간과 분으로 입력하세요. : 3 40<br>\n",
    "고객님의 이용료는 7200원입니다.<br>\n",
    "사용한 시간을 시간과 분으로 입력하세요. : 2 10<br>\n",
    "고객님의 이용료는 4750원입니다.<br>\n",
    "사용한 시간을 시간과 분으로 입력하세요. : 2 59<br>\n",
    "고객님의 이용료는 5700원입니다.<br>\n",
    "사용한 시간을 시간과 분으로 입력하세요. : 0 0\n",
    "\n",
    "지금까지의 이용료 총금액은 56350원입니다."
   ]
  },
  {
   "cell_type": "markdown",
   "metadata": {},
   "source": [
    "***"
   ]
  },
  {
   "cell_type": "markdown",
   "metadata": {},
   "source": [
    "#### <a id='G06'>[G06] 쇼핑몰 매출 계산기 </a>\n",
    "어떤 가게에서 세 종류의 제품(가죽장갑 1만원, 털장갑 6천원, 비닐장갑 3천원)을 판매하고 있다. 손님들이 들어오면 이 제품들에 대해 각각 몇 개를 구입할 것인지를 입력받아서 판매금액을 계산하여 출력하라. 구입개수를 모두 0으로 입력하게 되면 판매가 종료되도록 하며, 지금까지 판매한 제품의 종류별 개수와 총 매출금액을 화면에 출력하라.\n",
    "\n",
    "변수는 다음과 같이 사용한다.\n",
    "\n",
    "```\n",
    "order = [0,0,0] # 입력받는 구매 제품 개수 리스트 [가죽장갑, 털장갑, 비닐장갑]\n",
    "sale # 계산한 판매금액\n",
    "total_sale # 총 매출액 총액\n",
    "total_order = [0,0,0] # 총 판매 개수 리스트 [가죽장갑, 털장갑, 비닐장갑]\n",
    "price = [1000, 6000, 3000]# 제품별 가격\n",
    "i # 반복문을 위한 변수\n",
    "```"
   ]
  },
  {
   "cell_type": "code",
   "execution_count": null,
   "metadata": {},
   "outputs": [],
   "source": []
  },
  {
   "cell_type": "code",
   "execution_count": null,
   "metadata": {
    "hideCode": true
   },
   "outputs": [],
   "source": [
    "order=[0,0,0]\n",
    "total_order=[0,0,0]\n",
    "price=[10000,6000,3000]\n",
    "total_sale=0\n",
    "\n",
    "print(\"세 종류의 제품이 있습니다.\\n(1. 가죽장갑 1만원 2. 털장갑 6천원 3. 비닐장갑 3천원)\\n\")\n",
    "\n",
    "while 1:\n",
    "  for i in range(3):\n",
    "    order[i]=int(input(\"%d번 제품은 몇개를 구입하실래요? \"%(i+1)))\n",
    "    total_order[i]+=order[i]\n",
    "  \n",
    "  if order[0]==0 and order[1]==0 and order[2]==0:\n",
    "    break\n",
    "\n",
    "  sale=0\n",
    "  for i in range(3):\n",
    "    sale+=price[i]*order[i]\n",
    "  total_sale+=sale\n",
    "\n",
    "  print(\"판매금액은 %d원입니다.\\n\"%sale)\n",
    "\n",
    "print(\"지금까지 가죽장갑 %d개, 털장갑 %d개, 비닐장갑 %d개로 총 매출금액은 %d원입니다.\"%(total_order[0], total_order[1], total_order[2], total_sale))\n"
   ]
  },
  {
   "cell_type": "markdown",
   "metadata": {},
   "source": [
    "##### 실행 예시\n",
    "세 종류의 제품이 있습니다.<br>\n",
    "(1. 가죽장갑 1만원 2. 털장갑 6천원 3. 비닐장갑 3천원)<br>\n",
    "\n",
    "1번 제품은 몇개를 구입하실래요? 1<br>\n",
    "2번 제품은 몇개를 구입하실래요? 1<br>\n",
    "3번 제품은 몇개를 구입하실래요? 1<br>\n",
    "판매금액은 19000원입니다.\n",
    "\n",
    "1번 제품은 몇개를 구입하실래요? 2<br>\n",
    "2번 제품은 몇개를 구입하실래요? 3<br>\n",
    "3번 제품은 몇개를 구입하실래요? 4<br>\n",
    "판매금액은 50000원입니다.\n",
    "\n",
    "1번 제품은 몇개를 구입하실래요? 0<br>\n",
    "2번 제품은 몇개를 구입하실래요? 20<br>\n",
    "3번 제품은 몇개를 구입하실래요? 1<br>\n",
    "판매금액은 123000원입니다.\n",
    "\n",
    "1번 제품은 몇개를 구입하실래요? 3<br>\n",
    "2번 제품은 몇개를 구입하실래요? 5<br>\n",
    "3번 제품은 몇개를 구입하실래요? 5<br>\n",
    "판매금액은 75000원입니다.\n",
    "\n",
    "1번 제품은 몇개를 구입하실래요? 0<br>\n",
    "2번 제품은 몇개를 구입하실래요? 0<br>\n",
    "3번 제품은 몇개를 구입하실래요? 0<br>\n",
    "지금까지 가죽장갑 6개, 털장갑 29개, 비닐장갑 11개로 총 매출금액은 267000원입니다."
   ]
  },
  {
   "cell_type": "markdown",
   "metadata": {},
   "source": [
    "***"
   ]
  },
  {
   "cell_type": "markdown",
   "metadata": {},
   "source": [
    "#### <a id='G07'>[G07] 놀이공원 매표소 </a>\n",
    "놀이공원 매표소 프로그램을 제작하라. 프로그램 시작하면 몇 팀이 방문하였는지 입력받아 팀의 수만큼 다음\n",
    "과 같은 순서로 진행하도록 한다.\n",
    "1. 팀별 인원 구성을 입력받는다. 인원구성은 (초등학생, 청소년, 일반인, 경로대상) 4종류별 인원수를 숫자로 입력받는다.\n",
    "2. 팀별 정상요금을 계산한다. 1인당 요금은 다음과 같다.\n",
    "    - 초등학생 : 5000원\n",
    "    - 청소년 : 10000원\n",
    "    - 일반인 : 15000원\n",
    "    - 경로대상 : 3000원\n",
    "3. 팀 별로 할인카드 소지 여부를 확인한다. 할인카드 종류별 할인율은 다음과 같다.\n",
    "    - 카드없음 : 할인 없음\n",
    "    - 일반등급 카드 : 10% 할인\n",
    "    - VIP 등급 카드 : 20% 할인\n",
    "4. 최종 계산된 팀별 입장료를 출력한다.\n",
    "\n",
    "모든 팀에 대한 처리가 완료되면 다음 내용을 화면에 출력하라.\n",
    "- 총 방문자 수\n",
    "- 인원구성별 방문자 합계 (4 종류)\n",
    "- 총 입장료\n",
    "\n",
    "변수는 다음과 같이 사용하라.\n",
    "\n",
    "```\n",
    "team_count # 방문한 팀수\n",
    "charge = [5000, 10000, 15000, 3000] # 연령별 수\n",
    "count = [] # 입력받은 연령별 인원 수\n",
    "v_count = [] # 연령별 방문자 합계\n",
    "total_count = 0 # 총 방문자 수\n",
    "sum # 팀별 계산한 요금\n",
    "total_sum =0 # 총 요금\n",
    "membership = 0 # 할인카드 종류 (카드없음 : 0, 일반등급 카드 : 1, VIP 등급 카드 : 2)\n",
    "i, j # 반복문을 위한 변수\n",
    "```"
   ]
  },
  {
   "cell_type": "code",
   "execution_count": null,
   "metadata": {},
   "outputs": [],
   "source": []
  },
  {
   "cell_type": "code",
   "execution_count": null,
   "metadata": {
    "hideCode": true
   },
   "outputs": [],
   "source": [
    "team_count=int(input(\"오늘 방문한 팀 수를 입력하세요. \"))\n",
    "charge=[5000,10000,15000,3000]\n",
    "count=[0,0,0,0]\n",
    "v_count=[0, 0, 0, 0]\n",
    "total_count=0\n",
    "total_sum=0\n",
    "\n",
    "for i in range(team_count):\n",
    "  count[0],count[1],count[2],count[3]=input(\"%s번팀 인원수(초등학생, 청소년, 일반, 경로대상)를 입력하세요. \"%str(i+1)).split()\n",
    "  sum=0\n",
    "  for j in range(4):\n",
    "    count[j]=int(count[j])\n",
    "    v_count[j]+=count[j]\n",
    "    total_count+=count[j]\n",
    "    sum+=count[j]*charge[j]\n",
    "\n",
    "  membership=int(input(\"%d번팀 할인카드 종류(카드없음:0, 일반등급:1, VIP등급:2)를 입력하세요. \"%(i+1)))\n",
    "  if membership==1:\n",
    "    sum-=sum*0.1\n",
    "  elif membership==2:\n",
    "    sum-=sum*0.2\n",
    "  total_sum+=sum\n",
    "\n",
    "  print(\"%d번팀 입장료는 %d원입니다.\"%(i+1, sum))\n",
    "\n",
    "print(\"\\n오늘 총 방문자 수는 %d명입니다.\\n초등학생 수는 %d명입니다.\\n청소년 수는 %d명입니다\\n일반인 수는 %d명입니다.\\n경로대상 수는 %d명입니다.\\n\\n총 입장료는 %d원입니다.\"%(total_count, v_count[0],v_count[1],v_count[2],v_count[3],total_sum))\n"
   ]
  },
  {
   "cell_type": "markdown",
   "metadata": {},
   "source": [
    "##### 실행 예시\n",
    "오늘 방문한 팀 수를 입력하세요. 4<br>\n",
    "1번팀 인원수(초등학생, 청소년, 일반, 경로대상)를 입력하세요. 2 1 2 0<br>\n",
    "1번팀 할인카드 종류(카드없음:0, 일반등급:1, VIP등급:2)를 입력하세요. 2<br>\n",
    "1번팀 입장료는 40000원입니다.<br>\n",
    "2번팀 인원수(초등학생, 청소년, 일반, 경로대상)를 입력하세요. 5 0 1 0<br>\n",
    "2번팀 할인카드 종류(카드없음:0, 일반등급:1, VIP등급:2)를 입력하세요. 0<br>\n",
    "2번팀 입장료는 40000원입니다.<br>\n",
    "3번팀 인원수(초등학생, 청소년, 일반, 경로대상)를 입력하세요. 4 0 2 2<br>\n",
    "3번팀 할인카드 종류(카드없음:0, 일반등급:1, VIP등급:2)를 입력하세요. 1<br>\n",
    "3번팀 입장료는 50400원입니다.<br>\n",
    "4번팀 인원수(초등학생, 청소년, 일반, 경로대상)를 입력하세요. 0 5 1 0<br>\n",
    "4번팀 할인카드 종류(카드없음:0, 일반등급:1, VIP등급:2)를 입력하세요. 0<br>\n",
    "4번팀 입장료는 65000원입니다.\n",
    "\n",
    "오늘 총 방문자 수는 25명입니다.<br>\n",
    "초등학생 수는 11명입니다.<br>\n",
    "청소년 수는 6명입니다<br>\n",
    "일반인 수는 6명입니다.<br>\n",
    "경로대상 수는 2명입니다.\n",
    "\n",
    "총 입장료는 195400원입니다."
   ]
  }
 ],
 "metadata": {
  "celltoolbar": "Hide code",
  "kernelspec": {
   "display_name": "Python 3",
   "language": "python",
   "name": "python3"
  },
  "language_info": {
   "codemirror_mode": {
    "name": "ipython",
    "version": 3
   },
   "file_extension": ".py",
   "mimetype": "text/x-python",
   "name": "python",
   "nbconvert_exporter": "python",
   "pygments_lexer": "ipython3",
   "version": "3.7.3"
  }
 },
 "nbformat": 4,
 "nbformat_minor": 2
}
