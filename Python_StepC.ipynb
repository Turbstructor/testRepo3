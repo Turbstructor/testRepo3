{
 "cells": [
  {
   "cell_type": "markdown",
   "metadata": {},
   "source": [
    "# 영역 1. 프로그래밍 제어구조 기초\n",
    "영역 1에서는 프로그래밍의 가장 기본이 되는 변수의 사용과 입출력 처리 방법, 조건문과 반복문을 통한 제어구조의 기초를 연습한다.\n",
    "\n",
    "영역 1은 다음과 같이 4개의 단계로 구성된다.\n",
    "- [[Step A] : 변수의 사용과 데이터 입출력](Python_StepA.ipynb#Intro)\n",
    "- [[Step B] : 단순 조건문 사용하기](Python_StepB.ipynb#Intro)\n",
    "- [[Step C] : 복합 조건문 사용하기](#Intro)\n",
    "- [[Step D] : 반복문 사용하기](Python_StepD.ipynb#Intro)"
   ]
  },
  {
   "cell_type": "markdown",
   "metadata": {},
   "source": [
    "***"
   ]
  },
  {
   "cell_type": "markdown",
   "metadata": {},
   "source": [
    "## <a id='Intro'>[Step C] 복합 조건문 사용하기</a>\n",
    "조건문을 사용하여 프로그램을 만드는 경우에 단순하게 조건문이 참이냐 거짓이냐 만으로 구분할 수 없는 복잡한 경우가 있다. 즉 조건문이 연속으로 필요한 경우에는 다음과 같은 형식의 조건문을 사용해야 한다.\n",
    "```\n",
    "if 첫 번째 조건문 :\n",
    "    첫 번째 조건문이 참인 경우에 수행해야 하는 구문들\n",
    "elif 두 번째 조건문 :\n",
    "    첫 번째 조건문이 거짓이고 두 번째 조건문이 참인 경우에 수행해야 하는 구문들\n",
    "elif 세 번째 조건문 :\n",
    "    첫 번째 조건문과 두 번째 조건문 모두 거짓이고 세 번째 조건문이 참인 경우에 수행해야 하는 구문들\n",
    "...\n",
    "else :\n",
    "    위에서의 모든 조건문이 전부 거짓인 경우에 수행해야 하는 구문들\n",
    "```\n",
    "\n",
    "예를 들어 숫자를 하나 입력받은 후에 이 숫자가 양수인지, 0인지, 음수인지를 판별하는 경우를 생각해보자. 이 때 생각해 볼 수 있는 조건문은 (숫자가 양수이다) 와 (숫자가 음수이다) 와 (숫자가 0이다) 의 세 종류가 필요하다."
   ]
  },
  {
   "cell_type": "code",
   "execution_count": null,
   "metadata": {},
   "outputs": [],
   "source": [
    "num1 = int(input(\"정수 하나를 입력하세요 : \"))\n",
    "if num1 > 0 : # 첫 번째 조건 : num1이 양수인가?\n",
    "    print(\"숫자는 양수 입니다.\")\n",
    "elif num1 < 0 : # 두 번째 조건 : num1이 양수는 아니고 음수인가?\n",
    "    print(\"숫자는 음수 입니다.\")\n",
    "else : # 마지막 조건 : num1이 양수도 음수도 아닌가?\n",
    "    print(\"숫자는 0입니다.\")"
   ]
  },
  {
   "cell_type": "markdown",
   "metadata": {},
   "source": [
    "그러면 이런 복합 조건문을 이용하는 간단한 프로그램을 만들어보자. 문제는 2개의 숫자를 입력받아 이 숫자 중에 어떤 숫자가 더 큰 수인지를 판정하는 것이다. 이 문제를 해결하기 위해 다음과 같은 순서를 생각하자.\n",
    "1. 숫자 2개의 값을 입력받는다.\n",
    "2. 만일 첫 번째 숫자가 두 번째 숫자보다 크면 “첫 번째 숫자가 두 번째 숫자보다 큽니다.”라고 출력한다.\n",
    "3. 그렇지 않고 만일 두 번째 숫자가 첫 번째 숫자보다 크면 “두 번째 숫자가 첫 번째 숫자보다 큽니다.”라고 출력한다.\n",
    "4. 위 2번과 3번 조건 모두에 해당되지 않는 경우에는 “두 숫자는 같습니다.”라고 출력한다.\n",
    "\n",
    "이 문제를 해결하는 프로그램은 다음과 같다."
   ]
  },
  {
   "cell_type": "code",
   "execution_count": null,
   "metadata": {},
   "outputs": [],
   "source": [
    "num1, num2 = input(\"숫자 2개를 입력하시오. \").split()\n",
    "num1 = int(num1)\n",
    "num2 = int(num2)\n",
    "\n",
    "if num1 > num2 :\n",
    "    print(\"첫 번째 숫자가 두 번째 숫자보다 큽니다.\")\n",
    "elif num1 < num2 :\n",
    "    print(\"두 번째 숫자가 첫 번째 숫자보다 큽니다.\")\n",
    "else :\n",
    "    print(\"두 수는 같습니다.\")"
   ]
  },
  {
   "cell_type": "markdown",
   "metadata": {},
   "source": [
    "위의 프로그램을 수행하였을 때, 첫 번째 숫자가 더 큰 경우와 두 번째 숫자가 더 큰 경우, 그리고 두 숫자가 같은 경우에 따라 출력 내용이 달라지는 것을 확인할 수 있다."
   ]
  },
  {
   "cell_type": "markdown",
   "metadata": {},
   "source": [
    "***\n",
    "***"
   ]
  },
  {
   "cell_type": "markdown",
   "metadata": {},
   "source": [
    "### ○ 실습 문제"
   ]
  },
  {
   "cell_type": "markdown",
   "metadata": {},
   "source": [
    "#### <a id='C01'>[C01] 나이 계산 및 연령대 판정</a>\n",
    "태어난 년도를 입력받아 나이를 계산한 후, 나이에 따라 유아, 어린이, 청소년, 청년, 중년, 노년 여부를 판정하여 그 결과를 출력하라. 단, 나이 = 2019 – 태어난 년도 + 1로 계산하고 연령대 구분은 다음과 같이 판정한다.\n",
    "```\n",
    "7세 미만 : 유아,\n",
    "7세 이상 ~ 13세 미만 : 어린이,\n",
    "13세 이상 ~ 20세 미만 : 청소년,\n",
    "20세 이상 ~ 30세 미만 : 청년,\n",
    "30세 이상 ~ 60세 미만 : 중년,\n",
    "60세 이상 : 노년\n",
    "```\n",
    "\n",
    "변수는 다음과 같이 사용하라.\n",
    "```\n",
    "birth_year # 태어난 년도\n",
    "age # 나이\n",
    "```"
   ]
  },
  {
   "cell_type": "code",
   "execution_count": null,
   "metadata": {},
   "outputs": [],
   "source": []
  },
  {
   "cell_type": "code",
   "execution_count": null,
   "metadata": {
    "hideCode": true
   },
   "outputs": [],
   "source": [
    "birth_year = int(input(\"태어난 년도를 입력하세요 : \"))\n",
    "age = 2019 - birth_year + 1\n",
    "\n",
    "if age <= 0: print(\"세상에 나오지 않았습니다.\")\n",
    "elif age < 7: print(\"유아입니다.\")\n",
    "elif age < 13: print(\"어린이입니다.\")\n",
    "elif age < 20: print(\"청소년입니다.\")\n",
    "elif age < 30: print(\"청년입니다.\")\n",
    "elif age < 60: print(\"중년입니다.\")\n",
    "else: print(\"노년입니다.\")"
   ]
  },
  {
   "cell_type": "markdown",
   "metadata": {},
   "source": [
    "##### 실행 예시 #1\n",
    "태어난 년도를 입력하세요 : 1985<br>\n",
    "중년입니다.\n",
    "\n",
    "##### 실행 예시 #2\n",
    "태어난 년도를 입력하세요 : 1996<br>\n",
    "청년입니다.\n",
    "\n",
    "##### 실행 예시 #3\n",
    "태어난 년도를 입력하세요 : 2005<br>\n",
    "청소년입니다.\n",
    "\n",
    "##### 실행 예시 #4\n",
    "태어난 년도를 입력하세요 : 1955<br>\n",
    "노년입니다."
   ]
  },
  {
   "cell_type": "markdown",
   "metadata": {},
   "source": [
    "***"
   ]
  },
  {
   "cell_type": "markdown",
   "metadata": {},
   "source": [
    "#### <a id='C02'>[C02] 물의 온도 구간 판정</a>\n",
    "물의 온도를 입력받은 후, 이 물이 어느 정도의 온수인지 판정하여 그 결과를 출력하라. 단, 온수의 판정 구간은 다음과 같이 판정한다.\n",
    "- 음수값 (0 미만) : 잘못 입력\n",
    "- 0도 이상 ~ 25도 미만 : 냉수\n",
    "- 25도 이상 ~ 40도 미만 : 미온수\n",
    "- 40도 이상 ~ 80도 미만 : 온수\n",
    "- 80도 이상 : 끓는 물\n",
    "\n",
    "변수는 다음과 같이 사용하라.\n",
    "```\n",
    "input_degree # 입력받은 온도\n",
    "```"
   ]
  },
  {
   "cell_type": "code",
   "execution_count": null,
   "metadata": {},
   "outputs": [],
   "source": []
  },
  {
   "cell_type": "code",
   "execution_count": null,
   "metadata": {
    "hideCode": true
   },
   "outputs": [],
   "source": [
    "input_degree = float(input(\"물의 온도를 입력하세요 : \"))\n",
    "\n",
    "if input_degree < 0: print(\"잘못 입력하셨습니다.\")\n",
    "elif input_degree < 25: print(\"냉수입니다.\")\n",
    "elif input_degree < 40: print(\"미온수입니다.\")\n",
    "elif input_degree < 80: print(\"온수입니다.\")\n",
    "else: print(\"끓는 물입니다.\")"
   ]
  },
  {
   "cell_type": "markdown",
   "metadata": {},
   "source": [
    "##### 실행 예시 #1\n",
    "물의 온도를 입력하세요 : 30.7<br>\n",
    "미온수입니다.\n",
    "\n",
    "##### 실행 예시 #2\n",
    "물의 온도를 입력하세요 : 79.9<br>\n",
    "온수입니다."
   ]
  },
  {
   "cell_type": "markdown",
   "metadata": {},
   "source": [
    "***"
   ]
  },
  {
   "cell_type": "markdown",
   "metadata": {},
   "source": [
    "#### <a id='C03'>[C03] 직사각형 형태 판정</a>\n",
    "직사각형의 가로크기와 세로크기를 입력받아 이 값을 이용하여 직사각형의 모양에 대해 평가하는 내용을 출력하라. 단, 평가 내용은 다음 중 1가지 경우로 결정한다.\n",
    "- 가로 크기와 세로 크기가 동일 : \"정사각형입니다.\"\n",
    "- 가로 크기가 세로 크기의 2배 이상 : \"좌우로 길쭉한 직사각형입니다.\"\n",
    "- 세로 크기가 가로 크기의 2배 이상 : \"위아래로 길쭉한 직사각형입니다.\"\n",
    "- 가로 크기가 세로 크기보다 크면 : \"일반적인 가로형 직사각형입니다\"\n",
    "- 세로 크기가 가로 크기보다 크면 : \"일반적인 세로형 직사각형입니다\"\n",
    "\n",
    "변수는 다음과 같이 사용하라.\n",
    "```\n",
    "width, height # 가로크기, 세로크기\n",
    "```"
   ]
  },
  {
   "cell_type": "code",
   "execution_count": null,
   "metadata": {},
   "outputs": [],
   "source": []
  },
  {
   "cell_type": "code",
   "execution_count": null,
   "metadata": {
    "hideCode": true
   },
   "outputs": [],
   "source": [
    "width = float(input(\"직사각형의 가로 크기를 입력하세요 : \"))\n",
    "height = float(input(\"직사각형의 세로 크기를 입력하세요 : \"))\n",
    "\n",
    "if width <= 0 and height <= 0: print(\"잘못 입력하셨습니다\")\n",
    "elif width == height: print(\"정사각형입니다.\")\n",
    "elif width >= height * 2: print(\"좌우로 길쭉한 직사각형입니다.\")\n",
    "elif height >= width * 2: print(\"위아래로 길쭉한 직사각형입니다.\")\n",
    "elif width > height: print(\"일반적인 가로형 직사각형입니다.\")\n",
    "elif width < height: print(\"일반적인 세로형 직사각형입니다.\")"
   ]
  },
  {
   "cell_type": "markdown",
   "metadata": {},
   "source": [
    "##### 실행 예시 #1\n",
    "직사각형의 가로 크기를 입력하세요 : 10<br>\n",
    "직사각형의 세로 크기를 입력하세요 : 30<br>\n",
    "위아래로 길쭉한 직사각형입니다.\n",
    "\n",
    "##### 실행 예시 #2\n",
    "직사각형의 가로 크기를 입력하세요 : 50<br>\n",
    "직사각형의 세로 크기를 입력하세요 : 50<br>\n",
    "정사각형입니다.\n",
    "\n",
    "##### 실행 예시 #3\n",
    "직사각형의 가로 크기를 입력하세요 : 400<br>\n",
    "직사각형의 세로 크기를 입력하세요 : 300<br>\n",
    "일반적인 가로형 직사각형입니다.\n",
    "\n",
    "##### 실행 예시 #4\n",
    "직사각형의 가로 크기를 입력하세요 : 100<br>\n",
    "직사각형의 세로 크기를 입력하세요 : 10<br>\n",
    "좌우로 길쭉한 직사각형입니다."
   ]
  },
  {
   "cell_type": "markdown",
   "metadata": {},
   "source": [
    "***"
   ]
  },
  {
   "cell_type": "markdown",
   "metadata": {},
   "source": [
    "#### <a id='C04'>[C04] 아파트 평형 계산 및 종류 판정</a>\n",
    "아파트의 분양 면적을 제곱미터(m2) 단위로 입력받아 이 값을 평형 단위의 값으로 변환하라. 그리고 평형 수에 따라 아파트의 종류를 구분하여 그 결과를 출력하라.\n",
    "단, 평형 수 = 제곱미터 / 3.305 로 계산하고, 크기에 따른 아파트 종류는 다음과 같이 판정한다.\n",
    "- 15평 미만 : 소형\n",
    "- 15평 이상 ~ 30평 미만 : 중소형\n",
    "- 30평 이상 ~ 50평 미만 : 중형\n",
    "- 50평 이상 : 대형\n",
    "\n",
    "변수는 다음과 같이 사용하라.\n",
    "```\n",
    "m2_area # 면적 (제곱미터)\n",
    "pyung_area # 면적 (평수)\n",
    "```"
   ]
  },
  {
   "cell_type": "code",
   "execution_count": null,
   "metadata": {},
   "outputs": [],
   "source": []
  },
  {
   "cell_type": "code",
   "execution_count": null,
   "metadata": {
    "hideCode": true
   },
   "outputs": [],
   "source": [
    "m2_area = float(input(\"아파트의 분양 면적(제곱미터)를 입력하세요 : \"))\n",
    "pyung_area = m2_area / 3.305\n",
    "\n",
    "print(\"아파트의 평형은 {:.1f}입니다.\".format(pyung_area))\n",
    "print(\"{} 아파트 입니다.\".format(\"소형\" if pyung_area < 15 else (\"중소형\" if pyung_area < 30 else (\"중형\" if pyung_area < 50 else \"대형\"))))"
   ]
  },
  {
   "cell_type": "markdown",
   "metadata": {},
   "source": [
    "##### 실행 예시 #1\n",
    "아파트의 분양 면적(제곱미터)를 입력하세요 : 85.0<br>\n",
    "아파트의 평형은 25.7입니다.<br>\n",
    "중소형 아파트 입니다.\n",
    "\n",
    "##### 실행 예시 #2\n",
    "아파트의 분양 면적(제곱미터)를 입력하세요 : 150.5<br>\n",
    "아파트의 평형은 45.5입니다.<br>\n",
    "중형 아파트 입니다.\n",
    "\n",
    "##### 실행 예시 #3\n",
    "아파트의 분양 면적(제곱미터)를 입력하세요 : 45.5<br>\n",
    "아파트의 평형은 13.8입니다.<br>\n",
    "소형 아파트 입니다.\n",
    "\n",
    "##### 실행 예시 #4\n",
    "아파트의 분양 면적(제곱미터)를 입력하세요 : 250.1<br>\n",
    "아파트의 평형은 75.7입니다.<br>\n",
    "대형 아파트 입니다."
   ]
  },
  {
   "cell_type": "markdown",
   "metadata": {},
   "source": [
    "***"
   ]
  },
  {
   "cell_type": "markdown",
   "metadata": {},
   "source": [
    "#### <a id='C05'>[C05] 연중 날짜 계산</a>\n",
    "날짜를 월과 일로 입력받아 이 날짜는 1년 중 몇 번째 날에 해당되는지 계산하여 출력하라.\n",
    "단, 매 월의 날 수는 다음과 같이 정한다.\n",
    "- 2월 : 28일\n",
    "- 1, 3, 5, 7, 8, 10, 12월 : 31일\n",
    "- 4, 6, 9, 11월 : 30일\n",
    "\n",
    "변수는 다음과 같이 사용하라.\n",
    "```\n",
    "month, day # 월, 일\n",
    "day_count # 1년 중 날 수\n",
    "```"
   ]
  },
  {
   "cell_type": "code",
   "execution_count": null,
   "metadata": {},
   "outputs": [],
   "source": []
  },
  {
   "cell_type": "code",
   "execution_count": null,
   "metadata": {
    "hideCode": true
   },
   "outputs": [],
   "source": [
    "month = int(input(\"월을 입력하세요 : \"))\n",
    "day = int(input(\"일을 입력하세요 : \"))\n",
    "\n",
    "if month < 1 or month > 12: print(\"잘못 입력하셨습니다.\")\n",
    "else:\n",
    "    month_day = 28 if month == 2 else (31 if (month <= 7 and month % 2 == 1) or (month >= 8 and month % 2 == 0) else 30)\n",
    "    if day < 1 or day > month_day: print(\"잘못 입력하셨습니다.\")\n",
    "    else:\n",
    "        day_count = day\n",
    "        if month > 11: day_count += 30\n",
    "        if month > 10: day_count += 31\n",
    "        if month > 9: day_count += 30\n",
    "        if month > 8: day_count += 31\n",
    "        if month > 7: day_count += 31\n",
    "        if month > 6: day_count += 30\n",
    "        if month > 5: day_count += 31\n",
    "        if month > 4: day_count += 30\n",
    "        if month > 3: day_count += 31\n",
    "        if month > 2: day_count += 28\n",
    "        if month > 1: day_count += 31\n",
    "            \n",
    "        print(\"이 날짜는 1년 중 {}번째 날에 해당됩니다.\".format(day_count))"
   ]
  },
  {
   "cell_type": "markdown",
   "metadata": {},
   "source": [
    "##### 실행 예시 #1\n",
    "월을 입력하세요 : 12<br>\n",
    "일을 입력하세요 : 25<br>\n",
    "이 날짜는 1년 중 359번째 날에 해당됩니다.\n",
    "\n",
    "##### 실행 예시 #2\n",
    "월을 입력하세요 : 7<br>\n",
    "일을 입력하세요 : 17<br>\n",
    "이 날짜는 1년 중 198번째 날에 해당됩니다.\n",
    "\n",
    "##### 실행 예시 #3\n",
    "월을 입력하세요 : 13<br>\n",
    "일을 입력하세요 : 50<br>\n",
    "잘못 입력하셨습니다."
   ]
  },
  {
   "cell_type": "markdown",
   "metadata": {},
   "source": [
    "***"
   ]
  },
  {
   "cell_type": "markdown",
   "metadata": {},
   "source": [
    "#### <a id='C06'>[C06] 점수 계산</a>\n",
    "국어, 영어, 수학 점수를 입력받아 이 점수의 총점과 평균을 계산하고, 평균에 따라 등급을 정하여 출력하라. 단, 총점 = 국어점수 + 영어점수 + 수학점수, 평균 = 총점 / 3.0 으로 계산하고 등급은 다음과 같은 기준으로 결정하라.\n",
    "- 평균 90 이상 : 수\n",
    "- 평균 80 이상 ~ 90 미만 : 우\n",
    "- 평균 70 이상 ~ 80 미만 : 미\n",
    "- 평균 60 이상 ~ 70 미만 : 양\n",
    "- 평균 60 미만 : 가\n",
    "\n",
    "변수는 다음과 같이 사용하라.\n",
    "```\n",
    "kor, eng, math # 국어점수, 영어점수, 수학점수\n",
    "total # 총점\n",
    "average # 평균점수\n",
    "```"
   ]
  },
  {
   "cell_type": "code",
   "execution_count": null,
   "metadata": {},
   "outputs": [],
   "source": []
  },
  {
   "cell_type": "code",
   "execution_count": null,
   "metadata": {
    "hideCode": true
   },
   "outputs": [],
   "source": [
    "kor = float(input(\"국어 점수를 입력하세요 : \"))\n",
    "eng = float(input(\"영어 점수를 입력하세요 : \"))\n",
    "math = float(input(\"수학 점수를 입력하세요 : \"))\n",
    "\n",
    "total = kor + eng + math\n",
    "average = total / 3.0\n",
    "print(\"입력하신 점수의 총점은 {}이고,\".format(total))\n",
    "print(\"평균은 {:.1f}입니다.\".format(average))\n",
    "\n",
    "if average >= 90: print(\"수입니다.\")\n",
    "elif average >= 80: print(\"우입니다.\")\n",
    "elif average >= 70: print(\"미입니다.\")\n",
    "elif average >= 60: print(\"양입니다.\")\n",
    "else: print(\"가입니다.\")"
   ]
  },
  {
   "cell_type": "markdown",
   "metadata": {},
   "source": [
    "##### 실행 예시 #1\n",
    "국어 점수를 입력하세요 : 85<br>\n",
    "영어 점수를 입력하세요 : 77<br>\n",
    "수학 점수를 입력하세요 : 94<br>\n",
    "입력하신 점수의 총점은 256.0이고,<br>\n",
    "평균은 85.3입니다.<br>\n",
    "우입니다.\n",
    "\n",
    "##### 실행 예시 #2\n",
    "국어 점수를 입력하세요 : 54<br>\n",
    "영어 점수를 입력하세요 : 66<br>\n",
    "수학 점수를 입력하세요 : 60<br>\n",
    "입력하신 점수의 총점은 180.0이고,<br>\n",
    "평균은 60.0입니다.<br>\n",
    "양입니다.\n",
    "\n",
    "##### 실행 예시 #3\n",
    "국어 점수를 입력하세요 : 99<br>\n",
    "영어 점수를 입력하세요 : 88<br>\n",
    "수학 점수를 입력하세요 : 95<br>\n",
    "입력하신 점수의 총점은 282.0이고,<br>\n",
    "평균은 94.0입니다.<br>\n",
    "수입니다."
   ]
  },
  {
   "cell_type": "markdown",
   "metadata": {},
   "source": [
    "***"
   ]
  },
  {
   "cell_type": "markdown",
   "metadata": {},
   "source": [
    "#### <a id='C07'>[C07] 파일 전송 시간 계산</a>\n",
    "파일 용량을 메가바이트 단위로 입력받고, 전송 방식을 숫자로 입력받아 이에 따라 파일 전송 시간을 초 단위(소수점 1자리)로 계산하여 출력하라. 단, 계산방법은 다음과 같다.\n",
    "- 바이트 수 = 메가바이트 수 * 1024 * 1024\n",
    "- Wi-Fi 전송 속도 = 1,500,000 바이트 / 초\n",
    "- Bluetooth 전송 속도 = 300,000 바이트 / 초\n",
    "- LTE 전송 속도 = 1,000,000 바이트 / 초\n",
    "- USB 전송 속도 = 60,000,000 바이트 / 초\n",
    "\n",
    "변수는 다음과 같이 사용하라.\n",
    "```\n",
    "megabytes # 용량(메가바이트 단위)\n",
    "bytes # 용량(바이트 단위)\n",
    "kind # 전송방식 (1: Wi-Fi, 2: BlueTooth, 3: LTE, 4: USB)\n",
    "time # 전송시간(초 단위)\n",
    "```"
   ]
  },
  {
   "cell_type": "code",
   "execution_count": null,
   "metadata": {},
   "outputs": [],
   "source": []
  },
  {
   "cell_type": "code",
   "execution_count": null,
   "metadata": {
    "hideCode": true
   },
   "outputs": [],
   "source": [
    "megabytes = int(input(\"파일 용량을 메가바이트 단위로 입력하세요 : \"))\n",
    "bytes = megabytes * 1024 * 1024\n",
    "\n",
    "kind = int(input(\"전송방식을 입력하세요 (1: Wi-Fi, 2: Bluetooth, 3: LTE, 4: USB) : \"))\n",
    "if kind < 1 or kind > 4: print(\"잘못 입력하셨습니다.\")\n",
    "else:\n",
    "    if kind == 1: time = bytes / 1500000\n",
    "    elif kind == 2: time = bytes / 300000\n",
    "    elif kind == 3: time = bytes / 1000000\n",
    "    elif kind == 4: time = bytes / 60000000\n",
    "    \n",
    "    print(\"파일 전송 시간은 {:.1f}초입니다.\".format(time))"
   ]
  },
  {
   "cell_type": "markdown",
   "metadata": {},
   "source": [
    "##### 실행 예시 #1\n",
    "파일 용량을 메가바이트 단위로 입력하세요 : 700<br>\n",
    "전송방식을 입력하세요 (1: Wi-Fi, 2: Bluetooth, 3: LTE, 4: USB) : 1<br>\n",
    "파일 전송 시간은 489.3초입니다.\n",
    "\n",
    "##### 실행 예시 #2\n",
    "파일 용량을 메가바이트 단위로 입력하세요 : 700<br>\n",
    "전송방식을 입력하세요 (1: Wi-Fi, 2: Bluetooth, 3: LTE, 4: USB) : 4<br>\n",
    "파일 전송 시간은 12.2초입니다.\n",
    "\n",
    "##### 실행 예시 #3\n",
    "파일 용량을 메가바이트 단위로 입력하세요 : 700<br>\n",
    "전송방식을 입력하세요 (1: Wi-Fi, 2: Bluetooth, 3: LTE, 4: USB) : 2<br>\n",
    "파일 전송 시간은 2446.7초입니다."
   ]
  },
  {
   "cell_type": "markdown",
   "metadata": {},
   "source": [
    "***"
   ]
  },
  {
   "cell_type": "markdown",
   "metadata": {},
   "source": [
    "#### <a id='C08'>[C08] 3개의 수 중 최댓값과 최솟값 구하기</a>\n",
    "숫자를 3개 입력받은 후, 이 숫자 중에서 가장 큰 수, 가장 작은 수를 출력하라.\n",
    "\n",
    "변수는 다음과 같이 사용하라.\n",
    "```\n",
    "num1, num2, num3 # 첫 번째 숫자, 두 번째 숫자, 세 번째 숫자\n",
    "max_num, min_num # 가장 큰 숫자, 가장 작은 숫자\n",
    "```"
   ]
  },
  {
   "cell_type": "code",
   "execution_count": null,
   "metadata": {},
   "outputs": [],
   "source": []
  },
  {
   "cell_type": "code",
   "execution_count": null,
   "metadata": {
    "hideCode": true
   },
   "outputs": [],
   "source": [
    "num1 = int(input(\"첫번째 숫자를 입력하세요 : \"))\n",
    "num2 = int(input(\"두번째 숫자를 입력하세요 : \"))\n",
    "num3 = int(input(\"세번째 숫자를 입력하세요 : \"))\n",
    "\n",
    "max_num, min_num = num1, num1\n",
    "\n",
    "if max_num < num2: max_num = num2\n",
    "if max_num < num3: max_num = num3\n",
    "    \n",
    "if min_num > num2: min_num = num2\n",
    "if min_num > num3: min_num = num3\n",
    "    \n",
    "print(\"가장 큰 수는 {}이고, 가장 작은 수는 {}입니다.\".format(max_num, min_num))"
   ]
  },
  {
   "cell_type": "markdown",
   "metadata": {},
   "source": [
    "##### 실행 예시 #1\n",
    "첫번째 숫자를 입력하세요 : 20<br>\n",
    "두번째 숫자를 입력하세요 : 80<br>\n",
    "세번째 숫자를 입력하세요 : 50<br>\n",
    "가장 큰 수는 80이고, 가장 작은 수는 20입니다.\n",
    "\n",
    "##### 실행 예시 #2\n",
    "첫번째 숫자를 입력하세요 : 50<br>\n",
    "두번째 숫자를 입력하세요 : 50<br>\n",
    "세번째 숫자를 입력하세요 : 50<br>\n",
    "가장 큰 수는 50이고, 가장 작은 수는 50입니다."
   ]
  },
  {
   "cell_type": "markdown",
   "metadata": {},
   "source": [
    "***"
   ]
  },
  {
   "cell_type": "markdown",
   "metadata": {},
   "source": [
    "#### <a id='C09'>[C09] 소득세 계산</a>\n",
    "연봉(원 단위)을 숫자로 입력받은 후, 연봉 금액에 대한 소득세를 계산하여 출력하라. 단, 소득세의 금액은 다음과 같이 계산한다.\n",
    "- 연봉 1천만 원 미만 : 연봉의 9.5%\n",
    "- 연봉 1천만 원 이상 ~ 4천만원미만 : 연봉의 19%\n",
    "- 연봉 4천만 원 이상 ~ 8천만원미만 : 연봉의 28%\n",
    "- 연봉 8천만 원 이상 : 연봉의 37%\n",
    "\n",
    "변수는 다음과 같이 사용하라.\n",
    "```\n",
    "income # 연봉 (원 단위)\n",
    "tax # 소득세 (원 단위)\n",
    "```"
   ]
  },
  {
   "cell_type": "code",
   "execution_count": null,
   "metadata": {},
   "outputs": [],
   "source": []
  },
  {
   "cell_type": "code",
   "execution_count": null,
   "metadata": {
    "hideCode": true
   },
   "outputs": [],
   "source": [
    "income = int(input(\"연봉(원 단위)를 숫자로 입력하세요 : \"))\n",
    "\n",
    "if income < 10000000: tax = income * 0.095\n",
    "elif income < 40000000: tax = income * 0.19\n",
    "elif income < 80000000: tax = income * 0.28\n",
    "else: tax = income * 0.37\n",
    "\n",
    "print(\"연봉 금액에 대한 소득세는 {:.0f}원 입니다.\".format(tax))"
   ]
  },
  {
   "cell_type": "markdown",
   "metadata": {},
   "source": [
    "##### 실행 예시 #1\n",
    "연봉(원 단위)를 숫자로 입력하세요 : 25000000<br>\n",
    "연봉 금액에 대한 소득세는 4750000원 입니다.\n",
    "\n",
    "##### 실행 예시 #2\n",
    "연봉(원 단위)를 숫자로 입력하세요 : 50000000<br>\n",
    "연봉 금액에 대한 소득세는 14000000원 입니다.\n",
    "\n",
    "##### 실행 예시 #3\n",
    "연봉(원 단위)를 숫자로 입력하세요 : 100000000<br>\n",
    "연봉 금액에 대한 소득세는 37000000원 입니다.\n",
    "\n",
    "##### 실행 예시 #4\n",
    "연봉(원 단위)를 숫자로 입력하세요 : 8000000<br>\n",
    "연봉 금액에 대한 소득세는 760000원 입니다."
   ]
  },
  {
   "cell_type": "markdown",
   "metadata": {},
   "source": [
    "***"
   ]
  },
  {
   "cell_type": "markdown",
   "metadata": {},
   "source": [
    "#### <a id='C10'>[C10] 간단한 사칙연산 계산기</a>\n",
    "숫자 2개와 하나의 연산기호문자('+', '-', '\\*', '/' 중 1개)를 입력받은 후, 첫 번째 숫자와 두 번째 숫자 사이에 연산기호를 넣은 계산식의 결과 값을 계산하여 출력하라.\n",
    "\n",
    "변수는 다음과 같이 사용하라.\n",
    "```\n",
    "num1, num2 # 첫 번째 숫자, 두 번째 숫자\n",
    "operator # 연산기호문자('+', '-', '*', '/' 중 1개)\n",
    "result # 연산 결과\n",
    "```"
   ]
  },
  {
   "cell_type": "code",
   "execution_count": null,
   "metadata": {},
   "outputs": [],
   "source": []
  },
  {
   "cell_type": "code",
   "execution_count": null,
   "metadata": {
    "hideCode": true
   },
   "outputs": [],
   "source": [
    "num1 = int(input(\"숫자 #1을 입력하세요 : \"))\n",
    "num2 = int(input(\"숫자 #2를 입력하세요 : \"))\n",
    "operator = input(\"연산기호 문자(+, -, *, / 중 1개)를 입력하세요 : \")\n",
    "\n",
    "result = None\n",
    "if operator == '+': result = num1 + num2\n",
    "elif operator == '-': result = num1 - num2\n",
    "elif operator == '*': result = num1 * num2\n",
    "elif operator == '/': result = num1 / num2\n",
    "    \n",
    "print(\"계산식의 결과 값은 {}입니다.\".format(result))"
   ]
  },
  {
   "cell_type": "markdown",
   "metadata": {},
   "source": [
    "##### 실행 예시 #1\n",
    "숫자 #1을 입력하세요 : 100<br>\n",
    "숫자 #2를 입력하세요 : 200<br>\n",
    "연산기호 문자(+, -, \\*, / 중 1개)를 입력하세요 : +<br>\n",
    "계산식의 결과 값은 300입니다.\n",
    "\n",
    "##### 실행 예시 #2\n",
    "숫자 #1을 입력하세요 : 100<br>\n",
    "숫자 #2를 입력하세요 : 7<br>\n",
    "연산기호 문자(+, -, \\*, / 중 1개)를 입력하세요 : \\*<br>\n",
    "계산식의 결과 값은 700입니다.\n",
    "\n",
    "##### 실행 예시 #3\n",
    "숫자 #1을 입력하세요 : 500<br>\n",
    "숫자 #2를 입력하세요 : 100<br>\n",
    "연산기호 문자(+, -, \\*, / 중 1개)를 입력하세요 : -<br>\n",
    "계산식의 결과 값은 400입니다.\n",
    "\n",
    "##### 실행 예시 #4\n",
    "숫자 #1을 입력하세요 : 700<br>\n",
    "숫자 #2를 입력하세요 : 7<br>\n",
    "연산기호 문자(+, -, \\*, / 중 1개)를 입력하세요 : /<br>\n",
    "계산식의 결과 값은 100.0입니다."
   ]
  },
  {
   "cell_type": "markdown",
   "metadata": {},
   "source": [
    "***"
   ]
  },
  {
   "cell_type": "markdown",
   "metadata": {},
   "source": [
    "#### <a id='C11'>[C11] 윤년 판정하기</a>\n",
    "년도를 입력받은 후, 이 년도가 윤년이지 아닌지를 판정하여 그 결과를 출력하라. 윤년의 판정 기준은 다음과 같다.\n",
    "1. 년도가 4로 나누어 떨어지는 경우에 윤년이다.\n",
    "2. 위 1의 기준 중에 100으로 나누어 떨어지는 년도는 윤년에서 제외한다.\n",
    "3. 위 2의 기준 중에 400으로 나누어 떨어지는 년도는 윤년이다.\n",
    "\n",
    "변수는 다음과 같이 사용하라.\n",
    "```\n",
    "year # 입력받은 년도\n",
    "```"
   ]
  },
  {
   "cell_type": "code",
   "execution_count": null,
   "metadata": {},
   "outputs": [],
   "source": []
  },
  {
   "cell_type": "code",
   "execution_count": null,
   "metadata": {
    "hideCode": true
   },
   "outputs": [],
   "source": [
    "year = int(input(\"년도를 입력하세요 : \"))\n",
    "\n",
    "print(\"입력하신 년도는 윤년{}니다.\".format(\"입\" if (year % 400 == 0) or (year % 4 == 0 and year % 100 != 0) else \"이 아닙\"))"
   ]
  },
  {
   "cell_type": "markdown",
   "metadata": {},
   "source": [
    "##### 실행 예시 #1\n",
    "년도를 입력하세요 : 2000<br>\n",
    "입력하신 년도는 윤년입니다.\n",
    "\n",
    "##### 실행 예시 #2\n",
    "년도를 입력하세요 : 1999<br>\n",
    "입력하신 년도는 윤년이 아닙니다.\n",
    "\n",
    "##### 실행 예시 #3\n",
    "년도를 입력하세요 : 1900<br>\n",
    "입력하신 년도는 윤년이 아닙니다.\n",
    "\n",
    "##### 실행 예시 #4\n",
    "년도를 입력하세요 : 2012<br>\n",
    "입력하신 년도는 윤년입니다."
   ]
  }
 ],
 "metadata": {
  "kernelspec": {
   "display_name": "Python 3",
   "language": "python",
   "name": "python3"
  },
  "language_info": {
   "codemirror_mode": {
    "name": "ipython",
    "version": 3
   },
   "file_extension": ".py",
   "mimetype": "text/x-python",
   "name": "python",
   "nbconvert_exporter": "python",
   "pygments_lexer": "ipython3",
   "version": "3.7.3"
  }
 },
 "nbformat": 4,
 "nbformat_minor": 2
}
