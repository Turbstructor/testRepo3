{
 "cells": [
  {
   "cell_type": "markdown",
   "metadata": {},
   "source": [
    "# 영역 1. 프로그래밍 제어구조 기초\n",
    "영역 1에서는 프로그래밍의 가장 기본이 되는 변수의 사용과 입출력 처리 방법, 조건문과 반복문을 통한 제어구조의 기초를 연습한다.\n",
    "\n",
    "영역 1은 다음과 같이 4개의 단계로 구성된다.\n",
    "- [[Step A] : 변수의 사용과 데이터 입출력](#Intro)\n",
    "- [[Step B] : 단순 조건문 사용하기](Python_StepB.ipynb#Intro)\n",
    "- [[Step C] : 복합 조건문 사용하기](Python_StepC.ipynb#Intro)\n",
    "- [[Step D] : 반복문 사용하기](Python_StepD.ipynb#Intro)"
   ]
  },
  {
   "cell_type": "markdown",
   "metadata": {},
   "source": [
    "***"
   ]
  },
  {
   "cell_type": "markdown",
   "metadata": {},
   "source": [
    "## <a id='Intro'>[Step A] 변수의 사용과 데이터 입출력</a>"
   ]
  },
  {
   "cell_type": "markdown",
   "metadata": {},
   "source": [
    "### ○ 변수의 사용\n",
    "프로그램을 제작할 때 어떤 종류이건 데이터나 값을 다루기 위해서는 변수를 사용해야 한다. 변수를 사용할 때에는 다루어야 하는 값이 숫자(정수와 실수)인지 문자인지에 따라 변수의 형식을 잘 구별해서 결정해야 하므로 프로그래밍 언어에서 사용가능한 변수 형식을 미리 숙지하고 있어야 한다. 파이썬 언어의 경우 주로 사용하는 데이터 형식은 다음과 같다.\n",
    "\n",
    "| 데이터 형식 | 설명 |\n",
    "| --- | --- |\n",
    "| 숫자 | 정수(`int`), 실수(`float`), 복소수(`complex`) 등의 숫자를 다룬다. |\n",
    "| 문자열(`str`) | 1개 이상의 글자로 이루어진 문장을 다룬다. 따옴표로 둘러쌓아 표현한다. |\n",
    "| 튜플(`tuple`) | 여러 개의 원소를 포함하는 모음을 다룬다. 소괄호로 둘러쌓아 표현한다. |\n",
    "| 리스트(`list`) | 여러 개의 원소를 포함하는 모음을 다룬다. 대괄호로 둘러쌓아 표현한다. |\n",
    "| 딕셔너리(`dict`) | 키와 값의 쌍으로 된 데이더들을 포함하는 모음을 다룬다. 중괄호로 둘러쌓아 표현한다. |\n",
    "\n",
    "그리고 변수의 이름을 정해주어야 하는데 영문과 숫자를 적당히 사용하되 변수의 용도를 쉽게 파악할 수 있도록 의미 있는 이름으로 정하는 것이 좋다. 다음과 같은 이름은 좋은 변수 이름이다.\n",
    "```\n",
    "apple_count # 사과 개수\n",
    "keyChar # 입력받은 문자\n",
    "```"
   ]
  },
  {
   "cell_type": "markdown",
   "metadata": {},
   "source": [
    "프로그램에서 변수를 다루는 가장 기본적인 방법은 변수에 값을 할당하는 것이다. 예를 들어 1개에 1,000원씩 판매하는 사과 15개의 가격을 계산하라고 한다면 누구나 1,000원 곱하기 15개인 15,000원을 계산할 수 있을 것이다. 그렇다면 이 계산을 컴퓨터에게 시켜본다면 어떻게 해야 할까? 적절\n",
    "하게 이름붙인 변수들에게 값을 할당해주어야 한다. 즉 사과 개수에는 15를 할당하고, 전체 사과의 가격은 사과 개수에 1,000원을 곱한 값을 할당하는 것이다."
   ]
  },
  {
   "cell_type": "code",
   "execution_count": null,
   "metadata": {},
   "outputs": [],
   "source": [
    "apple_count = 15 # 사과 개수에 15를 할당한다.\n",
    "price = apple_count * 1000 # 전체 가격에는 사과 개수와 1000을 곱한 값을 할당한다."
   ]
  },
  {
   "cell_type": "markdown",
   "metadata": {},
   "source": [
    "하나만 더 생각해보자. 만일 사과 1개의 가격이 1,200원으로 변경된다면 어떻게 해야 할까? 다음과 같이 프로그램을 변경하면 쉽게 해결할 수 있어 보인다."
   ]
  },
  {
   "cell_type": "code",
   "execution_count": null,
   "metadata": {},
   "outputs": [],
   "source": [
    "price = apple_count * 1200 # 전체 가격에는 사과 개수와 1200을 곱한 값을 할당한다."
   ]
  },
  {
   "cell_type": "markdown",
   "metadata": {},
   "source": [
    "하지만 만약 사과 1개의 가격이 앞으로도 변동될 가능성이 있을 때에는 다음과 같이 사과 1개당 단가를 별도의 변수 `unit_price`를 만들어 사용하는 것이 더 좋은 방법이다."
   ]
  },
  {
   "cell_type": "code",
   "execution_count": null,
   "metadata": {},
   "outputs": [],
   "source": [
    "unit_price = 1200 # 단가에 1200을 할당한다.\n",
    "price = apple_count * unit_price # 전체 가격에는 사과 개수와 단가를 곱한 값을 할당한다."
   ]
  },
  {
   "cell_type": "markdown",
   "metadata": {},
   "source": [
    "### ○ 데이터 입출력\n",
    "프로그램에서 변수에 값을 할당하기 위해서 사용자로부터 입력을 받아야 하는 경우가 있다. 그리고 사용자에게 프로그램의 진행 과정이나 결과를 모니터 화면을 통해 출력해주어야 할 필요가 있다. 이런 경우에 데이터 입력, 출력 기능을 사용하게 된다.\n",
    "\n",
    "먼저 화면에 원하는 문장을 출력하는 구문은 다음과 같다."
   ]
  },
  {
   "cell_type": "code",
   "execution_count": null,
   "metadata": {},
   "outputs": [],
   "source": [
    "print(\"안녕하세요?\") # 화면에 \"안녕하세요?\"라는 문장을 출력한다.\n",
    "print(\"사과의 개수는 몇 개입니까?\")"
   ]
  },
  {
   "cell_type": "markdown",
   "metadata": {},
   "source": [
    "특정 변수의 값을 화면에 출력하는 방법은 다음과 같다. 이 때 주의해야 할 것은 출력하려는 변수를 적절한 위치에 넣어 주어야 한다는 것이다."
   ]
  },
  {
   "cell_type": "code",
   "execution_count": null,
   "metadata": {},
   "outputs": [],
   "source": [
    "print(\"사과의 개수는 모두\", apple_count, \"개 입니다.\")"
   ]
  },
  {
   "cell_type": "markdown",
   "metadata": {},
   "source": [
    "사용자에게 특정 변수에 할당할 값을 입력받는 방법은 다음과 같다.\n",
    "```\n",
    "apple_count = int(input(\"사과의 개수는 모두 몇 개 입니까? \")) # 사용자가 입력한 값을 apple_count에 정수형식(int)으로 할당한다.\n",
    "```\n",
    "\n",
    "그러면 이제 몇 개의 변수를 사용하여 간단한 입출력을 수행하는 프로그램을 만들어보자. 문제는 사과의 단가와 개수를 입력받아 전체 사과의 가격을 계산하는 것이다. 이를 해결하기 위해서 다음과 같은 순서대로 프로그램이 실행되어야 할 것이다.\n",
    "\n",
    "1. 사과 1개의 가격을 입력받는다.\n",
    "2. 사과 개수를 입력받는다.\n",
    "3. 전체사과의 가격을 계산한다.\n",
    "4. 계산한 가격을 출력한다.\n",
    "\n",
    "위의 순서에 따라 프로그램 코드를 만들면 다음과 같다."
   ]
  },
  {
   "cell_type": "code",
   "execution_count": null,
   "metadata": {
    "hideCode": false,
    "hidePrompt": false
   },
   "outputs": [],
   "source": [
    "unit_price = int(input(\"사과 1개의 가격은 얼마입니까? \")) # 사용자가 입력한 값을 unit_price에 할당한다.\n",
    "apple_count = int(input(\"사과의 개수는 모두 몇 개 입니까? \")) # 사용자가 입력한 값을 apple_count에 할당한다.\n",
    "price = apple_count * unit_price # 전체 사과의 가격을 계산한다.\n",
    "print(\"전체 사과의 가격은\", price, \"원 입니다.\") # 전체 사과의 가격을 출력한다."
   ]
  },
  {
   "cell_type": "markdown",
   "metadata": {},
   "source": [
    "한글이 지원되지 않는 프로그램 제작 도구에서 한글을 사용한 파이썬 코드는 프로그램 첫 줄에 문자 코딩 정보를 입력해주어야 한다. 이렇게 만들어진 파이썬 프로그램은 다음과 같다."
   ]
  },
  {
   "cell_type": "code",
   "execution_count": null,
   "metadata": {},
   "outputs": [],
   "source": [
    "# -*- coding: utf-8 -*-\n",
    "# 예제 ex_A.py\n",
    "unit_price = int(input(\"사과 1개의 가격은 얼마입니까? \"))\n",
    "apple_count = int(input(\"사과의 개수는 모두 몇 개 입니까? \"))\n",
    "price = apple_count * unit_price\n",
    "print(\"전체 사과의 가격은 \", price, \"원 입니다.\")"
   ]
  },
  {
   "cell_type": "markdown",
   "metadata": {},
   "source": [
    "***\n",
    "***"
   ]
  },
  {
   "cell_type": "markdown",
   "metadata": {},
   "source": [
    "### ○ 실습 문제"
   ]
  },
  {
   "cell_type": "markdown",
   "metadata": {},
   "source": [
    "#### <a id='A01'>[A01] 나이 계산</a>\n",
    "태어난 년도를 입력받은 후, 이 값을 이용하여 나이를 계산하고 출력하라. 단, 나이 = 2019 - 태어난 년도 + 1로 계산한다.\n",
    "\n",
    "변수는 다음과 같이 사용하라.\n",
    "```\n",
    "birth_year # 태어난 년도\n",
    "age # 나이\n",
    "```"
   ]
  },
  {
   "cell_type": "code",
   "execution_count": null,
   "metadata": {},
   "outputs": [],
   "source": []
  },
  {
   "cell_type": "code",
   "execution_count": null,
   "metadata": {
    "hideCode": false
   },
   "outputs": [],
   "source": [
    "birth_year = int(input(\"태어난 년도를 입력하시오. \"))\n",
    "age = 2019 - birth_year + 1\n",
    "\n",
    "print(\"당신의 나이는 {}살 입니다\".format(age))"
   ]
  },
  {
   "cell_type": "markdown",
   "metadata": {},
   "source": [
    "##### 실행 예시\n",
    "태어난 년도를 입력하시오. 1996<br>\n",
    "당신의 나이는 24살 입니다"
   ]
  },
  {
   "cell_type": "markdown",
   "metadata": {},
   "source": [
    "***"
   ]
  },
  {
   "cell_type": "markdown",
   "metadata": {},
   "source": [
    "#### <a id='A02'>[A02] 온도 변환</a>\n",
    "섭씨 온도를 입력받아 이 값을 화씨온도로 변환하여 출력하라. 단, 화씨 온도 = 섭씨온도 * 1.8 + 32로 계산한다.\n",
    "\n",
    "변수는 다음과 같이 사용하라.\n",
    "```\n",
    "c_degree # 섭씨 온도\n",
    "f_degree # 화씨 온도\n",
    "```"
   ]
  },
  {
   "cell_type": "code",
   "execution_count": null,
   "metadata": {},
   "outputs": [],
   "source": []
  },
  {
   "cell_type": "code",
   "execution_count": null,
   "metadata": {
    "hideCode": true
   },
   "outputs": [],
   "source": [
    "c_degree = eval(input(\"섭씨 온도를 입력하시오. \"))\n",
    "f_degree = c_degree * 1.8 + 32\n",
    "\n",
    "print(\"화씨 온도는 {}도 입니다\".format(f_degree))"
   ]
  },
  {
   "cell_type": "markdown",
   "metadata": {},
   "source": [
    "##### 실행 예시\n",
    "섭씨 온도를 입력하시오. 40<br>\n",
    "화씨 온도는 104.0도 입니다"
   ]
  },
  {
   "cell_type": "markdown",
   "metadata": {},
   "source": [
    "***"
   ]
  },
  {
   "cell_type": "markdown",
   "metadata": {},
   "source": [
    "#### <a id='A03'>[A03] 직사각형 넓이 계산</a>\n",
    "직사각형의 가로크기와 세로크기를 입력받아 이 값을 이용하여 직사각형의 넓이를 계산하고 출력하라. 단, 직사각형의 넓이 = 가로크기 * 세로크기로 계산한다.\n",
    "\n",
    "변수는 다음과 같이 사용하라.\n",
    "```\n",
    "width # 가로크기\n",
    "height # 세로크기\n",
    "area # 직사각형의 넓이\n",
    "```"
   ]
  },
  {
   "cell_type": "code",
   "execution_count": null,
   "metadata": {},
   "outputs": [],
   "source": []
  },
  {
   "cell_type": "code",
   "execution_count": null,
   "metadata": {
    "hideCode": true
   },
   "outputs": [],
   "source": [
    "width = eval(input(\"직사각형의 가로 크기를 입력하시오. \"))\n",
    "height = eval(input(\"직사각형의 세로 크기를 입력하시오. \"))\n",
    "\n",
    "area = width * height\n",
    "print(\"직사각형의 넓이는 {}입니다.\".format(area))"
   ]
  },
  {
   "cell_type": "markdown",
   "metadata": {},
   "source": [
    "##### 실행 예시\n",
    "직사각형의 가로 크기를 입력하시오. 10<br>\n",
    "직사각형의 세로 크기를 입력하시오. 20<br>\n",
    "직사각형의 넓이는 200입니다."
   ]
  },
  {
   "cell_type": "markdown",
   "metadata": {},
   "source": [
    "***"
   ]
  },
  {
   "cell_type": "markdown",
   "metadata": {},
   "source": [
    "#### <a id='A04'>[A04] 아파트 평형 계산</a>\n",
    "아파트의 분양 면적을 제곱미터(㎡) 단위로 입력받아 이 값을 평형 단위의 값으로 변환하여 출력하라. 단, 평형 수 = 제곱미터 / 3.305로 계산한다.\n",
    "\n",
    "변수는 다음과 같이 사용하라.\n",
    "```\n",
    "m2_area # 면적 (제곱미터)\n",
    "pyung_area # 면적 (평수)\n",
    "```"
   ]
  },
  {
   "cell_type": "code",
   "execution_count": null,
   "metadata": {},
   "outputs": [],
   "source": []
  },
  {
   "cell_type": "code",
   "execution_count": null,
   "metadata": {
    "hideCode": true
   },
   "outputs": [],
   "source": [
    "m2_area = eval(input(\"아파트의 분양 면적을 입력하시오. \"))\n",
    "pyung_area = m2_area / 3.305\n",
    "\n",
    "print(\"아파트의 평형은 {:.1f} 입니다.\".format(pyung_area))"
   ]
  },
  {
   "cell_type": "markdown",
   "metadata": {},
   "source": [
    "##### 실행 예시\n",
    "아파트의 분양 면적을 입력하시오. 105.5<br>\n",
    "아파트의 평형은 31.9 입니다."
   ]
  },
  {
   "cell_type": "markdown",
   "metadata": {},
   "source": [
    "***"
   ]
  },
  {
   "cell_type": "markdown",
   "metadata": {},
   "source": [
    "#### <a id='A05'>[A05] 날짜 계산</a>\n",
    "날 수를 입력받아 이 날 수에 해당되는 기간은 모두 몇 초인지 계산하여 출력하라. 단, 초 = 날 수 * 24 * 60 * 60으로 계산한다.\n",
    "\n",
    "변수는 다음과 같이 사용하라.\n",
    "```\n",
    "days # 날 수\n",
    "seconds # 초 단위 시간\n",
    "```"
   ]
  },
  {
   "cell_type": "code",
   "execution_count": null,
   "metadata": {},
   "outputs": [],
   "source": []
  },
  {
   "cell_type": "code",
   "execution_count": null,
   "metadata": {
    "hideCode": true
   },
   "outputs": [],
   "source": [
    "days = int(input(\"날 수를 입력하세요. \"))\n",
    "seconds = days * 24 * 60 * 60\n",
    "\n",
    "print(\"날 수에 해당되는 시간은 모두 {}초 입니다.\".format(seconds))"
   ]
  },
  {
   "cell_type": "markdown",
   "metadata": {},
   "source": [
    "##### 실행 예시\n",
    "날 수를 입력하세요. 25<br>\n",
    "날 수에 해당되는 시간은 모두 2160000초 입니다."
   ]
  },
  {
   "cell_type": "markdown",
   "metadata": {},
   "source": [
    "***"
   ]
  },
  {
   "cell_type": "markdown",
   "metadata": {},
   "source": [
    "#### <a id='A06'>[A06] 점수 계산</a>\n",
    "국어, 영어, 수학 점수를 입력받아 이 점수의 총점과 평균을 계산하여 출력하라. 단, 총점 = 국어점수 + 영어점수 + 수학점수, 평균 = 총점 / 3.0으로 계산하라.\n",
    "\n",
    "변수는 다음과 같이 사용하라.\n",
    "```\n",
    "kor # 국어점수\n",
    "eng # 영어점수\n",
    "math # 수학점수\n",
    "total # 총점\n",
    "average # 평균점수\n",
    "```"
   ]
  },
  {
   "cell_type": "code",
   "execution_count": null,
   "metadata": {},
   "outputs": [],
   "source": []
  },
  {
   "cell_type": "code",
   "execution_count": null,
   "metadata": {
    "hideCode": true
   },
   "outputs": [],
   "source": [
    "kor = int(input(\"국어 점수를 입력하세요. \"))\n",
    "eng = int(input(\"영어 점수를 입력하세요. \"))\n",
    "math = int(input(\"수학 점수를 입력하세요. \"))\n",
    "\n",
    "total = kor + eng + math\n",
    "average = total / 3.0\n",
    "\n",
    "print(\"입력하신 점수의 총점은 {}이고,\".format(total))\n",
    "print(\"평균은 {:.1f}입니다.\".format(average))"
   ]
  },
  {
   "cell_type": "markdown",
   "metadata": {},
   "source": [
    "##### 실행 예시\n",
    "국어 점수를 입력하세요. 85<br>\n",
    "영어 점수를 입력하세요. 95<br>\n",
    "수학 점수를 입력하세요. 80<br>\n",
    "입력하신 점수의 총점은 260이고,<br>\n",
    "평균은 86.7입니다."
   ]
  },
  {
   "cell_type": "markdown",
   "metadata": {},
   "source": [
    "***"
   ]
  },
  {
   "cell_type": "markdown",
   "metadata": {},
   "source": [
    "#### <a id='A07'>[A07] 파일 용량 계산</a>\n",
    "파일 용량을 기가바이트 단위로 입력받아 이 값을 메가바이트, 킬로바이트, 바이트 단위로 계산하여 각각 출력하라.\n",
    "\n",
    "단, 계산방법은 다음과 같다.\n",
    "```\n",
    "메가바이트 수 = 기가바이트 수 * 1024\n",
    "킬로바이트 수 = 메가바이트 수 * 1024\n",
    "바이트 수 = 킬로바이트 수 * 1024\n",
    "```\n",
    "\n",
    "변수는 다음과 같이 사용하라.\n",
    "```\n",
    "gigabytes # 용량 (기가바이트 단위)\n",
    "megabytes # 용량 (메가바이트 단위)\n",
    "kilobytes # 용량 (킬로바이트 단위)\n",
    "bytes # 용량 (바이트 단위)\n",
    "```"
   ]
  },
  {
   "cell_type": "code",
   "execution_count": null,
   "metadata": {},
   "outputs": [],
   "source": []
  },
  {
   "cell_type": "code",
   "execution_count": null,
   "metadata": {
    "hideCode": true
   },
   "outputs": [],
   "source": [
    "gigabytes = eval(input(\"파일 용량을 기가바이트 단위로 입력하세요. \"))\n",
    "\n",
    "megabytes = gigabytes * 1024\n",
    "kilobytes = megabytes * 1024\n",
    "bytes = kilobytes * 1024\n",
    "\n",
    "print(\"입력하신 파일 용량은\")\n",
    "print(\" {} 메가바이트\".format(megabytes))\n",
    "print(\" {} 킬로바이트\".format(kilobytes))\n",
    "print(\" {} 바이트 입니다.\".format(bytes))"
   ]
  },
  {
   "cell_type": "markdown",
   "metadata": {},
   "source": [
    "##### 실행 예시\n",
    "파일 용량을 기가바이트 단위로 입력하세요. 3<br>\n",
    "입력하신 파일 용량은<br>\n",
    " 3072 메가바이트<br>\n",
    " 3145728 킬로바이트<br>\n",
    " 3221225472 바이트 입니다."
   ]
  }
 ],
 "metadata": {
  "kernelspec": {
   "display_name": "Python 3",
   "language": "python",
   "name": "python3"
  },
  "language_info": {
   "codemirror_mode": {
    "name": "ipython",
    "version": 3
   },
   "file_extension": ".py",
   "mimetype": "text/x-python",
   "name": "python",
   "nbconvert_exporter": "python",
   "pygments_lexer": "ipython3",
   "version": "3.7.3"
  }
 },
 "nbformat": 4,
 "nbformat_minor": 2
}
