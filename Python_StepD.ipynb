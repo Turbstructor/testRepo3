{
 "cells": [
  {
   "cell_type": "markdown",
   "metadata": {},
   "source": [
    "# 영역 1. 프로그래밍 제어구조 기초\n",
    "영역 1에서는 프로그래밍의 가장 기본이 되는 변수의 사용과 입출력 처리 방법, 조건문과 반복문을 통한 제어구조의 기초를 연습한다.\n",
    "\n",
    "영역 1은 다음과 같이 4개의 단계로 구성된다.\n",
    "- [[Step A] : 변수의 사용과 데이터 입출력](Python_StepA.ipynb#Intro)\n",
    "- [[Step B] : 단순 조건문 사용하기](Python_StepB.ipynb#Intro)\n",
    "- [[Step C] : 복합 조건문 사용하기](Python_StepC.ipynb#Intro)\n",
    "- [[Step D] : 반복문 사용하기](#Intro)"
   ]
  },
  {
   "cell_type": "markdown",
   "metadata": {},
   "source": [
    "***"
   ]
  },
  {
   "cell_type": "markdown",
   "metadata": {},
   "source": [
    "## <a id='Intro'>[Step D] 반복문 사용하기</a>"
   ]
  },
  {
   "cell_type": "markdown",
   "metadata": {},
   "source": [
    "컴퓨터 프로그램에서는 동일하거나 비슷한 구문을 처리할 때에 반복문을 사용하면 효과적으로 프로그램을 수행할 수 있다. 가장 간단한 반복문은 `while 1 :` 구문으로 무한히 일련의 문장들을 반복시키는 경우에 사용한다. 다음의 예는 0이 입력되기 전까지 계속해서 숫자를 입력받는 프로그램 구문이다. 먼저 숫자를 입력받은 후에 입력된 숫자가 0인지에 따라 반복문의 중단 여부를 결정하게 된다. 반복문을 중단시켜야 하는 경우에는 조건문을 사용해서 `break`라는 명령을 사용하면 된다."
   ]
  },
  {
   "cell_type": "code",
   "execution_count": null,
   "metadata": {},
   "outputs": [],
   "source": [
    "while 1 : # 1이라는 조건은 무조건 참인 조건이다.\n",
    "    number = int(input(\"숫자 하나를 입력하시오. (0을 입력하면 끝남) : \"))\n",
    "    if number == 0 : break # number의 값이 0이면 반복을 끝낸다."
   ]
  },
  {
   "cell_type": "markdown",
   "metadata": {},
   "source": [
    "다음으로 while 에 특정 조건문을 사용하는 경우를 살펴보자. 예를 들어 양의 정수를 하나 입력받은 후에 1부터 입력받은 숫자까지의 모든 수를 화면에 출력시키는 문제를 해결하기 위해 while 구문을 사용해 보자."
   ]
  },
  {
   "cell_type": "code",
   "execution_count": null,
   "metadata": {},
   "outputs": [],
   "source": [
    "number = int(input(\"양의 정수를 하나 입력하시오. : \"))\n",
    "count = 1\n",
    "while (number >= count): # 1부터 시작하는 count값이 number를 넘지 않는 동안 반복\n",
    "    print(count, end=\", \") # count 출력 후 다음 줄로 내리지 않고 \", \"를 출력함\n",
    "    count = count + 1\n",
    "print() #빈 줄을 출력한다."
   ]
  },
  {
   "cell_type": "markdown",
   "metadata": {},
   "source": [
    "또 다른 반복문의 종류는 for 구문으로서 일반적으로 반복 횟수를 미리 알고 있는 경우 또는 특정 범위나 리스트, 튜플에 포함되는 요소만큼 반복해야 하는 경우에 사용한다. 예를 들어 1부터 100까지의 모든 수를 더한 값을 알아내려고 할 때 다음과 같이 프로그램 구문을 만들면 된다. 먼저 1부터 100까지의 숫자들을 모아놓은 리스트를 `range(1,101)`이라고 표현할 수 있다. 이 구문은 1부터 시작해서 101이 되기 전까지의 숫자들을 리스트로 만들라는 의미이다. 그래서 for 구문에서 이를 이용해서 반복문을 수행시킬 수 있다."
   ]
  },
  {
   "cell_type": "code",
   "execution_count": null,
   "metadata": {},
   "outputs": [],
   "source": [
    "sum = 0\n",
    "for i in range(1,101) : # 변수 i의 값이 1부터 100까지 증가하는 동안 반복\n",
    "    sum = sum + i\n",
    "print(\"1부터 100까지의 수를 모두 더한 값은\", sum, \"입니다.\")"
   ]
  },
  {
   "cell_type": "markdown",
   "metadata": {},
   "source": [
    "반복문과 조건문을 함께 사용해서 해결하는 문제를 생각해보자. 숫자 10개를 입력받은 후에 이 중에서 양의 정수는 몇 개이고, 음의 정수는 몇 개 인지 세는 문제를 풀어보자. 이 문제를 해결하기 위해서 다음과 같은 순서를 생각해 볼 수 있다.\n",
    "\n",
    "1. 양의 정수 개수와 음의 정수 개수의 초기 값은 모두 0으로 정한다.\n",
    "2. 숫자를 10번 입력 받으면서 3번 ~ 4번의 작업을 수행한다.\n",
    "3. 만일 입력된 숫자가 양의 정수이면 양의 정수 개수를 하나 증가시킨다.\n",
    "4. 그렇지 않고 만일 입력된 숫자가 음의 정수이면 음의 정수 개수를 하나 증가시킨다.\n",
    "5. 반복문이 끝난 후에 양의 정수 개수와 음의 정수 개수를 출력한다.\n",
    "\n",
    "위의 순서대로 프로그램을 제작하면 다음과 같다."
   ]
  },
  {
   "cell_type": "code",
   "execution_count": null,
   "metadata": {},
   "outputs": [],
   "source": [
    "# -*- coding: utf-8 -*-\n",
    "# 예제 ex_D.py\n",
    "count_plus = 0 # 양의 정수 개수 (초기값 0)\n",
    "count_minus = 0 # 음의 정수 개수 (초기값 0)\n",
    "for i in range(10) : # 0부터 9까지 반복, 즉 10회 반복\n",
    "    number = int(input(\"숫자를 하나 입력하시오. : \"))\n",
    "    if number > 0 :\n",
    "        count_plus = count_plus + 1\n",
    "    elif number < 0 :\n",
    "        count_minus = count_minus + 1\n",
    "print(\"입력된 숫자 중에서 양의 정수는\", count_plus, \"개 음의 정수는\", count_minus, \"개입니다.\")"
   ]
  },
  {
   "cell_type": "markdown",
   "metadata": {},
   "source": [
    "for 문에서는 인덱스로 사용하는 변수를 반복 구문 안에서 잘 활용하는 것이 중요하다. 예를 들어 구구단의 5단을 출력하는 프로그램을 만들어보자. 먼저 출력될 모습을 미리 확인해보면서 반복문에 적용할 인덱스의 규칙을 찾아내야 한다.\n",
    "```\n",
    "5 × 1 = 5\n",
    "5 × 2 = 10\n",
    "5 × 3 = 15\n",
    "5 × 4 = 20\n",
    "5 × 5 = 25\n",
    "5 × 6 = 30\n",
    "5 × 7 = 35\n",
    "5 × 8 = 40\n",
    "5 × 9 = 45\n",
    "```\n",
    "\n",
    "위의 출력 내용에서 매 줄에서 보이는 숫자는 세 부분인데, 첫 번째 5는 모두 동일하고, 두 번째 수는 1부터 9까지 변하는 값이다. 세 번째 수는 첫 번째 수와 두 번째 수를 곱한 값이다. 그렇다면 다음 구문처럼 for 구문을 만들 수 있다."
   ]
  },
  {
   "cell_type": "code",
   "execution_count": null,
   "metadata": {},
   "outputs": [],
   "source": [
    "for i in range(1,10) :\n",
    "    print(5, \"x\", i, \"=\", 5*i)"
   ]
  },
  {
   "cell_type": "markdown",
   "metadata": {},
   "source": [
    "***\n",
    "***"
   ]
  },
  {
   "cell_type": "markdown",
   "metadata": {},
   "source": [
    "### ○ 실습 문제"
   ]
  },
  {
   "cell_type": "markdown",
   "metadata": {},
   "source": [
    "#### <a id='D01'>[D01] 1부터 숫자 더하기</a>\n",
    "숫자를 입력받은 후, 이 숫자가 1보다 큰 경우 1부터 이 숫자까지의 모든 정수를 더한 값을 출력하라. 단, 입력한 숫자가 1 이하이면 \"잘못 입력하였습니다.\"라고 출력한다.\n",
    "\n",
    "반복은 for 구문을 사용하고, 변수는 다음과 같이 사용하라.\n",
    "```\n",
    "number # 입력받은 수\n",
    "totalsum # 1부터 더한 계산 결과 값\n",
    "i # 반복문 사용을 위한 변수\n",
    "```"
   ]
  },
  {
   "cell_type": "code",
   "execution_count": null,
   "metadata": {},
   "outputs": [],
   "source": []
  },
  {
   "cell_type": "code",
   "execution_count": null,
   "metadata": {
    "hideCode": true
   },
   "outputs": [],
   "source": [
    "number = int(input(\"숫자를 입력하세요 : \"))\n",
    "\n",
    "if number <= 1: print(\"잘못 입력하였습니다.\")\n",
    "else:\n",
    "    totalsum = 0\n",
    "    for i in range(1, number + 1): totalsum += i\n",
    "    \n",
    "    print(\"1부터 입력한 숫자까지의 모든 정수를 더한 값은 {}입니다.\".format(totalsum))"
   ]
  },
  {
   "cell_type": "markdown",
   "metadata": {},
   "source": [
    "##### 실행 예시 #1\n",
    "숫자를 입력하세요 : 500<br>\n",
    "1부터 입력한 숫자까지의 모든 정수를 더한 값은 125250입니다.\n",
    "\n",
    "##### 실행 예시 #2\n",
    "숫자를 입력하세요 : 100<br>\n",
    "1부터 입력한 숫자까지의 모든 정수를 더한 값은 5050입니다."
   ]
  },
  {
   "cell_type": "markdown",
   "metadata": {},
   "source": [
    "***"
   ]
  },
  {
   "cell_type": "markdown",
   "metadata": {},
   "source": [
    "#### <a id='D02'>[D02] 입력 받은 숫자들 중에서 가장 큰 수와 가장 작은 수 구하기</a>\n",
    "반복해서 0부터 100 사이의 숫자를 입력받아서 지금까지 입력된 숫자들 중 가장 큰 수와 가장 작은 수가 무엇인지 출력하라. 0부터 100 사이의 숫자가 아닌 수가 입력되면 반복문이 중단되도록 하라.\n",
    "\n",
    "반복은 while 구문을 사용하고, 변수는 다음과 같이 사용하라.\n",
    "```\n",
    "number # 입력받은 수\n",
    "max_num, min_num # 가장 큰 숫자, 가장 작은 숫자\n",
    "```"
   ]
  },
  {
   "cell_type": "code",
   "execution_count": null,
   "metadata": {},
   "outputs": [],
   "source": []
  },
  {
   "cell_type": "code",
   "execution_count": null,
   "metadata": {
    "hideCode": true
   },
   "outputs": [],
   "source": [
    "max_num = -1\n",
    "min_num = 101\n",
    "\n",
    "number = 0\n",
    "\n",
    "while True:\n",
    "    number = int(input(\"0부터 100 사이의 숫자를 입력하세요 : \"))\n",
    "    \n",
    "    if number < 0 or number > 100: break\n",
    "    \n",
    "    if max_num < number: max_num = number\n",
    "    if min_num > number: min_num = number\n",
    "\n",
    "print(\"입력된 숫자들 중 가장 큰 수는 {}이고, 가장 작은 수는 {}입니다.\".format(max_num, min_num))"
   ]
  },
  {
   "cell_type": "markdown",
   "metadata": {},
   "source": [
    "##### 실행 예시\n",
    "0부터 100 사이의 숫자를 입력하세요 : 55<br>\n",
    "0부터 100 사이의 숫자를 입력하세요 : 22<br>\n",
    "0부터 100 사이의 숫자를 입력하세요 : 11<br>\n",
    "0부터 100 사이의 숫자를 입력하세요 : 64<br>\n",
    "0부터 100 사이의 숫자를 입력하세요 : 72<br>\n",
    "0부터 100 사이의 숫자를 입력하세요 : 99<br>\n",
    "0부터 100 사이의 숫자를 입력하세요 : 5<br>\n",
    "0부터 100 사이의 숫자를 입력하세요 : 67<br>\n",
    "0부터 100 사이의 숫자를 입력하세요 : 99<br>\n",
    "0부터 100 사이의 숫자를 입력하세요 : 999<br>\n",
    "입력된 숫자들 중 가장 큰 수는 99이고, 가장 작은 수는 5입니다."
   ]
  },
  {
   "cell_type": "markdown",
   "metadata": {},
   "source": [
    "***"
   ]
  },
  {
   "cell_type": "markdown",
   "metadata": {},
   "source": [
    "#### <a id='D03'>[D03] 입력 받은 숫자들의 총합계와 평균 값 구하기</a>\n",
    "반복해서 0부터 100 사이의 숫자를 입력받아서 지금까지 입력된 숫자들이 모두 몇 개이며, 이 숫자들의 총 합계와 평균 값을 계산하여 출력하라. 0부터 100 사이의 숫자가 아닌 수가 입력되면 반복문이 중단되도록 하라.\n",
    "\n",
    "반복은 while 구문을 사용하고, 변수는 다음과 같이 사용하라.\n",
    "```\n",
    "number # 입력받은 수\n",
    "count = 0 # 입력받은 숫자의 개수\n",
    "totalsum # 총합계\n",
    "average # 평균 값\n",
    "```"
   ]
  },
  {
   "cell_type": "code",
   "execution_count": null,
   "metadata": {},
   "outputs": [],
   "source": []
  },
  {
   "cell_type": "code",
   "execution_count": null,
   "metadata": {
    "hideCode": true
   },
   "outputs": [],
   "source": [
    "number = 0\n",
    "count = 0\n",
    "totalsum = 0\n",
    "average = 0\n",
    "\n",
    "while True:\n",
    "    number = int(input(\"0부터 100 사이의 숫자를 입력하세요 : \"))\n",
    "    \n",
    "    if number < 0 or number > 100: break\n",
    "        \n",
    "    count += 1\n",
    "    totalsum += number\n",
    "    average = totalsum / count\n",
    "\n",
    "print(\"입력한 {}개의 숫자들의 총 합계는 {}이고, 평균 값은 {:.1f}입니다.\".format(count, totalsum, average))"
   ]
  },
  {
   "cell_type": "markdown",
   "metadata": {},
   "source": [
    "##### 실행 예시 (사용자가 입력하는 부분은 굵게 표시)\n",
    "0부터 100 사이의 숫자를 입력하세요 : 10<br>\n",
    "0부터 100 사이의 숫자를 입력하세요 : 50<br>\n",
    "0부터 100 사이의 숫자를 입력하세요 : 64<br>\n",
    "0부터 100 사이의 숫자를 입력하세요 : 2<br>\n",
    "0부터 100 사이의 숫자를 입력하세요 : 13<br>\n",
    "0부터 100 사이의 숫자를 입력하세요 : 97<br>\n",
    "0부터 100 사이의 숫자를 입력하세요 : 88<br>\n",
    "0부터 100 사이의 숫자를 입력하세요 : 12<br>\n",
    "0부터 100 사이의 숫자를 입력하세요 : 35<br>\n",
    "0부터 100 사이의 숫자를 입력하세요 : 50<br>\n",
    "0부터 100 사이의 숫자를 입력하세요 : 999<br>\n",
    "입력한 10개의 숫자들의 총 합계는 421이고, 평균 값은 42.1입니다."
   ]
  },
  {
   "cell_type": "markdown",
   "metadata": {},
   "source": [
    "***"
   ]
  },
  {
   "cell_type": "markdown",
   "metadata": {},
   "source": [
    "#### <a id='D04'>[D04] 미성년자 숫자 세기</a>\n",
    "가족이 몇 명인지 입력받은 후, 그 인원 수 만큼 태어난 년도를 입력받으면서, 나이를 계산하여 미성년자가 모두 몇 명인지 출력하라. 단, 나이 = 2019 – 태어난 년도 + 1 로 계산하고 나이가 20세 미만인 경우, 미성년자로 판정한다.\n",
    "\n",
    "반복은 for 구문을 사용하고, 변수는 다음과 같이 사용하라.\n",
    "```\n",
    "count_all # 가족 인원수\n",
    "count_young # 미성년자의 수\n",
    "birth_year # 태어난 년도\n",
    "age # 나이\n",
    "i # 반복문을 위한 변수\n",
    "```"
   ]
  },
  {
   "cell_type": "code",
   "execution_count": null,
   "metadata": {},
   "outputs": [],
   "source": []
  },
  {
   "cell_type": "code",
   "execution_count": null,
   "metadata": {
    "hideCode": true
   },
   "outputs": [],
   "source": [
    "count_young = 0\n",
    "count_all = int(input(\"가족이 몇 명인지 입력하세요 : \"))\n",
    "for i in range(count_all):\n",
    "    birth_year = int(input(\"태어난 년도를 입력하세요 : \"))\n",
    "    \n",
    "    age = 2019 - birth_year + 1\n",
    "    if age < 20: count_young += 1\n",
    "\n",
    "print(\"가족들 중에 미성년자는 모두 {}명입니다.\".format(count_young))"
   ]
  },
  {
   "cell_type": "markdown",
   "metadata": {},
   "source": [
    "##### 실행 예시\n",
    "가족이 몇 명인지 입력하세요 : 5<br>\n",
    "태어난 년도를 입력하세요 : 1962<br>\n",
    "태어난 년도를 입력하세요 : 1967<br>\n",
    "태어난 년도를 입력하세요 : 1992<br>\n",
    "태어난 년도를 입력하세요 : 1997<br>\n",
    "태어난 년도를 입력하세요 : 2009<br>\n",
    "가족들 중에 미성년자는 모두 1명입니다."
   ]
  },
  {
   "cell_type": "markdown",
   "metadata": {},
   "source": [
    "***"
   ]
  },
  {
   "cell_type": "markdown",
   "metadata": {},
   "source": [
    "#### <a id='D05'>[D05] 직사각형 형태 개수 세기</a>\n",
    "반복해서 직사각형의 가로크기와 세로크기를 입력받으면서 이 값을 이용하여 직사각형의 모양을 판정하여 각각의 종류별로 몇 개가 입력되었는지 결과를 출력하라. 가로 크기와 세로 크기 중 하나라도 0 이하의 값이 입력되면 반복을 중단한다. 단, 평가 기준은 다음과 같다.\n",
    "- 가로 크기와 세로크기가 동일 : \"정사각형\"\n",
    "- 가로 크기가 세로크기의 2배 이상 : \"좌우로 길쭉한 직사각형\"\n",
    "- 세로 크기가 가로크기의 2배 이상 : \"위아래로 길쭉한 직사각형\"\n",
    "- 가로 크기가 세로크기보다 크면 : \"일반적인 가로형 직사각형\"\n",
    "- 세로 크기가 가로크기보다 크면 : \"일반적인 세로형 직사각형\"\n",
    "\n",
    "반복은 while 구문을 사용하고, 변수는 다음과 같이 사용하라.\n",
    "```\n",
    "width, height # 가로크기, 세로크기\n",
    "count1 # \"정사각형\"의 개수\n",
    "count2 # \"좌우로 길쭉한 직사각형\"의 개수\n",
    "count3 # \"위아래로 길쭉한 직사각형\"의 개수\n",
    "count4 # \"일반적인 가로형 직사각형\"의 개수\n",
    "count5 # \"일반적인 세로형 직사각형\"의 개수\n",
    "```"
   ]
  },
  {
   "cell_type": "code",
   "execution_count": null,
   "metadata": {},
   "outputs": [],
   "source": []
  },
  {
   "cell_type": "code",
   "execution_count": null,
   "metadata": {
    "hideCode": true,
    "hideOutput": false,
    "hidePrompt": false
   },
   "outputs": [],
   "source": [
    "count1 = count2 = count3 = count4 = count5 = 0\n",
    "while True:\n",
    "    width, height = input(\"직사각형의 가로 크기와 세로 크기를 입력하세요(ex. 50 50) : \").split()\n",
    "    width, height = int(width), int(height)\n",
    "    \n",
    "    if width <= 0 or height <= 0: break\n",
    "        \n",
    "    if width == height: count1 += 1\n",
    "    elif width >= height * 2: count2 += 1\n",
    "    elif height >= width * 2: count3 += 1\n",
    "    elif width > height: count4 += 1\n",
    "    elif height > width: count5 += 1\n",
    "    \n",
    "print(\"정사각형의 개수는 {}입니다.\".format(count1))\n",
    "print(\"좌우로 길쭉한 직사각형의 개수는 {}입니다.\".format(count2))\n",
    "print(\"위아래로 길쭉한 직사각형의 개수는 {}입니다.\".format(count3))\n",
    "print(\"일반적인 가로형 직사각형의 개수는 {}입니다.\".format(count4))\n",
    "print(\"일반적인 세로형 직사각형의 개수는 {}입니다.\".format(count5))"
   ]
  },
  {
   "cell_type": "markdown",
   "metadata": {},
   "source": [
    "##### 실행 예시\n",
    "직사각형의 가로 크기와 세로 크기를 입력하세요(ex. 50 50) : 10 10<br>\n",
    "직사각형의 가로 크기와 세로 크기를 입력하세요(ex. 50 50) : 10 50<br>\n",
    "직사각형의 가로 크기와 세로 크기를 입력하세요(ex. 50 50) : 20 100<br>\n",
    "직사각형의 가로 크기와 세로 크기를 입력하세요(ex. 50 50) : 50 50<br>\n",
    "직사각형의 가로 크기와 세로 크기를 입력하세요(ex. 50 50) : 40 30<br>\n",
    "직사각형의 가로 크기와 세로 크기를 입력하세요(ex. 50 50) : 50 70<br>\n",
    "직사각형의 가로 크기와 세로 크기를 입력하세요(ex. 50 50) : 70 80<br>\n",
    "직사각형의 가로 크기와 세로 크기를 입력하세요(ex. 50 50) : 100 20<br>\n",
    "직사각형의 가로 크기와 세로 크기를 입력하세요(ex. 50 50) : 200 50<br>\n",
    "직사각형의 가로 크기와 세로 크기를 입력하세요(ex. 50 50) : 30 30<br>\n",
    "직사각형의 가로 크기와 세로 크기를 입력하세요(ex. 50 50) : -1 -1<br>\n",
    "정사각형의 개수는 3입니다.\n",
    "좌우로 길쭉한 직사각형의 개수는 2입니다.\n",
    "위아래로 길쭉한 직사각형의 개수는 2입니다.\n",
    "일반적인 가로형 직사각형의 개수는 1입니다.\n",
    "일반적인 세로형 직사각형의 개수는 2입니다."
   ]
  },
  {
   "cell_type": "markdown",
   "metadata": {},
   "source": [
    "***"
   ]
  },
  {
   "cell_type": "markdown",
   "metadata": {},
   "source": [
    "#### <a id='D06'>[D06] 아파트 평형 계산 및 종류 판정</a>\n",
    "아파트 10채의 분양 면적을 제곱미터(m2) 단위로 입력받아 이 값을 평형 단위의 값으로 변환하여 평형 수에 따라 아파트의 종류를 구분하여 종류별로 개수를 센 후, 그 결과를 출력하라. 단, 평형 수 = 제곱미터 / 3.305 로 계산하고, 크기에 따른 아파트 종류는 다음과 같이 판정한다.\n",
    "- 15평 미만 : 소형\n",
    "- 15평 이상 ~ 30평 미만 : 중소형\n",
    "- 30평 이상 ~ 50평 미만 : 중형\n",
    "- 50평 이상 : 대형\n",
    "\n",
    "\n",
    "반복문은 for 구문을 사용하고, 변수는 다음과 같이 사용하라.\n",
    "```\n",
    "m2_area # 면적 (제곱미터)\n",
    "pyung_area # 면적 (평수)\n",
    "count1 # 소형 아파트 개수\n",
    "count2 # 중소형 아파트 개수\n",
    "count3 # 중형 아파트 개수\n",
    "count4 # 대형 아파트 개수\n",
    "i # 반복문을 위한 변수\n",
    "```"
   ]
  },
  {
   "cell_type": "code",
   "execution_count": null,
   "metadata": {},
   "outputs": [],
   "source": []
  },
  {
   "cell_type": "code",
   "execution_count": null,
   "metadata": {
    "hideCode": true
   },
   "outputs": [],
   "source": [
    "count1 = count2 = count3 = count4 = 0\n",
    "\n",
    "for i in range(10):\n",
    "    m2_area = float(input(\"아파트의 분양 면적(제곱미터)를 입력하세요 : \"))\n",
    "    pyung_area = m2_area / 3.305\n",
    "    \n",
    "    print(\"이 아파트의 평형은 {:.1f}입니다.\".format(pyung_area))\n",
    "    \n",
    "    if pyung_area < 15: count1 += 1\n",
    "    elif pyung_area < 30: count2 += 1\n",
    "    elif pyung_area < 50: count3 += 1\n",
    "    else: count4 += 1\n",
    "\n",
    "print(\"소형 아파트의 개수는 {}입니다.\".format(count1))\n",
    "print(\"중소형 아파트의 개수는 {}입니다.\".format(count2))\n",
    "print(\"중형 아파트의 개수는 {}입니다.\".format(count3))\n",
    "print(\"대형 아파트의 개수는 {}입니다.\".format(count4))"
   ]
  },
  {
   "cell_type": "markdown",
   "metadata": {},
   "source": [
    "##### 실행 예시\n",
    "아파트의 분양 면적(제곱미터)를 입력하세요 : 85.5<br>\n",
    "이 아파트의 평형은 25.9입니다.<br>\n",
    "아파트의 분양 면적(제곱미터)를 입력하세요 : 120.4<br>\n",
    "이 아파트의 평형은 36.4입니다.<br>\n",
    "아파트의 분양 면적(제곱미터)를 입력하세요 : 200.0<br>\n",
    "이 아파트의 평형은 60.5입니다.<br>\n",
    "아파트의 분양 면적(제곱미터)를 입력하세요 : 40.5<br>\n",
    "이 아파트의 평형은 12.3입니다.<br>\n",
    "아파트의 분양 면적(제곱미터)를 입력하세요 : 55<br>\n",
    "이 아파트의 평형은 16.6입니다.<br>\n",
    "아파트의 분양 면적(제곱미터)를 입력하세요 : 155<br>\n",
    "이 아파트의 평형은 46.9입니다.<br>\n",
    "아파트의 분양 면적(제곱미터)를 입력하세요 : 77.7<br>\n",
    "이 아파트의 평형은 23.5입니다.<br>\n",
    "아파트의 분양 면적(제곱미터)를 입력하세요 : 99.9<br>\n",
    "이 아파트의 평형은 30.2입니다.<br>\n",
    "아파트의 분양 면적(제곱미터)를 입력하세요 : 65.0<br>\n",
    "이 아파트의 평형은 19.7입니다.<br>\n",
    "아파트의 분양 면적(제곱미터)를 입력하세요 : 250.1<br>\n",
    "이 아파트의 평형은 75.7입니다.<br>\n",
    "소형 아파트의 개수는 1입니다.<br>\n",
    "중소형 아파트의 개수는 4입니다.<br>\n",
    "중형 아파트의 개수는 3입니다.<br>\n",
    "대형 아파트의 개수는 2입니다."
   ]
  },
  {
   "cell_type": "markdown",
   "metadata": {},
   "source": [
    "***"
   ]
  },
  {
   "cell_type": "markdown",
   "metadata": {},
   "source": [
    "#### <a id='D07'>[D07] 1차 함수의 좌표 구하기</a>\n",
    "1차 함수 y = ax + b 에 대해 계수 a와 b를 입력받은 후, x값의 시작 값과 마지막 값을 입력받아 이 두 수 사이의 x 값에 대한 1차 함수의 (x, y) 좌표들을 출력하라.\n",
    "\n",
    "반복문은 for 구문을 사용하고, 변수는 다음과 같이 사용하라.\n",
    "```\n",
    "a, b # 1차 함수의 계수 a, b\n",
    "x_begin, x_end # x좌표의 시작 값과 끝 값\n",
    "x, y # x좌표, y좌표\n",
    "```"
   ]
  },
  {
   "cell_type": "code",
   "execution_count": null,
   "metadata": {},
   "outputs": [],
   "source": []
  },
  {
   "cell_type": "code",
   "execution_count": null,
   "metadata": {
    "hideCode": true
   },
   "outputs": [],
   "source": [
    "a, b = input(\"1차 함수 y = ax + b의 계수 a와 b를 입력하세요 : \").split()\n",
    "a, b = int(a), int(b)\n",
    "\n",
    "x_begin, x_end = input(\"x좌표의 시작 값과 끝 값을 입력하세요 : \").split()\n",
    "x_begin, x_end = int(x_begin), int(x_end)\n",
    "\n",
    "for x in range(x_begin, x_end + 1):\n",
    "    y = a * x + b\n",
    "    print(\"좌표 : ({}, {})\".format(x, y))"
   ]
  },
  {
   "cell_type": "markdown",
   "metadata": {},
   "source": [
    "##### 실행 예시\n",
    "1차 함수 y = ax + b의 계수 a와 b를 공백을 두고 입력하세요 : 2 5<br>\n",
    "x좌표의 시작 값과 끝 값을 공백을 두고 입력하세요 : 1 10<br>\n",
    "좌표 : (1, 7)<br>\n",
    "좌표 : (2, 9)<br>\n",
    "좌표 : (3, 11)<br>\n",
    "좌표 : (4, 13)<br>\n",
    "좌표 : (5, 15)<br>\n",
    "좌표 : (6, 17)<br>\n",
    "좌표 : (7, 19)<br>\n",
    "좌표 : (8, 21)<br>\n",
    "좌표 : (9, 23)<br>\n",
    "좌표 : (10, 25)"
   ]
  },
  {
   "cell_type": "markdown",
   "metadata": {},
   "source": [
    "***"
   ]
  },
  {
   "cell_type": "markdown",
   "metadata": {},
   "source": [
    "#### <a id='D08'>[D08] 2차 함수의 좌표 구하기</a>\n",
    "2차 함수 y = ax^2 + bx + c 에 대해 계수 a와 b와 c를 입력받은 후, x값의 시작 값과 마지막 값을 입력받아 이 두 수 사이의 x값에 대한 2차 함수의 (x, y) 좌표들을 출력하라.\n",
    "\n",
    "반복문은 for 구문을 사용하고, 변수는 다음과 같이 사용하라.\n",
    "```\n",
    "a, b, c # 2차 함수의 계수 a, b, c\n",
    "x_begin, x_end # x좌표의 시작 값과 끝 값\n",
    "x, y # x좌표, y좌표\n",
    "```"
   ]
  },
  {
   "cell_type": "code",
   "execution_count": null,
   "metadata": {},
   "outputs": [],
   "source": []
  },
  {
   "cell_type": "code",
   "execution_count": null,
   "metadata": {
    "hideCode": true
   },
   "outputs": [],
   "source": [
    "a, b, c = input(\"2차 함수 y = ax^2 + bx + c의 계수 a와 b, c를 입력하세요 : \").split()\n",
    "a, b, c = int(a), int(b), int(c)\n",
    "\n",
    "x_begin, x_end = input(\"x좌표의 시작 값과 끝 값을 입력하세요 : \").split()\n",
    "x_begin, x_end = int(x_begin), int(x_end)\n",
    "\n",
    "for x in range(x_begin, x_end + 1):\n",
    "    y = a * (x ** 2) + b * x + c\n",
    "    print(\"좌표 : ({}, {})\".format(x, y))"
   ]
  },
  {
   "cell_type": "markdown",
   "metadata": {},
   "source": [
    "##### 실행 예시\n",
    "2차 함수 y = ax^2 + bx + c의 계수 a와 b, c를 입력하세요 : 1 4 4<br>\n",
    "x좌표의 시작 값과 끝 값을 입력하세요 : 1 10<br>\n",
    "좌표 : (1, 9)<br>\n",
    "좌표 : (2, 16)<br>\n",
    "좌표 : (3, 25)<br>\n",
    "좌표 : (4, 36)<br>\n",
    "좌표 : (5, 49)<br>\n",
    "좌표 : (6, 64)<br>\n",
    "좌표 : (7, 81)<br>\n",
    "좌표 : (8, 100)<br>\n",
    "좌표 : (9, 121)<br>\n",
    "좌표 : (10, 144)"
   ]
  },
  {
   "cell_type": "markdown",
   "metadata": {},
   "source": [
    "***"
   ]
  },
  {
   "cell_type": "markdown",
   "metadata": {},
   "source": [
    "#### <a id='D09'>[D09] 원하는 구구단의 단 출력하기</a>\n",
    "2 부터 9 사이의 숫자를 입력받아 이 숫자에 해당하는 구구단을 출력하라. 단, 2부터 9 사이의 숫자가 아닌 수를 입력하면 \"잘못 입력하였습니다.\"라고 출력하고 바르게 입력할 때까지 다시 입력을 받도록 하라.\n",
    "\n",
    "반복문은 적당하게 선택하고, 변수는 다음과 같이 사용하라.\n",
    "```\n",
    "dan # 출력하려는 구구단의 단 수\n",
    "i # 반복문을 위한 변수\n",
    "```"
   ]
  },
  {
   "cell_type": "code",
   "execution_count": null,
   "metadata": {},
   "outputs": [],
   "source": []
  },
  {
   "cell_type": "code",
   "execution_count": null,
   "metadata": {
    "hideCode": true
   },
   "outputs": [],
   "source": [
    "while True:\n",
    "    dan = int(input(\"출력하고 싶은 구구단의 단 수를 입력하세요(2 ~ 9) : \"))\n",
    "    if 2 <= dan <= 9: break\n",
    "        \n",
    "    print(\"잘못 입력하였습니다.\")\n",
    "\n",
    "for i in range(1, 10):\n",
    "    print(\"{} x {} = {}\".format(dan, i, dan * i))"
   ]
  },
  {
   "cell_type": "markdown",
   "metadata": {},
   "source": [
    "##### 실행 예시\n",
    "출력하고 싶은 구구단의 단 수를 입력하세요(2 ~ 9) : 1<br>\n",
    "잘못 입력하였습니다.<br>\n",
    "출력하고 싶은 구구단의 단 수를 입력하세요(2 ~ 9) : 10<br>\n",
    "잘못 입력하였습니다.<br>\n",
    "출력하고 싶은 구구단의 단 수를 입력하세요(2 ~ 9) : 7<br>\n",
    "7 x 1 = 7<br>\n",
    "7 x 2 = 14<br>\n",
    "7 x 3 = 21<br>\n",
    "7 x 4 = 28<br>\n",
    "7 x 5 = 35<br>\n",
    "7 x 6 = 42<br>\n",
    "7 x 7 = 49<br>\n",
    "7 x 8 = 56<br>\n",
    "7 x 9 = 63"
   ]
  },
  {
   "cell_type": "markdown",
   "metadata": {},
   "source": [
    "***"
   ]
  },
  {
   "cell_type": "markdown",
   "metadata": {},
   "source": [
    "#### <a id='D10'>[D10] 두 수의 배타적 배수 출력하기</a>\n",
    "숫자 2개를 입력받은 후, 1부터 100까지의 숫자 중에 이 두 숫자 중 하나의 숫자에 대해서만 배수인 수를 모두 출력하라. 즉, 두 숫자의 공통 배수인 숫자는 출력하지 않아야 한다. 예를 들어 15와 20을 입력하게 되면 \"15, 20, 30, 40, 45, 75, 80, 90, 100\"이 출력된다.\n",
    "\n",
    "반복문은 for 구문을 사용하고, 변수는 다음과 같이 사용하라.\n",
    "```\n",
    "num1, num2 # 입력받은 두 수\n",
    "i # 반복문을 위한 변수\n",
    "```"
   ]
  },
  {
   "cell_type": "code",
   "execution_count": null,
   "metadata": {},
   "outputs": [],
   "source": []
  },
  {
   "cell_type": "code",
   "execution_count": null,
   "metadata": {
    "hideCode": true
   },
   "outputs": [],
   "source": [
    "num1, num2 = input(\"2개의 숫자를 입력하세요 : \").split()\n",
    "num1, num2 = int(num1), int(num2)\n",
    "\n",
    "if num1 > num2: num1, num2 = num2, num1\n",
    "    \n",
    "if num1 <= 100: print(num1, end = '')\n",
    "\n",
    "for i in range(num1 + 1, 101):\n",
    "    if (i % num1 == 0 or i % num2 == 0) and not (i % num1 == 0 and i % num2 == 0):\n",
    "        print(', {}'.format(i), end = '')\n",
    "\n",
    "print()"
   ]
  },
  {
   "cell_type": "markdown",
   "metadata": {},
   "source": [
    "##### 실행 예시 #1\n",
    "2개의 숫자를 입력하세요 : 15 20<br>\n",
    "15, 20, 30, 40, 45, 75, 80, 90, 100\n",
    "\n",
    "##### 실행 예시 #2\n",
    "2개의 숫자를 입력하세요 : 4 5<br>\n",
    "4, 5, 8, 10, 12, 15, 16, 24, 25, 28, 30, 32, 35, 36, 44, 45, 48, 50, 52, 55, 56, 64, 65, 68, 70, 72, 75, 76, 84, 85, 88, 90, 92, 95, 96"
   ]
  }
 ],
 "metadata": {
  "kernelspec": {
   "display_name": "Python 3",
   "language": "python",
   "name": "python3"
  },
  "language_info": {
   "codemirror_mode": {
    "name": "ipython",
    "version": 3
   },
   "file_extension": ".py",
   "mimetype": "text/x-python",
   "name": "python",
   "nbconvert_exporter": "python",
   "pygments_lexer": "ipython3",
   "version": "3.7.3"
  }
 },
 "nbformat": 4,
 "nbformat_minor": 2
}
