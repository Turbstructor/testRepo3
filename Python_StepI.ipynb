{
 "cells": [
  {
   "cell_type": "markdown",
   "metadata": {},
   "source": [
    "# 영역 3 : 함수 만들어 사용하기\n",
    "영역 3에서는 프로그램을 제작할 때에 필수 능력이라고 할 수 있는 함수 제작을 연습한다. 프로그램에서 처리해야 하는 작업들을 내용과 성격에 따라 서브 함수로 제작하여 역할을 분담하는 기술은 반드시 터득해야 하는 기술이다. 영역 3의 연습을 마치고 나면 영역 1과 영역 2에서 습득한 프\n",
    "로그래밍의 제어구조 기술을 메인 함수와 서브 함수 모두에 골고루 적용할 수 있게 될 것이다.\n",
    "\n",
    "함수는 별도로 작업해야 하는 프로그램 구문들을 따로 정해놓은 것이며, 함수를 호출할 때에 전달해야 하는 데이터가 있으면 이를 파라미터로 전달할 수 있다. 그리고 함수의 동작이 마친 후에 결과 값을 돌려받아야 하는 경우에는 리턴 값을 명시해서 돌려줄 수 있다. 물론 함수에 전달할 데이\n",
    "터가 없는 경우에는 파라미터 없이 함수를 제작하면 되며, 리턴할 결과 값이 없는 경우에는 리턴값이 없다고 명시하면 된다.\n",
    "\n",
    "영역 3의 실습 문제에서는 사용해야 하는 변수를 알려주지 않는다. 여러분이 문제를 충분히 읽고 분석한 후, 적절하게 필요한 변수들을 선언하여 사용하기 바란다.\n",
    "\n",
    "영역 3는 다음과 같이 3개의 단계로 구성된다.\n",
    "- [[Step I] : 파라미터 또는 리턴값만 있는 함수 만들기](#Intro)\n",
    "- [[Step J] : 파라미터와 리턴 값이 모두 있는 함수 만들기](Python_StepJ.ipynb#Intro)\n",
    "- [[Step K] : 파일 사용하기](Python_StepK.ipynb#Intro)"
   ]
  },
  {
   "cell_type": "markdown",
   "metadata": {},
   "source": [
    "***"
   ]
  },
  {
   "cell_type": "markdown",
   "metadata": {},
   "source": [
    "## <a id='Intro'>[Step I] 함수</a>"
   ]
  },
  {
   "cell_type": "markdown",
   "metadata": {},
   "source": [
    "이번 단계에서는 가장 기본적인 함수들을 만드는 연습을 하려고 한다. 함수를 호출하게 되면 뭔가 정해진 작업을 수행하기만 하면 함수의 역할이 끝나는 경우이다. 이런 경우에는 함수의 리턴 값이 없다고 말한다. 예를 들어 다음 예제와 같이 화면에 구분선을 출력하는 경우가 여러 번 있다고 가\n",
    "정한다면, 이 작업이 필요할 때마다 해당 구문을 일일이 프로그램에 넣기 보다는 함수로 만들어 호출하게 하면 프로그램을 읽거나 만들 때에 좀 더 편리하다. 소스에서 보는 바와 같이 메인 함수 위에 함수의 내용을 구현하였다."
   ]
  },
  {
   "cell_type": "code",
   "execution_count": null,
   "metadata": {},
   "outputs": [],
   "source": [
    "# -*- coding: utf-8 -*-\n",
    "# 예제 ex_I1.py\n",
    "from random import *\n",
    "\n",
    "def print_header() : # 함수 시작\n",
    "    print (\"=\"*17)\n",
    "    print (\"생성된 로또 번호\")\n",
    "    print (\"=\"*17)\n",
    "    \n",
    "# 메인함수 시작\n",
    "lotto = set() # 로또 번호를 보관하기 위한 집합 생성\n",
    "while len(lotto) < 6: # 만들어진 번호의 갯수가 6개가 되면 종료\n",
    "    lotto.add(randint(1,45))\n",
    "print_header() # 함수 호출\n",
    "for item in lotto:\n",
    "    print(\"%2d\"%item, end=\" \")\n",
    "print()"
   ]
  },
  {
   "cell_type": "markdown",
   "metadata": {},
   "source": [
    "이번에는 파라미터가 있고 리턴 값이 없는 함수를 만들어보자. 위의 예제에서 `print_header()` 함수는 테두리를 등호('=')로 출력하고 있는데, 이 함수에 테두리의 모양문자를 지정하는 값을 파라미터로 주어서 출력 모양을 바꿔보자. 그러면 함수의 내용은 다음과 같이 바뀌어야 한다.\n",
    "```\n",
    "def print_header(ch) : # 변경된 함수 원형 정의, 파라미터로 ch가 추가되었다.\n",
    "```\n",
    "\n",
    "이렇게 바뀐 함수를 사용하도록 변경된 프로그램은 다음과 같다."
   ]
  },
  {
   "cell_type": "code",
   "execution_count": null,
   "metadata": {},
   "outputs": [],
   "source": [
    "# coding: euc-kr\n",
    "# 예제 ex_I2.py\n",
    "from random import *\n",
    "def print_header(ch) : # 함수 시작\n",
    "    print(ch*17)\n",
    "    print(\"생성된 로또 번호\")\n",
    "    print(ch*17)\n",
    "\n",
    "# 메인함수 시작\n",
    "lotto = set() # 로또 번호를 보관하기 위한 집합 생성\n",
    "while len(lotto) < 6: # 만들어진 번호의 갯수가 6개가 되면 종료\n",
    "    lotto.add(randint(1,45))\n",
    "print_header(\"#\") # 함수 호출시 파라미터로 테두리에 사용할 문자를 지정하였다.\n",
    "for item in lotto:\n",
    "    print(\"%2d\"%item, end=\" \")\n",
    "print()"
   ]
  },
  {
   "cell_type": "markdown",
   "metadata": {},
   "source": [
    "이번에는 파라미터 없이 리턴 값만 돌려주는 함수를 만들어보자. 예를 들어 입력받아야 하는 데이터가 바르게 입력되도록 점검해야 하는 일이 반복된다면 이 작업을 함수로 제작해서 편리하게 불러 오면 된다. 성적을 처리하는 프로그램에서 점수를 입력받을 때에 반드시 0에서 100사이의 정수\n",
    "를 입력받아야 하는데 이 범위에 맞는 수인지 검사하는 함수를 만들어보자. 이 함수를 사용하여 국어, 영어, 수학 점수를 입력받아 총점과 평균을 계산하는 프로그램은 다음과 같다."
   ]
  },
  {
   "cell_type": "code",
   "execution_count": null,
   "metadata": {},
   "outputs": [],
   "source": [
    "# -*- coding: utf-8 -*-\n",
    "# 예제 ex_I3.py\n",
    "def GetScore() : # 함수 시작\n",
    "    while 1 :\n",
    "        jumsu = int(input(\"점수를 입력하시오. (0~100) \"))\n",
    "        if 0 <= jumsu <= 100 : return jumsu\n",
    "        else: print(\"잘못된 범위의 수입니다.\")\n",
    "            \n",
    "# 메인함수 시작\n",
    "class_name = [\"국어\", \"영어\", \"수학\"]\n",
    "class_score = []\n",
    "sum = 0\n",
    "for i in range(3):\n",
    "    print(class_name[i])\n",
    "    score = GetScore()\n",
    "    class_score.append(score)\n",
    "    sum += score\n",
    "average = sum / 3.0\n",
    "print(\"3과목의 총점은 %d, 평균은 %.1f입니다.\"%(sum, average))"
   ]
  },
  {
   "cell_type": "markdown",
   "metadata": {},
   "source": [
    "***\n",
    "***"
   ]
  },
  {
   "cell_type": "markdown",
   "metadata": {},
   "source": [
    "### ○ 실습 문제"
   ]
  },
  {
   "cell_type": "markdown",
   "metadata": {},
   "source": [
    "#### <a id='I01'>[I01] 메뉴판 보여주는 함수 만들기</a>\n",
    "어떤 식당의 메뉴판을 보여주는 함수를 만들어라. 메인 함수에서 이 함수를 호출하여 메뉴판을 보여준 다음 메뉴번호를 입력받아 해당 메뉴의 가격을 합산하되 메뉴선택 종료를 의미하는 5값을 입력 받을 때까지 계속 반복하여 메뉴를 선택하게 하고, 선택종료 후 선택한 메뉴의 총 합계금액을 출력하라. 단, 사용할 메뉴는 다음과 같다.\n",
    "1. 피자(15,000원)\n",
    "2. 스파게티(10,000원)\n",
    "3. 샐러드(7,000원)\n",
    "4. 음료수(2,000원)\n",
    "5. 종료\n",
    "\n",
    "함수 선언부는 다음과 같다.\n",
    "```\n",
    "def ShowMenu() :\n",
    "    파라미터 : 없음\n",
    "    리턴 값 : 없음\n",
    "    수행내용 : 메뉴판 출력\n",
    "```"
   ]
  },
  {
   "cell_type": "code",
   "execution_count": null,
   "metadata": {},
   "outputs": [],
   "source": []
  },
  {
   "cell_type": "code",
   "execution_count": null,
   "metadata": {
    "hideCode": true
   },
   "outputs": [],
   "source": [
    "def ShowMenu():\n",
    "  print(\"1. 피자(15,000원) 2. 스파게티(10,000원) 3. 샐러드(7,000원) 4. 음료수(2,000원)\")\n",
    "\n",
    "total = 0\n",
    "\n",
    "while 1:\n",
    "  ShowMenu()\n",
    "  menu=int(input(\"메뉴를 선택해주세요.(종료 : 5) : \"))\n",
    "  if menu == 1:\n",
    "    total += 15000\n",
    "  elif menu == 2:\n",
    "    total += 10000\n",
    "  elif menu == 3:\n",
    "    total += 7000\n",
    "  elif menu == 4:\n",
    "    total += 2000\n",
    "  elif menu == 5:\n",
    "    print(\"현재까지의 주문 금액은\", total, \"원입니다.\\n\") \n",
    "    break\n",
    "  print(\"현재까지의 주문 금액은\", total, \"원입니다.\\n\") \n",
    "\n",
    "print(\"총 주문 금액은\", total, \"원입니다.\")\n"
   ]
  },
  {
   "cell_type": "markdown",
   "metadata": {},
   "source": [
    "##### 실행 예시\n",
    "1. 피자(15,000원) 2. 스파게티(10,000원) 3. 샐러드(7,000원) 4. 음료수(2,000원)<br>\n",
    "메뉴를 선택해주세요.(종료 : 5) : 1<br>\n",
    "현재까지의 주문 금액은 15000 원입니다.\n",
    "\n",
    "1. 피자(15,000원) 2. 스파게티(10,000원) 3. 샐러드(7,000원) 4. 음료수(2,000원)<br>\n",
    "메뉴를 선택해주세요.(종료 : 5) : 1<br>\n",
    "현재까지의 주문 금액은 30000 원입니다.\n",
    "\n",
    "1. 피자(15,000원) 2. 스파게티(10,000원) 3. 샐러드(7,000원) 4. 음료수(2,000원)<br>\n",
    "메뉴를 선택해주세요.(종료 : 5) : 2<br>\n",
    "현재까지의 주문 금액은 40000 원입니다.\n",
    "\n",
    "1. 피자(15,000원) 2. 스파게티(10,000원) 3. 샐러드(7,000원) 4. 음료수(2,000원)<br>\n",
    "메뉴를 선택해주세요.(종료 : 5) : 3<br>\n",
    "현재까지의 주문 금액은 47000 원입니다.\n",
    "\n",
    "1. 피자(15,000원) 2. 스파게티(10,000원) 3. 샐러드(7,000원) 4. 음료수(2,000원)<br>\n",
    "메뉴를 선택해주세요.(종료 : 5) : 4<br>\n",
    "현재까지의 주문 금액은 49000 원입니다.\n",
    "\n",
    "1. 피자(15,000원) 2. 스파게티(10,000원) 3. 샐러드(7,000원) 4. 음료수(2,000원)<br>\n",
    "메뉴를 선택해주세요.(종료 : 5) : 5<br>\n",
    "현재까지의 주문 금액은 49000 원입니다.\n",
    "\n",
    "총 주문 금액은 49000 원입니다."
   ]
  },
  {
   "cell_type": "markdown",
   "metadata": {},
   "source": [
    "***"
   ]
  },
  {
   "cell_type": "markdown",
   "metadata": {},
   "source": [
    "#### <a id='I02'>[I02] 빈칸과 함께 특정 문자를 개수만큼 찍는 함수 만들기</a>\n",
    "파라미터로 문자 하나와 숫자 두 개를 넘겨주면 한 줄에 첫 번째 숫자만큼 빈칸을 출력한 후, 바로 이어서 두 번째 숫자만큼 넘겨받은 문자를 화면에 출력하는 함수를 만들어라. 그리고 사용자로부터 모양(문자 하나)과 높이, 여백을 입력받은 후, 이 함수를 사용해서 입력한 크기만큼의 여백과 높이를 갖는 우직각 삼각형을 입력한 문자모양으로 화면에 출력시켜라.\n",
    "\n",
    "함수 선언부는 다음과 같다.\n",
    "```\n",
    "def PrintCharWithBlank(blanks, size, ch) :\n",
    "    파라미터 : blank - 빈칸의 개수, size - 출력할 문자의 개수, ch - 출력할 문자\n",
    "    리턴 값 : 없음\n",
    "    수행내용 : blanks 숫자만큼 빈칸 출력, size 개수만큼 ch 문자 출력 후 줄바꿈\n",
    "```"
   ]
  },
  {
   "cell_type": "code",
   "execution_count": null,
   "metadata": {},
   "outputs": [],
   "source": []
  },
  {
   "cell_type": "code",
   "execution_count": null,
   "metadata": {
    "hideCode": true,
    "scrolled": true
   },
   "outputs": [],
   "source": [
    "c = input('직각 삼각형을 그리는데 사용할 문자 입력 : ')\n",
    "h, w = list(map(int, input('직각 삼각형의 높이와 여백 크기 입력 : ').split()))\n",
    "def PrintCharWithBlank(blacks, size, ch):\n",
    "    for i in range(size):\n",
    "        print(' ' * (size - i - 1 + blacks) + ch * (i + 1))\n",
    "PrintCharWithBlank(w, h, c)"
   ]
  },
  {
   "cell_type": "markdown",
   "metadata": {},
   "source": [
    "##### 실행 예시 (공백은 '^' 문자로 표시함)\n",
    "직각 삼각형을 그리는데 사용할 문자 입력 : &<br>\n",
    "직각 삼각형의 높이와 여백 크기 입력 : 20 10<br>\n",
    "^^^^^^^^^^^^^^^^^^^^^^^^^^^^^&<br>\n",
    "^^^^^^^^^^^^^^^^^^^^^^^^^^^^&&<br>\n",
    "^^^^^^^^^^^^^^^^^^^^^^^^^^^&&&<br>\n",
    "^^^^^^^^^^^^^^^^^^^^^^^^^^&&&&<br>\n",
    "^^^^^^^^^^^^^^^^^^^^^^^^^&&&&&<br>\n",
    "^^^^^^^^^^^^^^^^^^^^^^^^&&&&&&<br>\n",
    "^^^^^^^^^^^^^^^^^^^^^^^&&&&&&&<br>\n",
    "^^^^^^^^^^^^^^^^^^^^^^&&&&&&&&<br>\n",
    "^^^^^^^^^^^^^^^^^^^^^&&&&&&&&&<br>\n",
    "^^^^^^^^^^^^^^^^^^^^&&&&&&&&&&<br>\n",
    "^^^^^^^^^^^^^^^^^^^&&&&&&&&&&&<br>\n",
    "^^^^^^^^^^^^^^^^^^&&&&&&&&&&&&<br>\n",
    "^^^^^^^^^^^^^^^^^&&&&&&&&&&&&&<br>\n",
    "^^^^^^^^^^^^^^^^&&&&&&&&&&&&&&<br>\n",
    "^^^^^^^^^^^^^^^&&&&&&&&&&&&&&&<br>\n",
    "^^^^^^^^^^^^^^&&&&&&&&&&&&&&&&<br>\n",
    "^^^^^^^^^^^^^&&&&&&&&&&&&&&&&&<br>\n",
    "^^^^^^^^^^^^&&&&&&&&&&&&&&&&&&<br>\n",
    "^^^^^^^^^^^&&&&&&&&&&&&&&&&&&&<br>\n",
    "^^^^^^^^^^&&&&&&&&&&&&&&&&&&&&"
   ]
  },
  {
   "cell_type": "markdown",
   "metadata": {},
   "source": [
    "***"
   ]
  },
  {
   "cell_type": "markdown",
   "metadata": {},
   "source": [
    "#### <a id='I03'>[I03] 비만 판정</a>\n",
    "10명의 신장(cm단위)과 체중(kg단위)를 입력받으면서 AskBiman() 함수를 통해 이들이 비만도를 출력하고 다음 기준에 따라 비만여부를 판정하여 출력하라. 비만도 수치 = 체중(kg) / (신장(m)의 제곱) 으로 계산한다. 이 때, 신장은 미터 단위로 환산해야 함을 유의하라.\n",
    "\n",
    "비만도 수치에 따른 비만도 판정\n",
    "- 18.5 미만 : 저체중\n",
    "- 18.5 ~ 23 미만 : 정상체중\n",
    "- 23~25미만 : 과체중\n",
    "- 25~30미만 : 경도비만\n",
    "- 30이상 : 고도비만\n",
    "\n",
    "함수 선언부는 다음과 같다.\n",
    "```\n",
    "def AskBiman(height, weight) :\n",
    "    파라미터 : height - 신장(cm), weight - 체중(kg)\n",
    "    리턴 값 : 없음\n",
    "    수행내용 : 비만도 계산 후 판정결과 출력\n",
    "```"
   ]
  },
  {
   "cell_type": "code",
   "execution_count": null,
   "metadata": {},
   "outputs": [],
   "source": []
  },
  {
   "cell_type": "code",
   "execution_count": null,
   "metadata": {
    "hideCode": true
   },
   "outputs": [],
   "source": [
    "def AskBiman(height, weight):\n",
    "  bmi = weight/((height/100)**2)\n",
    "  if bmi<18.5:\n",
    "    print(\"저체중입니다.\")\n",
    "  elif 18.5<=bmi<23:\n",
    "    print(\"정상체중입니다.\")\n",
    "  elif 23<=bmi<25:\n",
    "    print(\"과체중입니다.\")\n",
    "  elif 25<=bmi<30:\n",
    "    print(\"경도비만입니다.\")\n",
    "  elif 30<=bmi:\n",
    "    print(\"고도비만입니다.\")\n",
    "\n",
    "for i in range(10):\n",
    "  height, weight = input(\"%s번째 사람의 신장(cm)과 체중(kg)을 입력하시오. : \" % str(i+1)).split()\n",
    "  height = int(height)\n",
    "  weight = int(weight)\n",
    "  AskBiman(height, weight)\n"
   ]
  },
  {
   "cell_type": "markdown",
   "metadata": {},
   "source": [
    "##### 실행 예시\n",
    "1번째 사람의 신장(cm)과 체중(kg)을 입력하시오. : 176 80<br>\n",
    "경도비만입니다.<br>\n",
    "2번째 사람의 신장(cm)과 체중(kg)을 입력하시오. : 182 99<br>\n",
    "경도비만입니다.<br>\n",
    "3번째 사람의 신장(cm)과 체중(kg)을 입력하시오. : 168 54<br>\n",
    "정상체중입니다.<br>\n",
    "4번째 사람의 신장(cm)과 체중(kg)을 입력하시오. : 170 45<br>\n",
    "저체중입니다.<br>\n",
    "5번째 사람의 신장(cm)과 체중(kg)을 입력하시오. : 167 60<br>\n",
    "정상체중입니다.<br>\n",
    "6번째 사람의 신장(cm)과 체중(kg)을 입력하시오. : 175 98<br>\n",
    "고도비만입니다.<br>\n",
    "7번째 사람의 신장(cm)과 체중(kg)을 입력하시오. : 152 60<br>\n",
    "경도비만입니다.<br>\n",
    "8번째 사람의 신장(cm)과 체중(kg)을 입력하시오. : 172 80<br>\n",
    "경도비만입니다.<br>\n",
    "9번째 사람의 신장(cm)과 체중(kg)을 입력하시오. : 167 70<br>\n",
    "경도비만입니다.<br>\n",
    "10번째 사람의 신장(cm)과 체중(kg)을 입력하시오. : 168 75<br>\n",
    "경도비만입니다."
   ]
  },
  {
   "cell_type": "markdown",
   "metadata": {},
   "source": [
    "***"
   ]
  },
  {
   "cell_type": "markdown",
   "metadata": {},
   "source": [
    "#### <a id='I04'>[I04] 메뉴 번호 받아오는 함수 만들기</a>\n",
    "어떤 식당의 메뉴판을 보여준 후에 메뉴번호를 입력받아 그 가격을 리턴하는 함수를 만들어라. 메인 함수에서 이 함수를 호출하여 리턴 받은 가격을 합산하되 메뉴선택 종료를 의미하는 5를 리턴 받을 때까지 계속 반복하여 메뉴를 선택하게 하고, 선택종료 후 선택한 메뉴의 총 합계금액을 출력하라. 단, 사용할 메뉴는 다음과 같다.\n",
    "1. 피자(15,000원)\n",
    "2. 스파게티(10,000원)\n",
    "3. 샐러드(7,000원)\n",
    "4. 음료수(2,000원)\n",
    "5. 종료\n",
    "\n",
    "함수 선언부는 다음과 같다.\n",
    "```\n",
    "def SelectMenu() :\n",
    "    파라미터 : 없음\n",
    "    리턴 값 : 1 ~ 4를 선택하면 선택한 메뉴의 가격, 5를 선택하면 -1\n",
    "```"
   ]
  },
  {
   "cell_type": "code",
   "execution_count": null,
   "metadata": {},
   "outputs": [],
   "source": []
  },
  {
   "cell_type": "code",
   "execution_count": null,
   "metadata": {
    "hideCode": true,
    "scrolled": true
   },
   "outputs": [],
   "source": [
    "money = 0\n",
    "while True:\n",
    "    print('1. 피자(15,000원) 2. 스파게티(10,000원) 3. 샐러드(7,000원) 4. 음료수(2,000원)')\n",
    "    try:\n",
    "        m = int(input('메뉴를 선택하세요(종료 : 5) : '))\n",
    "    except ValueError:\n",
    "        continue\n",
    "    if m > 5 and m < 1:\n",
    "        continue\n",
    "    elif m == 1:\n",
    "        money+=15000\n",
    "    elif m == 2:\n",
    "        money+=10000\n",
    "    elif m == 3:\n",
    "        money+=7000\n",
    "    elif m == 4:\n",
    "        money+=2000\n",
    "    elif m == 5:\n",
    "        break\n",
    "    print('현재까지의 주문 금액:', money)\n",
    "    print()\n",
    "print('총 주문 금액:', money)"
   ]
  },
  {
   "cell_type": "markdown",
   "metadata": {},
   "source": [
    "##### 실행 예시\n",
    "1. 피자(15,000원) 2. 스파게티(10,000원) 3. 샐러드(7,000원) 4. 음료수(2,000원)<br>\n",
    "메뉴를 선택하세요(종료 : 5) : 1<br>\n",
    "현재까지의 주문 금액: 15000<br>\n",
    "\n",
    "\n",
    "1. 피자(15,000원) 2. 스파게티(10,000원) 3. 샐러드(7,000원) 4. 음료수(2,000원)<br>\n",
    "메뉴를 선택하세요(종료 : 5) : 1<br>\n",
    "현재까지의 주문 금액: 30000<br>\n",
    "\n",
    "\n",
    "1. 피자(15,000원) 2. 스파게티(10,000원) 3. 샐러드(7,000원) 4. 음료수(2,000원)<br>\n",
    "메뉴를 선택하세요(종료 : 5) : 2<br>\n",
    "현재까지의 주문 금액: 40000<br>\n",
    "\n",
    "\n",
    "1. 피자(15,000원) 2. 스파게티(10,000원) 3. 샐러드(7,000원) 4. 음료수(2,000원)<br>\n",
    "메뉴를 선택하세요(종료 : 5) : 3<br>\n",
    "현재까지의 주문 금액: 47000<br>\n",
    "\n",
    "\n",
    "1. 피자(15,000원) 2. 스파게티(10,000원) 3. 샐러드(7,000원) 4. 음료수(2,000원)<br>\n",
    "메뉴를 선택하세요(종료 : 5) : 4<br>\n",
    "현재까지의 주문 금액: 49000<br>\n",
    "\n",
    "\n",
    "1. 피자(15,000원) 2. 스파게티(10,000원) 3. 샐러드(7,000원) 4. 음료수(2,000원)<br>\n",
    "메뉴를 선택하세요(종료 : 5) : 5<br>\n",
    "총 주문 금액: 49000"
   ]
  },
  {
   "cell_type": "markdown",
   "metadata": {},
   "source": [
    "***"
   ]
  },
  {
   "cell_type": "markdown",
   "metadata": {},
   "source": [
    "#### <a id='I05'>[I05] 최댓값 리턴하는 함수 만들기</a>\n",
    "숫자 10개를 입력받아 이 중 최댓값을 찾아서 리턴하는 함수 MaxOfTen()을 만들고, 이 함수를 이용하여 10개의 숫자 중 최댓값을 출력하라.\n",
    "\n",
    "함수 선언부는 다음과 같다.\n",
    "```\n",
    "def MaxOfTen() :\n",
    "    파라미터 : 없음\n",
    "    리턴 값 : 최댓값\n",
    "```"
   ]
  },
  {
   "cell_type": "code",
   "execution_count": null,
   "metadata": {},
   "outputs": [],
   "source": []
  },
  {
   "cell_type": "code",
   "execution_count": null,
   "metadata": {
    "hideCode": true
   },
   "outputs": [],
   "source": [
    "def MaxOfTen():\n",
    "    m = float('-inf')\n",
    "    print('10개의 숫자 중 최대값을 구해봅니다')\n",
    "    i = 0\n",
    "    while i < 10:\n",
    "        try:\n",
    "            ipt = int(input(repr(i+1)+'번째 숫자입력 : '))\n",
    "        except ValueError:\n",
    "            continue\n",
    "        i+=1\n",
    "        if ipt > m:\n",
    "            m = ipt\n",
    "    print('최대값 :', m)\n",
    "MaxOfTen()"
   ]
  },
  {
   "cell_type": "markdown",
   "metadata": {},
   "source": [
    "##### 실행 예시\n",
    "10개의 숫자 중 최대값을 구해봅니다<br>\n",
    "1번째 숫자입력 : 11<br>\n",
    "2번째 숫자입력 : 22<br>\n",
    "3번째 숫자입력 : 66<br>\n",
    "4번째 숫자입력 : 88<br>\n",
    "5번째 숫자입력 : 77<br>\n",
    "6번째 숫자입력 : 44<br>\n",
    "7번째 숫자입력 : 99<br>\n",
    "8번째 숫자입력 : 55<br>\n",
    "9번째 숫자입력 : 33<br>\n",
    "10번째 숫자입력 : 46<br>\n",
    "최대값 : 99"
   ]
  },
  {
   "cell_type": "markdown",
   "metadata": {},
   "source": [
    "***"
   ]
  },
  {
   "cell_type": "markdown",
   "metadata": {},
   "source": [
    "#### <a id='I06'>[I06] 임의의 숫자를 만들어 구간을 리턴하는 함수 만들기</a>\n",
    "1부터 100사이의 임의의 숫자를 만들어서 대(70 이상), 중(40이상~70미만), 소(40미만) 셋 중에 하나를 판정하여 결과를 리턴하는 함수 GetRandom()을 만들어라. 그리고 이 함수를 이용해서 임의의 숫자 10개에 대해 대, 중, 소가 각각 몇 번씩 포함되어 있는지 개수를 출력하라.\n",
    "\n",
    "함수 선언부는 다음과 같다.\n",
    "```\n",
    "def GetRandom():\n",
    "    파라미터 : 없음\n",
    "    리턴 값 : 임의로 만들어낸 숫자가 속하는 구간번호\n",
    "        0. 대(70 이상)\n",
    "        1. 중(40 이상 ~ 70 미만)\n",
    "        2. 소(40 미만)\n",
    "```"
   ]
  },
  {
   "cell_type": "code",
   "execution_count": null,
   "metadata": {},
   "outputs": [],
   "source": []
  },
  {
   "cell_type": "code",
   "execution_count": null,
   "metadata": {
    "hideCode": true
   },
   "outputs": [],
   "source": [
    "from random import *\n",
    "def GetRandom():\n",
    "    b = 0\n",
    "    m = 0\n",
    "    s = 0\n",
    "    for i in range(10):\n",
    "        n = randint(1, 100)\n",
    "        print('임의의 숫자', n, '생성')\n",
    "        if n > 70:\n",
    "            b+=1\n",
    "        elif n < 40:\n",
    "            m+=1\n",
    "        else:\n",
    "            s+=1\n",
    "    print('1. 대 (70 이상) :', b, '회 생성')\n",
    "    print('2. 중 (40 이상) :', m, '회 생성')\n",
    "    print('3. 소 (40 미만) :', s, '회 생성')\n",
    "GetRandom()"
   ]
  },
  {
   "cell_type": "markdown",
   "metadata": {},
   "source": [
    "##### 실행 예시 #1\n",
    "임의의 숫자  19 생성<br>\n",
    "임의의 숫자  29 생성<br>\n",
    "임의의 숫자  93 생성<br>\n",
    "임의의 숫자  94 생성<br>\n",
    "임의의 숫자  20 생성<br>\n",
    "임의의 숫자  33 생성<br>\n",
    "임의의 숫자  66 생성<br>\n",
    "임의의 숫자  100 생성<br>\n",
    "임의의 숫자  86 생성<br>\n",
    "임의의 숫자  37 생성<br>\n",
    "1. 대 (70 이상) :  4 회 생성<br>\n",
    "2. 중 (40 이상) :  5 회 생성<br>\n",
    "3. 소 (40 미만) :  1 회 생성\n",
    "\n",
    "##### 실행 예시 #2\n",
    "임의의 숫자  34 생성<br>\n",
    "임의의 숫자  4 생성<br>\n",
    "임의의 숫자  20 생성<br>\n",
    "임의의 숫자  73 생성<br>\n",
    "임의의 숫자  75 생성<br>\n",
    "임의의 숫자  85 생성<br>\n",
    "임의의 숫자  88 생성<br>\n",
    "임의의 숫자  9 생성<br>\n",
    "임의의 숫자  100 생성<br>\n",
    "임의의 숫자  61 생성<br>\n",
    "1. 대 (70 이상) :  5 회 생성<br>\n",
    "2. 중 (40 이상) :  4 회 생성<br>\n",
    "3. 소 (40 미만) :  1 회 생성"
   ]
  },
  {
   "cell_type": "markdown",
   "metadata": {},
   "source": [
    "***"
   ]
  },
  {
   "cell_type": "markdown",
   "metadata": {},
   "source": [
    "#### <a id='I07'>[I07] 자판기에서 선택한 음료 가격을 리턴하는 함수 만들기</a>\n",
    "자판기의 메뉴를 보여주고 선택하게 하여 선택된 음료의 가격을 리턴하는 함수 SelectCan()을 만들어라. 그리고 이 함수를 이용해서 자판기에서 음료를 반복해서 선택하게 하여 총 음료의 개수와 가격을 출력하라. 자판기의 음료 종류와 가격은 다음과 같다.\n",
    "1. 콜라(700원)\n",
    "2. 원두커피(300원)\n",
    "3. 레몬주스(1000원)\n",
    "4. 홍차(500원)\n",
    "5. 코코아(600원)\n",
    "\n",
    "함수 선언부는 다음과 같다.\n",
    "\n",
    "```\n",
    "def SelectCan() :\n",
    "    파라미터 : 없음\n",
    "    리턴 값 : 선택한 음료의 가격\n",
    "```"
   ]
  },
  {
   "cell_type": "code",
   "execution_count": null,
   "metadata": {},
   "outputs": [],
   "source": []
  },
  {
   "cell_type": "code",
   "execution_count": null,
   "metadata": {
    "hideCode": true
   },
   "outputs": [],
   "source": [
    "def SelectCan():\n",
    "    if menu==1:\n",
    "        return 700\n",
    "    elif menu==2:\n",
    "        return 300\n",
    "    elif menu==3:\n",
    "        return 1000\n",
    "    elif menu==4:\n",
    "        return 500\n",
    "    elif menu==5:\n",
    "        return 600\n",
    "\n",
    "count = 0\n",
    "total = 0\n",
    "\n",
    "while 1:\n",
    "    print(\"1.콜라(700원) 2.원두커피(300원) 3.레몬주스(1000) 4.홍차(500원) 5.코코아(600원)\")\n",
    "    menu = int(input(\"메뉴를 선택해주세요. \"))\n",
    "    count += 1\n",
    "    total += SelectCan()\n",
    "    q = input(\"더 필요하십니까?(Y/N) \")\n",
    "    if q == 'N':\n",
    "        break\n",
    "\n",
    "print(\"%d개의 음료를 선택하여 총 %d원입니다.\" % (count, total))\n"
   ]
  },
  {
   "cell_type": "markdown",
   "metadata": {},
   "source": [
    "##### 실행 예시\n",
    "1.콜라(700원) 2.원두커피(300원) 3.레몬주스(1000) 4.홍차(500원) 5.코코아(600원)<br>\n",
    "메뉴를 선택해주세요. 1<br>\n",
    "더 필요하십니까?(Y/N) Y<br>\n",
    "1.콜라(700원) 2.원두커피(300원) 3.레몬주스(1000) 4.홍차(500원) 5.코코아(600원)<br>\n",
    "메뉴를 선택해주세요. 2<br>\n",
    "더 필요하십니까?(Y/N) Y<br>\n",
    "1.콜라(700원) 2.원두커피(300원) 3.레몬주스(1000) 4.홍차(500원) 5.코코아(600원)<br>\n",
    "메뉴를 선택해주세요. 1<br>\n",
    "더 필요하십니까?(Y/N) Y<br>\n",
    "1.콜라(700원) 2.원두커피(300원) 3.레몬주스(1000) 4.홍차(500원) 5.코코아(600원)<br>\n",
    "메뉴를 선택해주세요. 3<br>\n",
    "더 필요하십니까?(Y/N) Y<br>\n",
    "1.콜라(700원) 2.원두커피(300원) 3.레몬주스(1000) 4.홍차(500원) 5.코코아(600원)<br>\n",
    "메뉴를 선택해주세요. 4<br>\n",
    "더 필요하십니까?(Y/N) N<br>\n",
    "5개의 음료를 선택하여 총 3200원입니다."
   ]
  }
 ],
 "metadata": {
  "celltoolbar": "Hide code",
  "kernelspec": {
   "display_name": "Python 3",
   "language": "python",
   "name": "python3"
  },
  "language_info": {
   "codemirror_mode": {
    "name": "ipython",
    "version": 3
   },
   "file_extension": ".py",
   "mimetype": "text/x-python",
   "name": "python",
   "nbconvert_exporter": "python",
   "pygments_lexer": "ipython3",
   "version": "3.7.3"
  }
 },
 "nbformat": 4,
 "nbformat_minor": 2
}
