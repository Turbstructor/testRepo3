{
 "cells": [
  {
   "cell_type": "markdown",
   "metadata": {},
   "source": [
    "# 영역 3 : 함수 만들어 사용하기\n",
    "영역 3에서는 프로그램을 제작할 때에 필수 능력이라고 할 수 있는 함수 제작을 연습한다. 프로그램에서 처리해야 하는 작업들을 내용과 성격에 따라 서브 함수로 제작하여 역할을 분담하는 기술은 반드시 터득해야 하는 기술이다. 영역 3의 연습을 마치고 나면 영역 1과 영역 2에서 습득한 프\n",
    "로그래밍의 제어구조 기술을 메인 함수와 서브 함수 모두에 골고루 적용할 수 있게 될 것이다.\n",
    "\n",
    "함수는 별도로 작업해야 하는 프로그램 구문들을 따로 정해놓은 것이며, 함수를 호출할 때에 전달해야 하는 데이터가 있으면 이를 파라미터로 전달할 수 있다. 그리고 함수의 동작이 마친 후에 결과 값을 돌려받아야 하는 경우에는 리턴 값을 명시해서 돌려줄 수 있다. 물론 함수에 전달할 데이\n",
    "터가 없는 경우에는 파라미터 없이 함수를 제작하면 되며, 리턴할 결과 값이 없는 경우에는 리턴값이 없다고 명시하면 된다.\n",
    "\n",
    "영역 3의 실습 문제에서는 사용해야 하는 변수를 알려주지 않는다. 여러분이 문제를 충분히 읽고 분석한 후, 적절하게 필요한 변수들을 선언하여 사용하기 바란다.\n",
    "\n",
    "영역 3는 다음과 같이 3개의 단계로 구성된다.\n",
    "- [[Step I] : 파라미터 또는 리턴값만 있는 함수 만들기](Python_StepI.ipynb#Intro)\n",
    "- [[Step J] : 파라미터와 리턴 값이 모두 있는 함수 만들기](#Intro)\n",
    "- [[Step K] : 파일 사용하기](Python_StepK.ipynb#Intro)"
   ]
  },
  {
   "cell_type": "markdown",
   "metadata": {},
   "source": [
    "***"
   ]
  },
  {
   "cell_type": "markdown",
   "metadata": {},
   "source": [
    "## <a id='Intro'>[Step J] 함수 (파라미터와 리턴형)</a>"
   ]
  },
  {
   "cell_type": "markdown",
   "metadata": {},
   "source": [
    "프로그램을 만들 때에 가장 일반적으로 사용하는 함수의 형태는 파라미터와 리턴 값이 모두 있는 함수이다. 함수를 호출할 때에 함수 실행에 필요한 값들을 파라미터로 전달하고, 실행이 끝나면 그 결과로 얻어내야 하는 값을 리턴받는 것이다. 이번 단계에서는 이런 형식의 함수를 제작하는 연습\n",
    "을 하도록 한다.\n",
    "\n",
    "앞의 [Step I]에서 만들어 본 `GetScore()` 함수를 어떤 과목의 점수를 입력받아야 하는 지를 명시해서 호출하도록 변형해보도록 하자. 즉, 파라미터로 과목의 이름을 전달하는 것이다. 이를 위해서는 함수의 선언부를 다음과 같이 바꾸어야 한다."
   ]
  },
  {
   "cell_type": "code",
   "execution_count": null,
   "metadata": {},
   "outputs": [],
   "source": [
    "# -*- coding: utf-8 -*-\n",
    "# 예제 ex_J1.py\n",
    "def GetScore(name) : # 파라미터로 과목명(name)을 전달받는다. 전의 코드에서 변경된 부분 #1\n",
    "    while 1 :\n",
    "        jumsu = int(input(\"%s 점수를 입력하시오. (0~100) \"%name)) # 전의 코드에서 변경된 부분 #2\n",
    "        if 0 <= jumsu <= 100 : return jumsu\n",
    "        else: print(\"잘못된 범위의 수입니다.\", end=\" \")\n",
    "\n",
    "# 메인함수 시작\n",
    "class_name = [\"국어\", \"영어\", \"수학\"]\n",
    "class_score = []\n",
    "sum = 0\n",
    "for i in range(3):\n",
    "    score = GetScore(class_name[i]) # 전의 코드에서 변경된 부분 #3\n",
    "    class_score.append(score)\n",
    "    sum += score\n",
    "    \n",
    "average = sum / 3.0\n",
    "print(\"3과목의 총점은 %d, 평균은 %.1f입니다.\"%(sum, average))"
   ]
  },
  {
   "cell_type": "markdown",
   "metadata": {},
   "source": [
    "이번에는 함수에서 자기 자신을 다시 호출하는 함수, 즉 재귀 호출 함수를 만들어보자. 함수가 자기 자신을 다시 호출하는 방식이 왜 필요할까? 함수를 제작하다보면 함수의 구현 내용이 함수 자신을 사용하도록 정의되는 경우가 있다. 예를 들어 계승(factorial)을 구하는 경우를 생각해보자. 계승이란 1부터 자기 자신의 수까지를 모두 곱하는 것이다. 즉 5의 계승은 1\\*2\\*3\\*4\\*5 인 120이다. 먼저 반복문을 사용해서 계승을 구하는 함수를 만들어보면 다음과 같다. 구현내용에서 보는 바와 같이 1부터 구하려는 수까지 모두 곱해나가면 되는 것이다. 아래 구문을 쉽게 이해할 수 있을 것이다."
   ]
  },
  {
   "cell_type": "code",
   "execution_count": null,
   "metadata": {},
   "outputs": [],
   "source": [
    "# -*- coding: utf-8 -*-\n",
    "# 예제 ex_J2.py\n",
    "def FactorialNoRecur(n) :\n",
    "    result = 1\n",
    "    for i in range(1, n+1) :\n",
    "        result = result * i\n",
    "    return result\n",
    "\n",
    "# 메인함수 시작\n",
    "num = int(input(\"계승을 구하려는 수를 입력하시오. \"))\n",
    "print(\"%d의 계승은 %d입니다.\"%(num, FactorialNoRecur(num)))"
   ]
  },
  {
   "cell_type": "markdown",
   "metadata": {},
   "source": [
    "그러면 이제 같은 작업을 수행하는 함수를 재귀 호출 함수로 만들어보도록 하자. 재귀 호출 함수는 자신을 불러야 하기 때문에 계승의 원리를 다음과 같이 생각해야 한다.\n",
    "```\n",
    "n의 계승 = n * (n-1) * (n-2) * ... 2 * 1\n",
    "= n * {(n-1) * (n-2) * ... 2 * 1}\n",
    "= n * {(n-1)의 계승}\n",
    "```\n",
    "\n",
    "이렇게 해서 계승의 계산 원리 속에 자신보다 하나 적은 수의 계승을 넣을 수 있다. 물론 계승을 무한대로 재귀 호출 할 수 없으며, 기본이 되는 조건이 있어야 한다. 여기에서는 n의 값이 1인 경우에 더 이상 자기 자신을 호출하지 않도록 해 준다. 즉 다음과 같이 n의 계승을 재귀 호출의 형태\n",
    "로 정의할 수 있다.\n",
    "```\n",
    "n의 계승 = n * {(n-1)의 계승} (n이 1보다 큰 경우)\n",
    "또는 = 1 (n이 1이하인 경우)\n",
    "```\n",
    "\n",
    "이렇게 정의한 계승을 재귀 호출 함수로 만들어 보면 다음과 같다."
   ]
  },
  {
   "cell_type": "code",
   "execution_count": null,
   "metadata": {},
   "outputs": [],
   "source": [
    "# -*- coding: utf-8 -*-\n",
    "# 예제 ex_J3.py\n",
    "def FactorialRecur(n) :\n",
    "    if n <= 1 : return 1\n",
    "    else : return n * FactorialRecur(n-1)\n",
    "    \n",
    "# 메인함수 시작\n",
    "num = int(input(\"계승을 구하려는 수를 입력하시오. \"))\n",
    "print(\"%d의 계승은 %d입니다.\"%(num, FactorialRecur(num)))"
   ]
  },
  {
   "cell_type": "markdown",
   "metadata": {},
   "source": [
    "이렇게 재귀 호출 함수를 만들 때에는 반드시 함수 자기 자신을 사용하여 정의할 수 있어야 하며, 또한 더 이상의 재귀 호출이 일어나지 않는 기본 조건을 넣어 주어야 한다. 비슷한 예로 1부터 n까지의 숫자들을 모두 더한 값을 알아내는 작업을 재귀 호출 함수로 만든다면 다음 구문처럼 하면 된다.\n",
    "```\n",
    "def SumToOne(n) :\n",
    "    if n == 1 : return 1 # n이 1인 경우\n",
    "    else : return (n + SumToOne(n-1)) # n이 1보다 큰 경우\n",
    "```\n",
    "\n",
    "10개의 숫자가 들어 있는 리스트를 역순으로 출력하는 재귀 호출 함수는 다음과 같다."
   ]
  },
  {
   "cell_type": "code",
   "execution_count": null,
   "metadata": {},
   "outputs": [],
   "source": [
    "# -*- coding: utf-8 -*-\n",
    "# 예제 ex_J4.py\n",
    "def PrintReverse(numbers, position) : # numbers 숫자 리스트, position 출력할 마지막 위치\n",
    "    print(numbers[position],end=\" \") # 가장 마지막 숫자 출력\n",
    "    if position > 0 : PrintReverse(numbers, position-1) # 출력위치 1개 감소 후 출력\n",
    "\n",
    "# 메인함수 시작\n",
    "numlist = input(\"숫자 10개를 입력하시오. \").split()\n",
    "for i in range(10):\n",
    "    numlist[i] = int(numlist[i])\n",
    "print(\"거꾸로 출력합니다. :\",end=\" \")\n",
    "PrintReverse(numlist, 9)"
   ]
  },
  {
   "cell_type": "markdown",
   "metadata": {},
   "source": [
    "***\n",
    "***"
   ]
  },
  {
   "cell_type": "markdown",
   "metadata": {},
   "source": [
    "### ○ 실습 문제"
   ]
  },
  {
   "cell_type": "markdown",
   "metadata": {},
   "source": [
    "#### <a id='J01'>[J01] 나이 계산 및 연령대 판정</a>\n",
    "[G01] 문제를 참고하여 최대 100명까지 사람들의 2019보다 큰 년도가 입력되기 전까지 태어난 년도를 입력받도록 하라. 입력이 끝나면 `AskAge()` 함수를 사용해서 지금까지 입력된 사람들의 나이를 모두 출력하고, 연령대 별로 각각 몇 명인지 출력하라. `AskAge()`에서는 태어난 년도를 입력하면 나이를 출력한 후, 유아, 어린이, 청소년, 청년, 중년, 노년 여부를 판정하여 연령대 번호를 리턴한다.\n",
    "\n",
    "단, 나이 = 2019 – 태어난 년도 + 1 로 계산하고 연령대 구분은 다음과 같이 판정한다.\n",
    "- 7세 미만 : 유아\n",
    "- 7세 이상 ~ 13세 미만 : 어린이\n",
    "- 13세 이상 ~ 20세 미만 : 청소년\n",
    "- 20세 이상 ~ 30세 미만 : 청년\n",
    "- 30세 이상 ~ 60세 미만 : 중년\n",
    "- 60세 이상 : 노년\n",
    "\n",
    "함수의 선언부는 다음과 같다.\n",
    "```\n",
    "def AskAge(birthyear) :\n",
    "    파라미터 : birthyear - 태어난 년도\n",
    "    리턴값 : 계산한 나이에 따른 연령대 번호\n",
    "        0 : 유아\n",
    "        1 : 어린이\n",
    "        2 : 청소년\n",
    "        3 : 청년\n",
    "        4 : 중년\n",
    "        5 : 노년\n",
    "```"
   ]
  },
  {
   "cell_type": "code",
   "execution_count": null,
   "metadata": {},
   "outputs": [],
   "source": []
  },
  {
   "cell_type": "code",
   "execution_count": null,
   "metadata": {
    "hideCode": true
   },
   "outputs": [],
   "source": [
    "def AskAge(birthyear):\n",
    "    count_person = 0\n",
    "    count_baby = 0\n",
    "    count_child = 0\n",
    "    count_youth = 0\n",
    "    count_young = 0\n",
    "    count_adult = 0\n",
    "    count_old = 0\n",
    "    for idx, a in enumerate(age):\n",
    "        print(str(idx+1)+\"번쨰 사람의 나이는 \"+str(a)+\"입니다.\")\n",
    "        if a < 7:\n",
    "            count_baby += 1\n",
    "        elif a < 13:\n",
    "            count_child += 1\n",
    "        elif a < 20:\n",
    "            count_youth += 1\n",
    "        elif a < 30:\n",
    "            count_young += 1\n",
    "        elif a < 60:\n",
    "            count_adult += 1\n",
    "        else:\n",
    "            count_old += 1\n",
    "\n",
    "    print(\"유아는 \"+str(count_baby)+\"명 입니다\")\n",
    "    print(\"어린이는 \"+str(count_child)+\"명 입니다\")\n",
    "    print(\"청소년은 \"+str(count_youth)+\"명 입니다\")\n",
    "    print(\"청년은 \"+str(count_young)+\"명 입니다\")\n",
    "    print(\"중년은 \"+str(count_adult)+\"명 입니다\")\n",
    "    print(\"노년은 \"+str(count_old)+\"명 입니다\")\n",
    "age = []\n",
    "i = 1\n",
    "while i <= 100:\n",
    "    try:\n",
    "        birth_year = int(input(str(i)+\"번째 사람의 태어난 연도 : \"))\n",
    "    except ValueError:\n",
    "        from sys import stderr\n",
    "        print(\"숫자를 입력하세요\", file=stderr)\n",
    "        continue\n",
    "    if birth_year > 2019:\n",
    "        break\n",
    "    age.append(2019 - birth_year + 1)\n",
    "    i+=1\n",
    "\n",
    "AskAge(age)"
   ]
  },
  {
   "cell_type": "markdown",
   "metadata": {},
   "source": [
    "##### 실행 예시\n",
    "1번째 사람의 태어난 연도 : 2006<br>\n",
    "2번째 사람의 태어난 연도 : 2012<br>\n",
    "3번째 사람의 태어난 연도 : 1947<br>\n",
    "4번째 사람의 태어난 연도 : 1977<br>\n",
    "5번째 사람의 태어난 연도 : 1973<br>\n",
    "6번째 사람의 태어난 연도 : 1995<br>\n",
    "7번째 사람의 태어난 연도 : 2017<br>\n",
    "8번째 사람의 태어난 연도 : 1986<br>\n",
    "9번째 사람의 태어난 연도 : 1997<br>\n",
    "10번째 사람의 태어난 연도 : 1988<br>\n",
    "11번째 사람의 태어난 연도 : 2015<br>\n",
    "12번째 사람의 태어난 연도 : 2222<br>\n",
    "1번쨰 사람의 나이는 14입니다.<br>\n",
    "2번쨰 사람의 나이는 8입니다.<br>\n",
    "3번쨰 사람의 나이는 73입니다.<br>\n",
    "4번쨰 사람의 나이는 43입니다.<br>\n",
    "5번쨰 사람의 나이는 47입니다.<br>\n",
    "6번쨰 사람의 나이는 25입니다.<br>\n",
    "7번쨰 사람의 나이는 3입니다.<br>\n",
    "8번쨰 사람의 나이는 34입니다.<br>\n",
    "9번쨰 사람의 나이는 23입니다.<br>\n",
    "10번쨰 사람의 나이는 32입니다.<br>\n",
    "11번쨰 사람의 나이는 5입니다.<br>\n",
    "유아는 2명 입니다<br>\n",
    "어린이는 1명 입니다<br>\n",
    "청소년은 1명 입니다<br>\n",
    "청년은 2명 입니다<br>\n",
    "중년은 4명 입니다<br>\n",
    "노년은 1명 입니다"
   ]
  },
  {
   "cell_type": "markdown",
   "metadata": {},
   "source": [
    "***"
   ]
  },
  {
   "cell_type": "markdown",
   "metadata": {},
   "source": [
    "#### <a id='J02'>[J02] 심사점수 계산</a>\n",
    "심사점수를 10개를 입력받아 리스트에 저장한 후, 이 리스트를 파라미터로 하여 가장 큰 점수를 구하는 `Max()`와 가장 작은 점수를 구하는 `Min()`을 사용하여 10개의 점수 중 최대점수와 최소점수를 제외한 8개의 점수에 대한 평균을 계산하여 출력하라.\n",
    "\n",
    "함수의 선언부는 다음과 같다.\n",
    "```\n",
    "def Max(num) :\n",
    "    파라미터 : num - 숫자 리스트\n",
    "    리턴값 : 숫자 리스트에서 가장 큰 값\n",
    "def Min(num) :\n",
    "    파라미터 : num - 숫자 리스트\n",
    "    리턴값 : 숫자 리스트에서 가장 작은 값\n",
    "```"
   ]
  },
  {
   "cell_type": "code",
   "execution_count": null,
   "metadata": {},
   "outputs": [],
   "source": []
  },
  {
   "cell_type": "code",
   "execution_count": null,
   "metadata": {
    "hideCode": true
   },
   "outputs": [],
   "source": [
    "lst = []\n",
    "i = 1\n",
    "while i <= 10:\n",
    "    try:\n",
    "        ipt = float(input(str(i)+\"번 심사 점수 : \"))\n",
    "    except ValueError:\n",
    "        from sys import stderr\n",
    "        print(\"숫자를 입력하세요\", file=stderr)\n",
    "        continue\n",
    "    lst.append(ipt)\n",
    "    i+=1\n",
    "\n",
    "\n",
    "def Max(list):\n",
    "    m = float('-inf')\n",
    "    for e in list:\n",
    "        if e > m:\n",
    "            m = e\n",
    "    return m\n",
    "def Min(list):\n",
    "    m = float('inf')\n",
    "    for e in list:\n",
    "        if e < m:\n",
    "            m = e\n",
    "    return m\n",
    "\n",
    "mx=Max(lst)\n",
    "del lst[lst.index(mx)]\n",
    "mi=Min(lst)\n",
    "del lst[lst.index(mi)]\n",
    "from statistics import mean\n",
    "print('가장 큰 점수와 가장 작은 점수를 제외한 평균 : ', round(mean(lst), 1))"
   ]
  },
  {
   "cell_type": "markdown",
   "metadata": {},
   "source": [
    "##### 실행 예제\n",
    "1번 심사 점수 : 7.5<br>\n",
    "2번 심사 점수 : 9.9<br>\n",
    "3번 심사 점수 : 8.4<br>\n",
    "4번 심사 점수 : 6.4<br>\n",
    "5번 심사 점수 : 5.8<br>\n",
    "6번 심사 점수 : 8.0<br>\n",
    "7번 심사 점수 : 6.9<br>\n",
    "8번 심사 점수 : 7.0<br>\n",
    "9번 심사 점수 : 7.3<br>\n",
    "10번 심사 점수 : 8.9<br>\n",
    "가장 큰 점수와 가장 작은 점수를 제외한 평균 :  7.5"
   ]
  },
  {
   "cell_type": "markdown",
   "metadata": {},
   "source": [
    "***"
   ]
  },
  {
   "cell_type": "markdown",
   "metadata": {},
   "source": [
    "#### <a id='J03'>[J03] 물의 온도 구간 개수 판정</a>\n",
    "물의 온도를 10회 입력받은 후, 이 물이 각각 어느 정도의 온수인지 `AskWater()`를 통해 판정하여 그 결과를 출력하라. 출력할 내용은 입력된 10개의 온도 값, 냉수 입력 횟수, 미온수 입력 횟수, 온수 입력 횟수, 끓는 물 입력 횟수를 각각 출력하라. 단, 온수의 판정 구간은 다음과 같이 판정한다.\n",
    "- 0도 ~ 25도 미만 : 냉수\n",
    "- 25도 ~ 40도 미만 : 미온수\n",
    "- 40도 ~ 80도 미만 : 온수\n",
    "- 80도 이상 : 끓는 물\n",
    "\n",
    "함수의 선언부는 다음과 같다.\n",
    "```\n",
    "def AskWater(degree) :\n",
    "    파라미터 : degree - 온도\n",
    "    리턴 값 : 온도 판정 번호\n",
    "        0 : 냉수\n",
    "        1 : 미온수\n",
    "        2 : 온수\n",
    "        3 : 끓는 물\n",
    "```"
   ]
  },
  {
   "cell_type": "code",
   "execution_count": null,
   "metadata": {},
   "outputs": [],
   "source": []
  },
  {
   "cell_type": "code",
   "execution_count": null,
   "metadata": {
    "hideCode": true
   },
   "outputs": [],
   "source": [
    "def AskWater(degree):\n",
    "    print_msg = lambda idx, degree: print(str(idx+1)+\"번 물의 온도는 \"+repr(degree)+\"도 입니다.\")\n",
    "\n",
    "    for idx, degree in enumerate(degrees):\n",
    "        print_msg(idx, degree)\n",
    "        if degree < 25: count[0]+=1\n",
    "        elif degree < 40: count[1]+=1\n",
    "        elif degree < 80: count[2]+=1\n",
    "        else:\n",
    "            count[3]+=1\n",
    "    print(\"냉수 입력 횟수 : \", count[0])\n",
    "    print(\"미온수 입력 횟수 : \", count[1])\n",
    "    print(\"온수 입력 횟수 : \", count[2])\n",
    "    print(\"끓는물 입력 횟수 : \", count[3])\n",
    "degrees = []\n",
    "degree_name = [\"냉수\", \"미온수\", \"온수\", \"끓는물\"]\n",
    "count = [0,0,0,0]\n",
    "\n",
    "for i in range(10):\n",
    "    try:\n",
    "        a = float(input(str(i+1)+\"번 물의 온도를 입력하시오 : \"))\n",
    "    except ValueError:\n",
    "        continue\n",
    "    if a < 0:\n",
    "        print(\"음수입력\")\n",
    "        continue\n",
    "    degrees.append(a)\n",
    "AskWater(degrees)"
   ]
  },
  {
   "cell_type": "markdown",
   "metadata": {},
   "source": [
    "##### 실행 예제\n",
    "1번 물의 온도를 입력하시오 : 15.5<br>\n",
    "2번 물의 온도를 입력하시오 : 20.5<br>\n",
    "3번 물의 온도를 입력하시오 : 27.7<br>\n",
    "4번 물의 온도를 입력하시오 : 35.0<br>\n",
    "5번 물의 온도를 입력하시오 : 40.5<br>\n",
    "6번 물의 온도를 입력하시오 : 55.7<br>\n",
    "7번 물의 온도를 입력하시오 : 90.1<br>\n",
    "8번 물의 온도를 입력하시오 : 100.0<br>\n",
    "9번 물의 온도를 입력하시오 : 77.7<br>\n",
    "10번 물의 온도를 입력하시오 : 28.0<br>\n",
    "1번 물의 온도는 15.5도 입니다.<br>\n",
    "2번 물의 온도는 20.5도 입니다.<br>\n",
    "3번 물의 온도는 27.7도 입니다.<br>\n",
    "4번 물의 온도는 35.0도 입니다.<br>\n",
    "5번 물의 온도는 40.5도 입니다.<br>\n",
    "6번 물의 온도는 55.7도 입니다.<br>\n",
    "7번 물의 온도는 90.1도 입니다.<br>\n",
    "8번 물의 온도는 100.0도 입니다.<br>\n",
    "9번 물의 온도는 77.7도 입니다.<br>\n",
    "10번 물의 온도는 28.0도 입니다.<br>\n",
    "냉수 입력 횟수 :  2<br>\n",
    "미온수 입력 횟수 :  3<br>\n",
    "온수 입력 횟수 :  3<br>\n",
    "끓는물 입력 횟수 :  2"
   ]
  },
  {
   "cell_type": "markdown",
   "metadata": {},
   "source": [
    "***"
   ]
  },
  {
   "cell_type": "markdown",
   "metadata": {},
   "source": [
    "#### <a id='J04'>[J04] 연중 날짜 계산 함수를 이용한 날짜 간격 세기 </a>\n",
    "날짜 2개를 입력받은 후, 이 2개의 날짜 간격은 며칠인지 계산하여 출력하라. 단, 월과 일로 파라미터로 넘\n",
    "기면 이 날짜가 1년 중 몇 번째 날에 해당되는지 리턴하는 함수 `CalcDate()` 함수를 만들어 사용하라. 이\n",
    "함수에서 매 월의 날 수 계산 시 다음과 같이 매월의 날 수를 리스트로 만들어 이를 이용하여 계산하라.\n",
    "```\n",
    "monthdays = [31,28,31,30,31,30,31,31,30,31,30,31] # 1 ~ 12월의 날 수\n",
    "```\n",
    "\n",
    "함수의 선언부는 다음과 같다.\n",
    "```\n",
    "def CalcDate(month, day) :\n",
    "    파라미터 : month - 월, day - 일\n",
    "    리턴값 : 1년 중 해당 날짜가 몇 번째 날인지의 결과 값 (1 ~ 365)\n",
    "```"
   ]
  },
  {
   "cell_type": "code",
   "execution_count": null,
   "metadata": {},
   "outputs": [],
   "source": []
  },
  {
   "cell_type": "code",
   "execution_count": null,
   "metadata": {
    "hideCode": true
   },
   "outputs": [],
   "source": [
    "def CalcDate(month, day):\n",
    "    monthdays = [31, 28, 31, 30, 31, 30, 31, 31, 30, 31, 30, 31]\n",
    "    \n",
    "    if month < 1 or month > 12:\n",
    "        return None\n",
    "    elif day < 1 or day > monthdays[month - 1]:\n",
    "        return None\n",
    "    else:\n",
    "        return sum(monthdays[:month - 1]) + day\n",
    "\n",
    "d1 = list(map(int, input('첫번째 날짜 : ').split()))\n",
    "d2 = list(map(int, input('두번째 날짜 : ').split()))\n",
    "if CalcDate(d2[0], d2[1]) is None or CalcDate(d1[0], d1[1]) is None: print(\"잘못 입력하셨습니다.\")\n",
    "else: print(\"두 날짜의 간격은 {}일입니다\".format(abs(CalcDate(d2[0], d2[1]) - CalcDate(d1[0], d1[1]))))"
   ]
  },
  {
   "cell_type": "markdown",
   "metadata": {},
   "source": [
    "##### 실행 예제 #1\n",
    "첫번째 날짜 : 1 1<br>\n",
    "두번째 날짜 : 5 5<br>\n",
    "두 날짜의 간격은 124일입니다.\n",
    "\n",
    "##### 실행 예제 #2\n",
    "첫번째 날짜 : 5 5<br>\n",
    "두번째 날짜 : 1 1<br>\n",
    "두 날짜의 간격은 124일입니다.\n",
    "\n",
    "##### 실행 예제 #3\n",
    "첫번째 날짜 : 13 1<br>\n",
    "두번째 날짜 : 2 30<br>\n",
    "잘못 입력하셨습니다."
   ]
  },
  {
   "cell_type": "markdown",
   "metadata": {},
   "source": [
    "***"
   ]
  },
  {
   "cell_type": "markdown",
   "metadata": {},
   "source": [
    "***"
   ]
  },
  {
   "cell_type": "markdown",
   "metadata": {},
   "source": [
    "#### <a id='J05'>[J05] 주차 관리 시스템</a>\n",
    "주차장에서 차량들의 주차 관리 시스템을 만들어라. 차량마다 주차를 시작한 시간을 시와 분으로 입력받고, 주차를 종료한 시간을 시와 분으로 입력받은 후, 이를 `CalcParking()` 함수에 파라미터로 넘겨 주차요금을 리턴받도록 하라. 차량이 더 있는지 물어서 더 이상 차량이 없을 때까지 반복해서 요금을 계산하되 반복이 끝나면 지금까지 계산한 차량의 수량과 총 주차요금을 화면에 출력하라. 주차요금은 10분당 500원으로 한\n",
    "다.\n",
    "\n",
    "함수의 선언부는 다음과 같다.\n",
    "```\n",
    "def CalcParking(start_h, start_m, end_h, end_m) :\n",
    "    파라미터 : start_h - 주차시작 시, start_m - 주차시작 분, end_h - 주차종료 시, end_m - 주차종료 분\n",
    "    리턴값 : 주차시작 시간(시, 분)부터 종료 시간(시, 분)까지의 주차요금(원)\n",
    "```"
   ]
  },
  {
   "cell_type": "code",
   "execution_count": null,
   "metadata": {},
   "outputs": [],
   "source": []
  },
  {
   "cell_type": "code",
   "execution_count": null,
   "metadata": {
    "hideCode": true
   },
   "outputs": [],
   "source": [
    "def CalcParking(start_h, start_m, end_h, end_m):\n",
    "  start=start_h*60+start_m\n",
    "  end=end_h*60+end_m\n",
    "  if (end-start)%10==0:\n",
    "    charge=(end-start)/10*500\n",
    "  else:\n",
    "    charge=((end-start)//10+1)*500\n",
    "  return charge\n",
    "\n",
    "count=0\n",
    "total=0\n",
    "i=1\n",
    "\n",
    "while 1:\n",
    "  start_h, start_m=input(\"%s번 차량 주차 시작 시각 (시 분) : \" % str(i)).split()\n",
    "  end_h, end_m=input(\"%s번 차량 주차 종료 시각 (시 분) : \" % str(i)).split()\n",
    "  i+=1\n",
    "  start_h=int(start_h)\n",
    "  start_m=int(start_m)\n",
    "  end_h=int(end_h)\n",
    "  end_m=int(end_m)\n",
    "\n",
    "  print(\"주차요금 : %d원\" % CalcParking(start_h, start_m, end_h, end_m))\n",
    "  count+=1\n",
    "  total+= CalcParking(start_h, start_m, end_h, end_m)\n",
    "\n",
    "  q=input(\"더 입력하시겠습니까?(Y/N) \")\n",
    "  if q=='N':\n",
    "    break\n",
    "\n",
    "print(\"주차차량 %d대의 총 주차 요금은 %d원입니다.\" % (count, total))\n"
   ]
  },
  {
   "cell_type": "markdown",
   "metadata": {},
   "source": [
    "##### 실행 예제\n",
    "1번 차량 주차 시작 시각 (시 분) : 10 30<br>\n",
    "1번 차량 주차 종료 시각 (시 분) : 11 15<br>\n",
    "주차요금 : 2500원<br>\n",
    "더 입력하시겠습니까?(Y/N) Y<br>\n",
    "2번 차량 주차 시작 시각 (시 분) : 9 10<br>\n",
    "2번 차량 주차 종료 시각 (시 분) : 15 10<br>\n",
    "주차요금 : 18000원<br>\n",
    "더 입력하시겠습니까?(Y/N) Y<br>\n",
    "3번 차량 주차 시작 시각 (시 분) : 12 10<br>\n",
    "3번 차량 주차 종료 시각 (시 분) : 14 55<br>\n",
    "주차요금 : 8500원<br>\n",
    "더 입력하시겠습니까?(Y/N) Y<br>\n",
    "4번 차량 주차 시작 시각 (시 분) : 11 00<br>\n",
    "4번 차량 주차 종료 시각 (시 분) : 11 05<br>\n",
    "주차요금 : 500원<br>\n",
    "더 입력하시겠습니까?(Y/N) N<br>\n",
    "주차차량 4대의 총 주차 요금은 29500원입니다."
   ]
  },
  {
   "cell_type": "markdown",
   "metadata": {},
   "source": [
    "***"
   ]
  },
  {
   "cell_type": "markdown",
   "metadata": {},
   "source": [
    "#### <a id='J06'>[J06] 피보나치 수 구하기</a>\n",
    "n이 1부터 20까지 증가하는 경우 각각의 피보나치 수 `fibonacci(n)`을 출력하라. 피보나치 수는 다음과 같이 정의한다.\n",
    "```\n",
    "fibonacci(n) = 1 (n = 1 or n = 2)\n",
    "fibonacci(n) = fibonacci(n - 1) + fibonacci(n - 2) | (n > 2)\n",
    "```\n",
    "\n",
    "단, 함수의 선언부는 다음과 같이 사용하라.\n",
    "```\n",
    "def fibonacci(n) :\n",
    "```"
   ]
  },
  {
   "cell_type": "code",
   "execution_count": null,
   "metadata": {},
   "outputs": [],
   "source": []
  },
  {
   "cell_type": "code",
   "execution_count": null,
   "metadata": {
    "hideCode": true
   },
   "outputs": [],
   "source": [
    "def fibonacci(n):\n",
    "  if n==1 or n==2:\n",
    "    return 1\n",
    "  else:\n",
    "    return fibonacci(n-1)+fibonacci(n-2)\n",
    "\n",
    "print(\"1부터 20까지 피보나치 수는 다음과 같습니다.\")\n",
    "\n",
    "for i in range(1, 21):\n",
    "  print(\"%d번째 : %d\" % (i, fibonacci(i)))\n",
    "\n"
   ]
  },
  {
   "cell_type": "markdown",
   "metadata": {},
   "source": [
    "##### 실행 예제\n",
    "1부터 20까지 피보나치 수는 다음과 같습니다.<br>\n",
    "1번째 : 1<br>\n",
    "2번째 : 1<br>\n",
    "3번째 : 2<br>\n",
    "4번째 : 3<br>\n",
    "5번째 : 5<br>\n",
    "6번째 : 8<br>\n",
    "7번째 : 13<br>\n",
    "8번째 : 21<br>\n",
    "9번째 : 34<br>\n",
    "10번째 : 55<br>\n",
    "11번째 : 89<br>\n",
    "12번째 : 144<br>\n",
    "13번째 : 233<br>\n",
    "14번째 : 377<br>\n",
    "15번째 : 610<br>\n",
    "16번째 : 987<br>\n",
    "17번째 : 1597<br>\n",
    "18번째 : 2584<br>\n",
    "19번째 : 4181<br>\n",
    "20번째 : 6765"
   ]
  },
  {
   "cell_type": "markdown",
   "metadata": {},
   "source": [
    "***"
   ]
  },
  {
   "cell_type": "markdown",
   "metadata": {},
   "source": [
    "#### <a id='J06'>[J07] 2의 제곱수 구하기</a>\n",
    "\n",
    "반복해서 임의의 숫자 n을 입력받은 후 2^n을 계산하여 출력하되, 재귀함수를 이용하여 계산하라. 이 때 사\n",
    "용할 재귀함수 poweroftwo()의 정의는 다음과 같다.\n",
    "\n",
    "단, 함수의 선언부 다음과 같이 사용하라.\n",
    "```\n",
    "def poweroftwo(n) :\n",
    "```"
   ]
  },
  {
   "cell_type": "code",
   "execution_count": null,
   "metadata": {},
   "outputs": [],
   "source": []
  },
  {
   "cell_type": "code",
   "execution_count": null,
   "metadata": {
    "hideCode": true
   },
   "outputs": [],
   "source": [
    "def poweroftwo(n):\n",
    "  if n==0:\n",
    "    return 1\n",
    "  elif n>0:\n",
    "    return 2*poweroftwo(n-1)\n",
    "\n",
    "while 1:\n",
    "  n=int(input(\"숫자를 입력하시오. (0: 종료) : \"))\n",
    "  if n==0:\n",
    "    break\n",
    "  print(\"2의 %d승은 : %d\" % (n, poweroftwo(n)))\n"
   ]
  },
  {
   "cell_type": "markdown",
   "metadata": {
    "hideCode": false
   },
   "source": [
    "##### 실행 예제\n",
    "숫자를 입력하시오. (0: 종료) : 2<br>\n",
    "2의 2승은 : 4<br>\n",
    "숫자를 입력하시오. (0: 종료) : 4<br>\n",
    "2의 4승은 : 16<br>\n",
    "숫자를 입력하시오. (0: 종료) : 8<br>\n",
    "2의 8승은 : 256<br>\n",
    "숫자를 입력하시오. (0: 종료) : 10<br>\n",
    "2의 10승은 : 1024<br>\n",
    "숫자를 입력하시오. (0: 종료) : 16<br>\n",
    "2의 16승은 : 65536<br>\n",
    "숫자를 입력하시오. (0: 종료) : 20<br>\n",
    "2의 20승은 : 1048576<br>\n",
    "숫자를 입력하시오. (0: 종료) : 24<br>\n",
    "2의 24승은 : 16777216<br>\n",
    "숫자를 입력하시오. (0: 종료) : 5<br>\n",
    "2의 5승은 : 32<br>\n",
    "숫자를 입력하시오. (0: 종료) : 7<br>\n",
    "2의 7승은 : 128<br>\n",
    "숫자를 입력하시오. (0: 종료) : 0"
   ]
  },
  {
   "cell_type": "markdown",
   "metadata": {},
   "source": [
    "***"
   ]
  },
  {
   "cell_type": "markdown",
   "metadata": {},
   "source": [
    "#### <a id='J08'>[J08] Ackermann 수 구하기</a>\n",
    "\n",
    "Ackermann's Function A 는 다음과 같이 정의된다. A( i, j ) 를 재귀 호출 함수로 만들고, 이 함수를\n",
    "이용하여 A(0,0) 에서 A(3,3) 의 값을 구하라.\n",
    "Ackermann's Function A\n",
    "A(0, j) = j+1 i = 0 이고, j ≥ 0 인 경우\n",
    "A(i, 0) = A(i-1, 1) i > 0 이고 j = 0 인 경우\n",
    "A(i, j) = A(i-1, A(i, j-1)) i 와 j 모두 0보다 큰 경우\n",
    "단, 함수의 선언부는 다음과 같이 사용하라.\n",
    "```\n",
    "def Ackermann(i, j) :\n",
    "    ```"
   ]
  },
  {
   "cell_type": "code",
   "execution_count": null,
   "metadata": {},
   "outputs": [],
   "source": []
  },
  {
   "cell_type": "code",
   "execution_count": null,
   "metadata": {
    "hideCode": true
   },
   "outputs": [],
   "source": [
    "def Ackermann(m, n):\n",
    "    if m == 0:\n",
    "        return n + 1\n",
    "    elif n == 0:\n",
    "        return Ackermann(m - 1, 1)\n",
    "    else:\n",
    "        return Ackermann(m - 1, Ackermann(m, n - 1))\n",
    "for i in range(4):\n",
    "    for j in range(4):\n",
    "        print('Ackermann(',i,',',j,') =', Ackermann(i, j))"
   ]
  },
  {
   "cell_type": "markdown",
   "metadata": {},
   "source": [
    "##### 실행 예제\n",
    "Ackermann( 0 , 0 ) = 1<br>\n",
    "Ackermann( 0 , 1 ) = 2<br>\n",
    "Ackermann( 0 , 2 ) = 3<br>\n",
    "Ackermann( 0 , 3 ) = 4<br>\n",
    "Ackermann( 1 , 0 ) = 2<br>\n",
    "Ackermann( 1 , 1 ) = 3<br>\n",
    "Ackermann( 1 , 2 ) = 4<br>\n",
    "Ackermann( 1 , 3 ) = 5<br>\n",
    "Ackermann( 2 , 0 ) = 3<br>\n",
    "Ackermann( 2 , 1 ) = 5<br>\n",
    "Ackermann( 2 , 2 ) = 7<br>\n",
    "Ackermann( 2 , 3 ) = 9<br>\n",
    "Ackermann( 3 , 0 ) = 5<br>\n",
    "Ackermann( 3 , 1 ) = 13<br>\n",
    "Ackermann( 3 , 2 ) = 29<br>\n",
    "Ackermann( 3 , 3 ) = 61"
   ]
  },
  {
   "cell_type": "markdown",
   "metadata": {},
   "source": [
    "***"
   ]
  },
  {
   "cell_type": "markdown",
   "metadata": {},
   "source": [
    "#### <a id='J09'>[J09] pow() 함수 만들기</a>\n",
    "\n",
    "$n^a$를 계산할 수 있는 math 모듈 내의 pow() 함수와 같은 일을 하는 power() 함수를 재귀 호출을 이용하여 만들어라. 그리고 숫자 2개(num1, num2)를 입력받아 (num1)^(num2) 를 계산하라. 단, power() 함수는 다음과 같이 정의된다.\n",
    "\n",
    "$power(n, a) = 1 (a = 0)$<br>\n",
    "$power(n, a) = n (a = 1)$<br>\n",
    "$power(n, a) = power(n, a/2) * power(n, a/2) (a > 1, a는 짝수)$<br>\n",
    "$power(n, a) = power(n, a//2) * power(n, a//2) * n (a > 1, a는 홀수)$\n",
    "\n",
    "단, 함수의 선언부는 다음과 같이 사용하라.\n",
    "```\n",
    "def power( num1, num2 ) :\n",
    "    ```"
   ]
  },
  {
   "cell_type": "code",
   "execution_count": null,
   "metadata": {},
   "outputs": [],
   "source": []
  },
  {
   "cell_type": "code",
   "execution_count": null,
   "metadata": {
    "hideCode": true,
    "scrolled": true
   },
   "outputs": [],
   "source": [
    "n = list(map(int, input('숫자 2개 입력 : ').split()))\n",
    "def Pow(n, m):\n",
    "    return n**m\n",
    "print(n[0],'의',n[1],'승은',Pow(n[0],n[1]),'입니다')"
   ]
  },
  {
   "cell_type": "markdown",
   "metadata": {},
   "source": [
    "##### 실행 예제 #1\n",
    "숫자 2개 입력 : 10 5<br>\n",
    "10 의 5 승은 100000 입니다\n",
    "\n",
    "##### 실행 예제 #2\n",
    "숫자 2개 입력 : 2 16<br>\n",
    "2 의 16 승은 65536 입니다"
   ]
  },
  {
   "cell_type": "markdown",
   "metadata": {},
   "source": [
    "***"
   ]
  },
  {
   "cell_type": "markdown",
   "metadata": {},
   "source": [
    "#### <a id='J10'>[J10] 피보나치 수열로 황금비율 구하기</a>\n",
    "\n",
    "문제 [J06]에서 제작한 피보나치 함수 fibonacci(n)를 사용하여 황금비율을 찾아내라. n번째 황금비율이\n",
    "란 피보나치 수열의 연속적인 2개의 숫자의 비율(n+1번째수 / n번째 수)로 정한다.\n",
    "단, 계산한 비율이 직전의 비율에 비해 그 차이가 백만분의 1보다 작게 되면 멈추도록 하라."
   ]
  },
  {
   "cell_type": "code",
   "execution_count": null,
   "metadata": {},
   "outputs": [],
   "source": []
  },
  {
   "cell_type": "code",
   "execution_count": null,
   "metadata": {
    "hideCode": true
   },
   "outputs": [],
   "source": [
    "def fibonacci(n):\n",
    "  if n==1 or n==2:\n",
    "    return 1\n",
    "  else:\n",
    "    return fibonacci(n-1)+fibonacci(n-2)\n",
    "\n",
    "def ratio(n):\n",
    "    return fibonacci(n+1)/fibonacci(n)\n",
    "\n",
    "i=2\n",
    "tmp = float('-inf')\n",
    "while True:\n",
    "    print((i), '번째 비율 :', ratio(i))\n",
    "    if i!=2:\n",
    "        if abs(ratio(i-1) - ratio(i)) < 2e-6:\n",
    "            break\n",
    "    i+=1\n"
   ]
  },
  {
   "cell_type": "markdown",
   "metadata": {},
   "source": [
    "##### 실행 예제\n",
    "2 번째 비율 : 2.0<br>\n",
    "3 번째 비율 : 1.5<br>\n",
    "4 번째 비율 : 1.6666666666666667<br>\n",
    "5 번째 비율 : 1.6<br>\n",
    "6 번째 비율 : 1.625<br>\n",
    "7 번째 비율 : 1.6153846153846154<br>\n",
    "8 번째 비율 : 1.619047619047619<br>\n",
    "9 번째 비율 : 1.6176470588235294<br>\n",
    "10 번째 비율 : 1.6181818181818182<br>\n",
    "11 번째 비율 : 1.6179775280898876<br>\n",
    "12 번째 비율 : 1.6180555555555556<br>\n",
    "13 번째 비율 : 1.6180257510729614<br>\n",
    "14 번째 비율 : 1.6180371352785146<br>\n",
    "15 번째 비율 : 1.618032786885246<br>\n",
    "16 번째 비율 : 1.618034447821682<br>"
   ]
  }
 ],
 "metadata": {
  "celltoolbar": "Hide code",
  "kernelspec": {
   "display_name": "Python 3",
   "language": "python",
   "name": "python3"
  },
  "language_info": {
   "codemirror_mode": {
    "name": "ipython",
    "version": 3
   },
   "file_extension": ".py",
   "mimetype": "text/x-python",
   "name": "python",
   "nbconvert_exporter": "python",
   "pygments_lexer": "ipython3",
   "version": "3.7.3"
  }
 },
 "nbformat": 4,
 "nbformat_minor": 2
}
