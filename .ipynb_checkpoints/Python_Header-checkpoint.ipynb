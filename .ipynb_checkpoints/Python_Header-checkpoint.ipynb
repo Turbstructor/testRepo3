{
 "cells": [
  {
   "cell_type": "markdown",
   "metadata": {},
   "source": [
    "**기초프로그래밍 강의 (Python 3)**\n",
    "\n",
    "# <center>Python Workbook\n",
    "<center>김광 교수 (한동대학교 전산전자공학부) / kkim@handong.edu"
   ]
  },
  {
   "cell_type": "markdown",
   "metadata": {},
   "source": [
    "# <center>서문\n",
    "\n",
    "이 워크북은 컴퓨터 프로그래밍을 배우는 데에 있어서 기초가 되는 논리들을 이해하고 이를 활용한 프로그램을 제작할 수 있도록 훈련하기 위해 제작된 교재이다. 이를 위해 기초부터 응용까지 단계별로 영역을 나누어 각 단계마다 필요한 논리를 간단한 예제를 통해 설명한다. 그리고 각 단계마다 반복적인 실습문제들을 제시하여 풀게 함으로써 프로그래밍 논리를 차근차근 습득해 나갈 수 있도록 돕고 있다.<br>\n",
    "\n",
    "본 교재에서는 Python 3 언어를 기준으로 설명하고 있지만, 여기에서 다루는 프로그래밍 논리 연습은 컴퓨터 프로그래밍을 공부하는 학생들에게 특정 프로그래밍 언어에 국한되지 않는 공통적인 프로그래밍 논리를 스스로 제작할 수 있도록 하는데 도움이 될 것이다. 따라서 앞으로 어떤 언어를 사용하더라도 본 교재에서 습득한 프로그램 해결 능력을 활용하면 빠르게 개발 능력을 키워 갈 수 있을 것이다.<br>\n",
    "\n",
    "프로그래밍 논리 제작 수준에 따라 영역 1부터 영역 3까지 나누었으며, 각 영역에는 3~4개의 단계로 나누어 각 단계마다 필요한 프로그래밍 논리 문제들을 예제와 함께 간단히 설명한다. 그리고 각 단계마다 제시되는 실습 문제들은 주어진 문제와 조건, 사용해야 하는 변수나 함수의 이름과 형식을 준수하고, 제시된 실행 예시 화면을 참고하여 문제를 해결하기 바란다. 본 교재는 일반적인 Python 언어에서 다루는 구체적인 문법들을 설명하고 있지는 않다. 그렇기 때문에 본 교재의 실습문제를 풀 때에는 다른 Python 교재나 인터넷의 관련 사이트 정보를 충분히 활용하기 바란다.<br>\n",
    "\n",
    "그리고 실습문제를 풀 때에는 제시된 변수만을 사용해서 풀어보기를 권한다. 임의로 변수를 추가해서 만들기보다는 주어진 조건을 최대한 지키면서 문제를 해결할 수 있다면 훨씬 유익한 공부가 될 것으로 기대한다.\n",
    "\n",
    "***\n",
    "\n",
    "* 프로그램 제작 도구 :\n",
    "https://www.jetbrains.com/pycharm-edu/download/#section=windows-version\n",
    "\n",
    "\n",
    "* 초판 작성 : 2014년 2월<br>\n",
    "* 파이썬 3.x 내용 반영 : 2016년 7월<br><br>\n",
    "\n",
    "***\n",
    "<center><font size=5>저자."
   ]
  },
  {
   "cell_type": "markdown",
   "metadata": {},
   "source": [
    "***"
   ]
  },
  {
   "cell_type": "markdown",
   "metadata": {},
   "source": [
    "# Notebook 사용 방법\n",
    "아래에 있는 코드 셀을 클릭한 후, 상단에 있는 **Run** 버튼을 클릭하거나, ```Ctrl + Enter```를 눌러 실행할 수 있습니다."
   ]
  },
  {
   "cell_type": "code",
   "execution_count": 2,
   "metadata": {},
   "outputs": [
    {
     "name": "stdout",
     "output_type": "stream",
     "text": [
      "Enter your name : Hans\n",
      "Hello World, Hello Hans!\n"
     ]
    }
   ],
   "source": [
    "name = input(\"Enter your name : \")\n",
    "\n",
    "print(\"Hello World, Hello {}!\".format(name))"
   ]
  },
  {
   "cell_type": "markdown",
   "metadata": {},
   "source": [
    "실행 후 셀 왼쪽에 `ln [1]` 등으로 번호가 생성될 경우 해당 코드 셀의 실행이 종료되었음을 의미합니다. `ln [*]`으로 표시될 경우, 해당 코드 셀이 실행되고 있음을 의미하며, 이 때 `i` 키를 두번 누르거나, 위의 Menubar에서 **Kernel - Interrupt**를 클릭하여 해당 셀을 중지할 수 있습니다. 커널이 리셋되지 않는 이상, 실행한 다른 셀에서 사용된 변수는 남아있게 됩니다."
   ]
  },
  {
   "cell_type": "code",
   "execution_count": 3,
   "metadata": {},
   "outputs": [
    {
     "name": "stdout",
     "output_type": "stream",
     "text": [
      "Hans\n"
     ]
    }
   ],
   "source": [
    "print(name)"
   ]
  },
  {
   "cell_type": "markdown",
   "metadata": {},
   "source": [
    "이렇게 중간중간에 실행할 수 있는 셀이 있으니, 만나게 되면 셀을 한번 돌려보세요."
   ]
  },
  {
   "cell_type": "markdown",
   "metadata": {},
   "source": [
    "# 실습 문제\n",
    "각 Step 별로 실습 문제가 있습니다. 문제마다\n",
    "- 문제 설명문\n",
    "- 코딩할 수 있는 셀\n",
    "- 문제를 구현한 예시를 실행할 수 있는 셀\n",
    "- 실행 예시 (사용자가 입력하는 부분은 **굵게** 표시됨)\n",
    "\n",
    "이렇게 4개가 한 묶음으로 있습니다. 예시 실행과 비교하며 코딩을 진행하세요."
   ]
  },
  {
   "cell_type": "markdown",
   "metadata": {},
   "source": [
    "***"
   ]
  },
  {
   "cell_type": "markdown",
   "metadata": {},
   "source": [
    "# <center>목차\n",
    "    \n",
    "- 영역 1. 프로그래밍 제어구조 기초\n",
    "    - [[Step A] 변수의 사용과 데이터 입출력](Python_StepA.ipynb)\n",
    "    - [[Step B] 단순 조건문 사용하기](Python_StepB.ipynb)\n",
    "    - [[Step C] 복합 조건문 사용하기](Python_StepC.ipynb)\n",
    "    - [[Step D] 반복문 사용하기](Python_StepD.ipynb)\n",
    "\n",
    "\n",
    "- 영역 2 : 프로그래밍 제어구조 응용\n",
    "    - [[Step E] 복합 반복문 사용하기](Python_StepE.ipynb)\n",
    "    - [[Step F] 리스트 사용하기](Python_StepF.ipynb)\n",
    "    - [[Step G] 조건과 반복을 활용하는 응용 예제 해결하기](Python_StepG.ipynb)\n",
    "    - [[Step H] 파이썬에서 함수 사용하기](Python_StepH.ipynb)\n",
    "    - [[Step H'] 딕셔너리 사용하기](Python_StepH.ipynb#Intro2)\n",
    "\n",
    "\n",
    "- 영역 3 : 함수 만들어 사용하기\n",
    "    - [[Step I] 파라미터 또는 리턴값만 있는 함수 만들기](Python_StepI.ipynb)\n",
    "    - [[Step J] 파라미터와 리턴 값이 모두 있는 함수 만들기](Python_StepJ.ipynb)\n",
    "    - [[Step K] 파일 사용하기](Python_StepK.ipynb)"
   ]
  },
  {
   "cell_type": "markdown",
   "metadata": {},
   "source": [
    "***"
   ]
  },
  {
   "cell_type": "markdown",
   "metadata": {},
   "source": [
    "# <center> 실습문제 목록\n",
    "\n",
    "***\n",
    "\n",
    "- [[A01] 나이 계산](Python_StepA.ipynb#A01)\n",
    "- [[A02] 온도 변환](Python_StepA.ipynb#A02)\n",
    "- [[A03] 직사각형 넓이 계산](Python_StepA.ipynb#A03)\n",
    "- [[A04] 아파트 평형 계산](Python_StepA.ipynb#A04)\n",
    "- [[A05] 날짜 계산](Python_StepA.ipynb#A05)\n",
    "- [[A06] 점수 계산](Python_StepA.ipynb#A06)\n",
    "- [[A07] 파일 용량 계산](Python_StepA.ipynb#A07)\n",
    "\n",
    "***\n",
    "\n",
    "- [[B01] 나이 계산 및 미성년자 판정](Python_StepB.ipynb#B01)\n",
    "- [[B02] 온도 상호 변환](Python_StepB.ipynb#B02)\n",
    "- [[B03] 직사각형 넓이 계산 및 정사각형 판정](Python_StepB.ipynb#B03)\n",
    "- [[B04] 아파트 평형 계산 및 종류 판정](Python_StepB.ipynb#B04)\n",
    "- [[B05] 날짜 계산](Python_StepB.ipynb#B05)\n",
    "- [[B06] 점수 계산](Python_StepB.ipynb#B06)\n",
    "- [[B07] 파일 전송 시간 계산](Python_StepB.ipynb#B07)\n",
    "- [[B08] 다양한 조건 판정](Python_StepB.ipynb#B08)\n",
    "- [[B09] 비만 판정](Python_StepB.ipynb#B09)\n",
    "\n",
    "***\n",
    "\n",
    "- [[C01] 나이 계산 및 연령대 판정](Python_StepC.ipynb#C01)\n",
    "- [[C02] 물의 온도 구간 판정](Python_StepC.ipynb#C02)\n",
    "- [[C03] 직사각형 형태 판정](Python_StepC.ipynb#C03)\n",
    "- [[C04] 아파트 평형 계산 및 종류 판정](Python_StepC.ipynb#C04)\n",
    "- [[C05] 연중 날짜 계산](Python_StepC.ipynb#C05)\n",
    "- [[C06] 점수 계산](Python_StepC.ipynb#C06)\n",
    "- [[C07] 파일 전송 시간 계산](Python_StepC.ipynb#C07)\n",
    "- [[C08] 3개의 수 중 최댓값과 최솟값 구하기](Python_StepC.ipynb#C08)\n",
    "- [[C09] 소득세 계산](Python_StepC.ipynb#C09)\n",
    "- [[C10] 간단한 사칙연산 계산기](Python_StepC.ipynb#C10)\n",
    "- [[C11] 윤년 판정하기](Python_StepC.ipynb#C11)\n",
    "\n",
    "***\n",
    "\n",
    "- [[D01] 1부터 숫자 더하기](Python_StepD.ipynb#D01)\n",
    "- [[D02] 입력 받은 숫자들 중에서 가장 큰 수와 가장 작은 수 구하기](Python_StepD.ipynb#D02)\n",
    "- [[D03] 입력 받은 숫자들의 총합계와 평균 값 구하기](Python_StepD.ipynb#D03)\n",
    "- [[D04] 미성년자 숫자 세기](Python_StepD.ipynb#D04)\n",
    "- [[D05] 직사각형 형태 개수 세기](Python_StepD.ipynb#D05)\n",
    "- [[D06] 아파트 평형 계산 및 종류 판정](Python_StepD.ipynb#D06)\n",
    "- [[D07] 1차 함수의 좌표 구하기](Python_StepD.ipynb#D07)\n",
    "- [[D08] 2차 함수의 좌표 구하기](Python_StepD.ipynb#D08)\n",
    "- [[D09] 원하는 구구단의 단 출력하기](Python_StepD.ipynb#D09)\n",
    "- [[D10] 두 수의 배타적 배수 출력하기](Python_StepD.ipynb#D10)\n",
    "\n",
    "***\n",
    "\n",
    "- [[E01] 입력한 숫자 크기의 정사각형 출력하기](Python_StepE.ipynb#E01)\n",
    "- [[E02] 입력한 숫자 크기의 높이를 갖는 우직각 삼각형 출력하기](Python_StepE.ipynb#E02)\n",
    "- [[E03] 입력한 숫자 크기의 높이를 갖는 이등변 삼각형 출력하기](Python_StepE.ipynb#E03)\n",
    "- [[E04] 홀수단 또는 짝수단의 구구단 출력하기](Python_StepE.ipynb#E04)\n",
    "- [[E05] 홀수단 또는 짝수단의 구구단을 열의 개수를 맞추어 출력하기](Python_StepE.ipynb#E05)\n",
    "- [[E06] 2차원 숫자 출력하기](Python_StepE.ipynb#E06)\n",
    "\n",
    "***\n",
    "\n",
    "- [[F01] 두 번째로 큰 수의 순서 찾기](Python_StepF.ipynb#F01)\n",
    "- [[F02] 심사점수 계산](Python_StepF.ipynb#F02)\n",
    "- [[F03] 5명의 국, 영, 수 3과목 점수의 과목별 총점, 평균값 구하기](Python_StepF.ipynb#F03)\n",
    "- [[F04] 5명의 국, 영, 수 3과목 점수의 학생별 총점, 평균값 구하기](Python_StepF.ipynb#F04)\n",
    "- [[F05] 비만 판정](Python_StepF.ipynb#F05)\n",
    "- [[F06] 5층 아파트의 거주자 숫자 구하기](Python_StepF.ipynb#F06)\n",
    "- [[F07] 5층 아파트의 층별, 호수별 거주자 숫자 구하기](Python_StepF.ipynb#F07)\n",
    "- [[F08] 겹치지 않는 숫자 10개 입력 받기](Python_StepF.ipynb#F08)\n",
    "- [[F09] 리스트를 이용한 연중 날짜 계산](Python_StepF.ipynb#F09)\n",
    "\n",
    "***\n",
    "\n",
    "- [[G01] 나이 계산 및 연령대 판정](Python_StepG.ipynb#G01)\n",
    "- [[G02] 물의 온도 구간 판정](Python_StepG.ipynb#G02)\n",
    "- [[G03] 점수 계산](Python_StepG.ipynb#G03)\n",
    "- [[G04] 부동산 중개 수수료 계산기](Python_StepG.ipynb#G04)\n",
    "- [[G05] PC방 이용료 계산기](Python_StepG.ipynb#G05)\n",
    "- [[G06] 쇼핑몰 매출 계산기](Python_StepG.ipynb#G06)\n",
    "- [[G07] 놀이공원 매표소](Python_StepG.ipynb#G07)\n",
    "\n",
    "***\n",
    "\n",
    "- [[H01] 숫자 알아 맞추기](Python_StepH.ipynb#H01)\n",
    "- [[H02] 로또 번호 만들기](Python_StepH.ipynb#H02)\n",
    "- [[H03] 로또 번호 당첨 확인하기](Python_StepH.ipynb#H03)\n",
    "- [[H04] 가위바위보 게임하기](Python_StepH.ipynb#H04)\n",
    "- [[H05] 슬롯머신 만들기](Python_StepH.ipynb#H05)\n",
    "- [[H06] 5개 숫자의 제곱수 조합 구하기](Python_StepH.ipynb#H06)\n",
    "- [[H07] 표준편차 구하기](Python_StepH.ipynb#H07)\n",
    "- [[H08] 애너그램(Anagram) 판별하기](Python_StepH.ipynb#H08)\n",
    "- [[H09] 회문(Palindrome) 판별하기](Python_StepH.ipynb#H09)\n",
    "- [[H10] 문자열 분석하기](Python_StepH.ipynb#H10)\n",
    "\n",
    "***\n",
    "\n",
    "- [[I01] 메뉴판 보여주는 함수 만들기](Python_StepI.ipynb#I01)\n",
    "- [[I02] 빈칸과 함께 특정 문자를 개수만큼 찍는 함수 만들기](Python_StepI.ipynb#I02)\n",
    "- [[I03] 비만 판정](Python_StepI.ipynb#I03)\n",
    "- [[I04] 메뉴 번호 받아오는 함수 만들기](Python_StepI.ipynb#I04)\n",
    "- [[I05] 최댓값 리턴하는 함수 만들기](Python_StepI.ipynb#I05)\n",
    "- [[I06] 임의의 숫자를 만들어 구간을 리턴하는 함수 만들기](Python_StepI.ipynb#I06)\n",
    "- [[I07] 자판기에서 선택한 음료 가격을 리턴하는 함수 만들기](Python_StepI.ipynb#I07)\n",
    "\n",
    "***\n",
    "\n",
    "- [[J01] 나이 계산 및 연령대 판정](Python_StepJ.ipynb#J01)\n",
    "- [[J02] 심사점수 계산](Python_StepJ.ipynb#J02)\n",
    "- [[J03] 물의 온도 구간 개수 판정](Python_StepJ.ipynb#J03)\n",
    "- [[J04] 연중 날짜 계산 함수를 이용한 날짜 간격 세기](Python_StepJ.ipynb#J04)\n",
    "- [[J05] 주차 관리 시스템](Python_StepJ.ipynb#J05)\n",
    "- [[J06] 피보나치 수 구하기](Python_StepJ.ipynb#J06)\n",
    "- [[J07] 2의 제곱수 구하기](Python_StepJ.ipynb#J07)\n",
    "- [[J08] Ackermann 수 구하기](Python_StepJ.ipynb#J08)\n",
    "- [[J09] pow() 함수 만들기](Python_StepJ.ipynb#J09)\n",
    "- [[J10] 피보나치 수열로 황금비율 구하기](Python_StepJ.ipynb#J10)\n",
    "\n",
    "***\n",
    "\n",
    "- [[K01] 메뉴판 저장하기](Python_StepK.ipynb#K01)\n",
    "- [[K02] 메뉴판 읽어오기](Python_StepK.ipynb#K02)\n",
    "- [[K03] 좌표 저장하기](Python_StepK.ipynb#K03)\n",
    "- [[K04] 좌표 불러오기](Python_StepK.ipynb#K04)\n",
    "- [[K05] 사용자 목록 저장하기](Python_StepK.ipynb#K05)\n",
    "- [[K06] 사용자 목록 불러오기](Python_StepK.ipynb#K06)\n",
    "- [[K07] 학생 점수 결과 저장하기](Python_StepK.ipynb#K07)"
   ]
  }
 ],
 "metadata": {
  "kernelspec": {
   "display_name": "Python 3",
   "language": "python",
   "name": "python3"
  },
  "language_info": {
   "codemirror_mode": {
    "name": "ipython",
    "version": 3
   },
   "file_extension": ".py",
   "mimetype": "text/x-python",
   "name": "python",
   "nbconvert_exporter": "python",
   "pygments_lexer": "ipython3",
   "version": "3.7.3"
  }
 },
 "nbformat": 4,
 "nbformat_minor": 2
}
