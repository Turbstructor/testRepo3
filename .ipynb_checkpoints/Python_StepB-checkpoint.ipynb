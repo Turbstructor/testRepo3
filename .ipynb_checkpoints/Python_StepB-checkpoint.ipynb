{
 "cells": [
  {
   "cell_type": "markdown",
   "metadata": {},
   "source": [
    "# 영역 1. 프로그래밍 제어구조 기초\n",
    "영역 1에서는 프로그래밍의 가장 기본이 되는 변수의 사용과 입출력 처리 방법, 조건문과 반복문을 통한 제어구조의 기초를 연습한다.\n",
    "\n",
    "영역 1은 다음과 같이 4개의 단계로 구성된다.\n",
    "- [[Step A] : 변수의 사용과 데이터 입출력](Python_StepA.ipynb#Intro)\n",
    "- [[Step B] : 단순 조건문 사용하기](#Intro)\n",
    "- [[Step C] : 복합 조건문 사용하기](Python_StepC.ipynb#Intro)\n",
    "- [[Step D] : 반복문 사용하기](Python_StepD.ipynb#Intro)"
   ]
  },
  {
   "cell_type": "markdown",
   "metadata": {},
   "source": [
    "***"
   ]
  },
  {
   "cell_type": "markdown",
   "metadata": {},
   "source": [
    "## <a id='Intro'>[Step B] 단순 조건문 사용하기</a>\n",
    "프로그램에서는 입력된 값이나 계산한 값에 대해서 특정 조건에 부합하는 지의 여부를 판정하여 그 결과에 따라 다른 작업을 수행하도록 해야 할 필요가 있다. 이때에 사용하는 구문이 조건문인데, 조건문의 가장 기본적인 모습은 다음과 같다. 여기서 주의해야 할 것은 반드시 조건문이 참인 경우\n",
    "에 수행할 문장들은 문장 앞에서 들여쓰기를 해 주어야 한다는 것이다.\n",
    "```\n",
    "if 조건문 :\n",
    "    조건문이 참인 경우에 수행해야 하는 구문들\n",
    "```\n",
    "\n",
    "예를 들어 입력받은 사과의 개수가 30개가 넘는 경우에 \"한 박스에 담을 수 없습니다.\" 라고 출력하려고 하면 다음과 같이 하면 된다."
   ]
  },
  {
   "cell_type": "code",
   "execution_count": null,
   "metadata": {},
   "outputs": [],
   "source": [
    "unit_price = int(input(\"사과 1개의 가격은 얼마입니까? \"))\n",
    "apple_count = int(input(\"사과의 개수는 모두 몇 개 입니까? \"))\n",
    "\n",
    "if apple_count > 30 :\n",
    "    print(\"한 박스에 담을 수 없습니다.\")"
   ]
  },
  {
   "cell_type": "markdown",
   "metadata": {},
   "source": [
    "조건문이 참인 경우에 수행해야 하는 내용과 그 외의 경우 즉, 조건문이 거짓인 경우에 수행해야하는 내용이 따로 있는 경우에는 다음과 같은 형식의 구문을 사용한다.\n",
    "```\n",
    "if 조건문 :\n",
    "    조건문이 참인 경우에 수행해야 하는 구문들\n",
    "else :\n",
    "    조건문이 거짓인 경우에 수행해야 하는 구문들\n",
    "```\n",
    "\n",
    "위의 예제에서 사과의 개수가 30개가 넘지 않는 경우에는 \"한 박스에 담을 수 있습니다.\"라고 출력하도록 변경하면 다음과 같이 하면 된다."
   ]
  },
  {
   "cell_type": "code",
   "execution_count": null,
   "metadata": {},
   "outputs": [],
   "source": [
    "unit_price = int(input(\"사과 1개의 가격은 얼마입니까? \"))\n",
    "apple_count = int(input(\"사과의 개수는 모두 몇 개 입니까? \"))\n",
    "\n",
    "if apple_count>30 :\n",
    "    print(\"한 박스에 담을 수 없습니다.\")\n",
    "else :\n",
    "    print(\"한 박스에 담을 수 있습니다.\")"
   ]
  },
  {
   "cell_type": "markdown",
   "metadata": {},
   "source": [
    "이번에는 나이와 성별을 입력받아 이를 출력하는 구문을 만들어 보자. 나이는 정수형 변수로 처리하고, 성별은 'M' 또는 'F'의 값을 갖는 문자열 변수로 처리하도록 한다."
   ]
  },
  {
   "cell_type": "code",
   "execution_count": null,
   "metadata": {},
   "outputs": [],
   "source": [
    "age = int(input(\"당신의 나이는? \"))\n",
    "gender = input(\"당신의 성별은? (남자 M, 여자 F) \")\n",
    "\n",
    "if gender == 'M' :\n",
    "    print(\"당신은 \", age, \"세의 남자입니다.\")\n",
    "else:\n",
    "    print(\"당신은 \", age, \"세의 여자입니다.\")"
   ]
  },
  {
   "cell_type": "markdown",
   "metadata": {},
   "source": [
    "이 때 성별을 입력받을 경우에 `input`()앞에 `int`를 넣지 않는 이유는 성별은 숫자가 아닌 문자열로 입력받기 때문이라는 것에 주의하라. 문자열은 따옴표로 표시되는데 작은따옴표나 큰따옴표 모두 사용할 수 있다."
   ]
  },
  {
   "cell_type": "markdown",
   "metadata": {},
   "source": [
    "그러면 조건문을 이용하는 간단한 프로그램을 만들어보자. 문제는 2개의 숫자를 입력받아 이 숫자들이 같은 수인지를 판정하는 것이다. 이 문제를 해결하기 위해 다음과 같은 순서를 생각하자.\n",
    "\n",
    "1. 숫자 2개의 값을 입력받는다.\n",
    "2. 만일 첫 번째 숫자와 두 번째 숫자가 같으면 3번을, 그렇지 않으면 4번을 수행한다.\n",
    "3. \"두 수는 같습니다.\"라고 출력한다.\n",
    "4. \"두 수는 같지 않습니다.\"라고 출력한다.\n",
    "\n",
    "이 문제를 해결하는 프로그램은 다음과 같다."
   ]
  },
  {
   "cell_type": "code",
   "execution_count": null,
   "metadata": {},
   "outputs": [],
   "source": [
    "num1, num2 = input(\"숫자 2개를 입력하시오. \").split() # 입력받은 문자열을 둘로 나눈다\n",
    "num1 = int(num1) # 첫 문자열을 정수로 변환\n",
    "num2 = int(num2) # 두번째 문자열을 정수로 변환\n",
    "\n",
    "if num1 == num2 :\n",
    "    print(\"두 수는 같습니다.\")\n",
    "else :\n",
    "    print(\"두 수는 같지 않습니다.\")"
   ]
  },
  {
   "cell_type": "markdown",
   "metadata": {},
   "source": [
    "위 프로그램에서 `input()`을 통해 입력된 문자열은 2개의 숫자로 구성되어 있기 때문에 `.split()`를 붙여서 문자열을 빈칸을 기준으로 2개로 나눈 후에 각각 `num1`과 `num2`에 할당하게 된다. 그리고 이 2개의 변수에는 숫자가 아닌 문자열의 형태로 할당되었기 때문에 `int(num1)`을 해 주면 숫자로 바꾸어 다시 `num1`에 할당하게 되는 것이다. 이 프로그램을 수행한 결과는 다음과 같다. 같은 수를 넣은 경우와 다른 수를 넣은 경우에 따라 출력 내용이 달라지는 것을 확인할 수 있다."
   ]
  },
  {
   "cell_type": "markdown",
   "metadata": {},
   "source": [
    "***\n",
    "***"
   ]
  },
  {
   "cell_type": "markdown",
   "metadata": {},
   "source": [
    "### ○ 실습 문제"
   ]
  },
  {
   "cell_type": "markdown",
   "metadata": {},
   "source": [
    "#### <a id='B01'>[B01] 나이 계산 및 미성년자 판정</a>\n",
    "태어난 년도를 입력받아 나이를 계산한 후, 미성년자인지 여부를 판정하여 그 결과를 출력하라. 단, 나이 = 2019 – 태어난 년도 + 1로 계산하고 나이가 20세 미만인 경우, 미성년자로 판정한다. 변수는 다음과 같이 사용하라.\n",
    "```\n",
    "birth_year # 태어난 년도\n",
    "age # 나이\n",
    "```"
   ]
  },
  {
   "cell_type": "code",
   "execution_count": null,
   "metadata": {},
   "outputs": [],
   "source": []
  },
  {
   "cell_type": "code",
   "execution_count": null,
   "metadata": {
    "hideCode": true
   },
   "outputs": [],
   "source": [
    "birth_year = int(input(\"태어난 년도를 입력하세요. \"))\n",
    "\n",
    "age = 2019 - birth_year + 1\n",
    "print(\"미성년자{}니다.\".format(\"입\" if age < 20 else \"가 아닙\"))"
   ]
  },
  {
   "cell_type": "markdown",
   "metadata": {},
   "source": [
    "##### 실행 예시 #1\n",
    "태어난 년도를 입력하세요. 1996<br>\n",
    "미성년자가 아닙니다.\n",
    "\n",
    "##### 실행 예시 #2\n",
    "태어난 년도를 입력하세요. 2001<br>\n",
    "미성년자입니다."
   ]
  },
  {
   "cell_type": "markdown",
   "metadata": {},
   "source": [
    "***"
   ]
  },
  {
   "cell_type": "markdown",
   "metadata": {},
   "source": [
    "#### <a id='B02'>[B02] 온도 상호 변환</a>\n",
    "온도를 입력받은 후, 이 값이 섭씨온도인지 화씨온도인지 종류를 C 또는 F로 입력받아 섭씨온도이면 화씨온도로 변환하고, 화씨온도이면 섭씨온도로 변환하여 그 값을 출력하라. 단, 화씨온도 = 섭씨온도 * 1.8 + 32, 섭씨온도 = (화씨온도 – 32) / 1.8로 계산한다.\n",
    "\n",
    "변수는 다음과 같이 사용하라.\n",
    "```\n",
    "input_degree # 입력받은 온도\n",
    "kind # 온도의 종류, 섭씨온도이면 'C', 화씨온도이면 'F'\n",
    "output_degree # 변환한 온도\n",
    "```"
   ]
  },
  {
   "cell_type": "code",
   "execution_count": null,
   "metadata": {},
   "outputs": [],
   "source": []
  },
  {
   "cell_type": "code",
   "execution_count": null,
   "metadata": {
    "hideCode": true
   },
   "outputs": [],
   "source": [
    "input_degree = float(input(\"온도를 입력하세요. \"))\n",
    "kind = input(\"입력하신 온도가 섭씨온도이면 C를, 화씨온도이면 F를 입력하세요. \").upper()\n",
    "\n",
    "output_degree = (input_degree * 1.8 + 32) if kind == 'C' else ((input_degree - 32) / 1.8)\n",
    "print(\"변환된 온도는 {:.1f}입니다.\".format(output_degree))"
   ]
  },
  {
   "cell_type": "markdown",
   "metadata": {},
   "source": [
    "##### 실행 예시 #1\n",
    "온도를 입력하세요. 68.0<br>\n",
    "입력하신 온도가 섭씨온도이면 C를, 화씨온도이면 F를 입력하세요. F<br>\n",
    "변환된 온도는 20.0입니다.\n",
    "\n",
    "##### 실행 예시 #2\n",
    "온도를 입력하세요. 20.0<br>\n",
    "입력하신 온도가 섭씨온도이면 C를, 화씨온도이면 F를 입력하세요. C<br>\n",
    "변환된 온도는 68.0입니다."
   ]
  },
  {
   "cell_type": "markdown",
   "metadata": {},
   "source": [
    "***"
   ]
  },
  {
   "cell_type": "markdown",
   "metadata": {},
   "source": [
    "#### <a id='B03'>[B03] 직사각형 넓이 계산 및 정사각형 판정</a>\n",
    "직사각형의 가로크기와 세로크기를 입력받아 이 값을 이용하여 직사각형의 넓이를 계산하고 정사각형인지의 여부를 판정하여 함께 출력하라. 단, 직사각형의 넓이 = 가로크기 * 세로크기로 계산한다.\n",
    "\n",
    "변수는 다음과 같이 사용하라.\n",
    "```\n",
    "width, height # 가로크기, 세로크기\n",
    "area # 사각형의 넓이\n",
    "```"
   ]
  },
  {
   "cell_type": "code",
   "execution_count": null,
   "metadata": {},
   "outputs": [],
   "source": []
  },
  {
   "cell_type": "code",
   "execution_count": null,
   "metadata": {
    "hideCode": true
   },
   "outputs": [],
   "source": [
    "width = eval(input(\"직사각형의 가로 크기를 입력하시오. \"))\n",
    "height = eval(input(\"직사각형의 세로 크기를 입력하시오. \"))\n",
    "\n",
    "area = width * height\n",
    "print(\"직사각형의 넓이는 {}이고\".format(area))\n",
    "print(\"정사각형{}니다.\".format(\"입\" if width == height else \"이 아닙\"))"
   ]
  },
  {
   "cell_type": "markdown",
   "metadata": {},
   "source": [
    "##### 실행 예시 #1\n",
    "직사각형의 가로 크기를 입력하시오. 20<br>\n",
    "직사각형의 세로 크기를 입력하시오. 20<br>\n",
    "직사각형의 넓이는 400이고<br>\n",
    "정사각형입니다.\n",
    "\n",
    "##### 실행 예시 #2\n",
    "직사각형의 가로 크기를 입력하시오. 10<br>\n",
    "직사각형의 세로 크기를 입력하시오. 20<br>\n",
    "직사각형의 넓이는 200이고<br>\n",
    "정사각형이 아닙니다."
   ]
  },
  {
   "cell_type": "markdown",
   "metadata": {},
   "source": [
    "***"
   ]
  },
  {
   "cell_type": "markdown",
   "metadata": {},
   "source": [
    "#### <a id='B04'>[B04] 아파트 평형 계산 및 종류 판정</a>\n",
    "아파트의 분양 면적을 제곱미터(m2) 단위로 입력받아 이 값을 평형 단위의 값으로 변환하라. 그리고 평형수에 따라 아파트의 종류가 작은 아파트인지 큰 아파트인지 판정하여 판정 결과를 출력하라. 단, 평형 수 = 제곱미터 / 3.305로 계산하고, 30평 미만이면 작은 아파트, 30평 이상이면 큰 아파트로 판정한다.\n",
    "\n",
    "변수는 다음과 같이 사용하라.\n",
    "```\n",
    "m2_area # 면적 (제곱미터)\n",
    "pyung_area # 면적 (평수)\n",
    "```"
   ]
  },
  {
   "cell_type": "code",
   "execution_count": null,
   "metadata": {},
   "outputs": [],
   "source": []
  },
  {
   "cell_type": "code",
   "execution_count": null,
   "metadata": {
    "hideCode": true
   },
   "outputs": [],
   "source": [
    "m2_area = eval(input(\"아파트의 분양 면적(제곱미터)을 입력하시오. \"))\n",
    "pyung_area = m2_area / 3.305\n",
    "\n",
    "print(\"아파트의 평형은 {:.1f}이고\".format(pyung_area))\n",
    "print(\"30평 {}입니다.\".format(\"미만이므로 작은 아파트\" if pyung_area < 30 else \"이상이므로 큰 아파트\"))"
   ]
  },
  {
   "cell_type": "markdown",
   "metadata": {},
   "source": [
    "##### 실행 예시 #1\n",
    "아파트의 분양 면적(제곱미터)을 입력하시오. 120.5<br>\n",
    "아파트의 평형은 36.5이고<br>\n",
    "30평 이상이므로 큰 아파트입니다.\n",
    "\n",
    "##### 실행 예시 #2\n",
    "아파트의 분양 면적(제곱미터)을 입력하시오. 85.5<br>\n",
    "아파트의 평형은 25.9이고<br>\n",
    "30평 이상이므로 큰 아파트입니다."
   ]
  },
  {
   "cell_type": "markdown",
   "metadata": {},
   "source": [
    "***"
   ]
  },
  {
   "cell_type": "markdown",
   "metadata": {},
   "source": [
    "#### <a id='B05'>[B05] 날짜 계산</a>\n",
    "날 수를 입력받아 이 날 수에 해당되는 기간은 모두 몇 초인지 계산하고, 100만 초가 넘는 경우에는 100만 초가 모두 몇 번이나 포함되는 지 계산하여 출력하라. 단, 초 = 날 수 * 24 * 60 * 60으로 계산한다.\n",
    "\n",
    "변수는 다음과 같이 사용하라.\n",
    "```\n",
    "days # 날 수\n",
    "seconds # 초 단위 시간\n",
    "m_count # 100만 초 포함 횟수\n",
    "```"
   ]
  },
  {
   "cell_type": "code",
   "execution_count": null,
   "metadata": {},
   "outputs": [],
   "source": []
  },
  {
   "cell_type": "code",
   "execution_count": null,
   "metadata": {
    "hideCode": true
   },
   "outputs": [],
   "source": [
    "days = int(input(\"날 수를 입력하세요. \"))\n",
    "seconds = days * 24 * 60 * 60\n",
    "\n",
    "print(\"날 수에 해당되는 기간은 모두 {}초입니다.\".format(seconds))\n",
    "if seconds >= 1000000: print(\"100만 초가 모두 {}번이나 포함됩니다.\".format(seconds // 1000000))"
   ]
  },
  {
   "cell_type": "markdown",
   "metadata": {},
   "source": [
    "##### 실행 예시 #1\n",
    "날 수를 입력하세요. 5<br>\n",
    "날 수에 해당되는 기간은 모두 432000초입니다.\n",
    "\n",
    "##### 실행 예시 #2\n",
    "날 수를 입력하세요. 25<br>\n",
    "날 수에 해당되는 기간은 모두 2160000초입니다.<br>\n",
    "100만 초가 모두 2번이나 포함됩니다."
   ]
  },
  {
   "cell_type": "markdown",
   "metadata": {},
   "source": [
    "***"
   ]
  },
  {
   "cell_type": "markdown",
   "metadata": {},
   "source": [
    "#### <a id='B06'>[B06] 점수 계산</a>\n",
    "국어, 영어, 수학 점수를 입력받아 이 점수의 총점과 평균을 계산하고, 각 과목별로 90점 이상이면 성적우수로 표시하여 출력하라. 단, 총점 = 국어점수 + 영어점수 + 수학점수, 평균 = 총점 / 3.0 으로 계산하라.\n",
    "\n",
    "변수는 다음과 같이 사용하라.\n",
    "```\n",
    "kor, eng, math # 국어점수, 영어점수, 수학점수\n",
    "total # 총점\n",
    "average # 평균점수\n",
    "```"
   ]
  },
  {
   "cell_type": "code",
   "execution_count": null,
   "metadata": {},
   "outputs": [],
   "source": []
  },
  {
   "cell_type": "code",
   "execution_count": null,
   "metadata": {
    "hideCode": true
   },
   "outputs": [],
   "source": [
    "kor = int(input(\"국어 점수를 입력하세요. \"))\n",
    "eng = int(input(\"영어 점수를 입력하세요. \"))\n",
    "math = int(input(\"수학 점수를 입력하세요. \"))\n",
    "\n",
    "total = kor + eng + math\n",
    "average = total / 3.0\n",
    "\n",
    "print(\"입력하신 점수의 총점은 {}이고,\".format(total))\n",
    "print(\"평균은 {:.1f}입니다.\".format(average))\n",
    "\n",
    "print()\n",
    "\n",
    "if kor >= 90: print(\"국어 점수가 우수합니다.\")\n",
    "if eng >= 90: print(\"영어 점수가 우수합니다.\")\n",
    "if math >= 90: print(\"수학 점수가 우수합니다.\")"
   ]
  },
  {
   "cell_type": "markdown",
   "metadata": {},
   "source": [
    "##### 실행 예시 #1\n",
    "국어 점수를 입력하세요. 95<br>\n",
    "영어 점수를 입력하세요. 99<br>\n",
    "수학 점수를 입력하세요. 84<br>\n",
    "입력하신 점수의 총점은 278이고,<br>\n",
    "평균은 92.7입니다.\n",
    "\n",
    "국어 점수가 우수합니다.<br>\n",
    "영어 점수가 우수합니다.\n",
    "\n",
    "##### 실행 예시 #2\n",
    "국어 점수를 입력하세요. 95<br>\n",
    "영어 점수를 입력하세요. 99<br>\n",
    "수학 점수를 입력하세요. 94<br>\n",
    "입력하신 점수의 총점은 288이고,<br>\n",
    "평균은 96.0입니다.\n",
    "\n",
    "국어 점수가 우수합니다.<br>\n",
    "영어 점수가 우수합니다.<br>\n",
    "수학 점수가 우수합니다."
   ]
  },
  {
   "cell_type": "markdown",
   "metadata": {},
   "source": [
    "***"
   ]
  },
  {
   "cell_type": "markdown",
   "metadata": {},
   "source": [
    "#### <a id='B07'>[B07] 파일 전송 시간 계산</a>\n",
    "파일 용량을 메가바이트 단위로 입력받고, USB 포트가 2.0인지 아닌 지를 'Y'또는 'N'으로 입력받아 이에 따라 파일 전송 시간을 초 단위로 계산하여 출력하라. 단, 계산방법은 다음과 같다.\n",
    "```\n",
    "바이트 수 = 메가바이트 수 * 1024 * 1024\n",
    "USB 1.1 전송 속도 = 1,500,000바이트 / 초\n",
    "USB 2.0 전송 속도 = 60,000,000바이트 / 초\n",
    "```\n",
    "\n",
    "변수는 다음과 같이 사용하라.\n",
    "```\n",
    "megabytes # 용량(메가바이트 단위)\n",
    "bytes # 용량(바이트 단위)\n",
    "usb2 # USB 2.0 사용여부 (Y: 예, N: 아니요)\n",
    "time # 전송시간(초 단위)\n",
    "```"
   ]
  },
  {
   "cell_type": "code",
   "execution_count": null,
   "metadata": {},
   "outputs": [],
   "source": []
  },
  {
   "cell_type": "code",
   "execution_count": null,
   "metadata": {
    "hideCode": true
   },
   "outputs": [],
   "source": [
    "megabytes = eval(input(\"파일 용량을 메가바이트 단위로 입력하세요. \"))\n",
    "usb2 = input(\"USB 포트가 2.0이면 Y, 아니면 N을 입력하세요. \").upper() # N for USB 1.1\n",
    "\n",
    "bytes = megabytes * 1024 * 1024\n",
    "time = bytes / 1500000 if usb2 == 'N' else bytes / 60000000\n",
    "\n",
    "print(\"파일 전송 시간은 {:.3f}초입니다.\".format(time))"
   ]
  },
  {
   "cell_type": "markdown",
   "metadata": {},
   "source": [
    "##### 실행 예시 #1\n",
    "파일 용량을 메가바이트 단위로 입력하세요. 800<br>\n",
    "USB 포트가 2.0이면 Y, 아니면 N을 입력하세요. Y<br>\n",
    "파일 전송 시간은 13.981초입니다.\n",
    "\n",
    "##### 실행 예시 #2\n",
    "파일 용량을 메가바이트 단위로 입력하세요. 800<br>\n",
    "USB 포트가 2.0이면 Y, 아니면 N을 입력하세요. N<br>\n",
    "파일 전송 시간은 559.241초입니다."
   ]
  },
  {
   "cell_type": "markdown",
   "metadata": {},
   "source": [
    "***"
   ]
  },
  {
   "cell_type": "markdown",
   "metadata": {},
   "source": [
    "#### <a id='B08'>[B08] 다양한 조건 판정</a>\n",
    "3개의 정수를 입력받아 이 숫자들에 대해서 다음 조건 중에 만족시키는 번호들을 모두 출력하라.\n",
    "1. 3개의 숫자 중 적어도 두 수의 값이 같다.\n",
    "2. 3개의 숫자 중 적어도 두 수의 크기가 모두 50 보다 크다.\n",
    "3. 3개의 숫자 중 어떤 두 수의 합이 나머지 하나의 숫자와 같다.\n",
    "4. 3개의 숫자 중 어떤 하나의 수로 다른 두 수를 나누면 나누어떨어지는 경우가 있다.\n",
    "\n",
    "\n",
    "변수는 다음과 같이 사용하라.\n",
    "```\n",
    "num1, num2, num3 # 첫 번째 숫자, 두 번째 숫자, 세 번째 숫자\n",
    "```"
   ]
  },
  {
   "cell_type": "code",
   "execution_count": null,
   "metadata": {},
   "outputs": [],
   "source": []
  },
  {
   "cell_type": "code",
   "execution_count": null,
   "metadata": {
    "hideCode": true,
    "hideOutput": true
   },
   "outputs": [],
   "source": [
    "num1 = eval(input(\"첫번쨰 숫자를 입력하세요 : \"))\n",
    "num2 = eval(input(\"두번째 숫자를 입력하세요 : \"))\n",
    "num3 = eval(input(\"세번째 숫자를 입력하세요 : \"))\n",
    "\n",
    "if num1 == num2 or num2 == num3 or num3 == num1: print(\"1번 조건 만족 : 3개의 숫자 중 적어도 두 수의 값이 같다.\")\n",
    "if (num1 > 50 and num2 > 50) or (num2 > 50 and num3 > 50) or (num3 > 50 or num1 > 50): print(\"2번 조건 만족 : 3개의 숫자 중 적어도 두 수의 크기가 모두 50 보다 크다.\")\n",
    "if num1 + num2 == num3 or num2 + num3 == num1 or num3 + num1 == num2: print(\"3번 조건 만족 : 3개의 숫자 중 어떤 두 수의 합이 나머지 하나의 숫자와 같다.\")\n",
    "if (num2 % num1 == 0 and num3 % num1 == 0) or (num1 % num2 == 0 and num3 % num2 == 0) or (num1 % num3 == 0 and num2 % num3 == 0): print(\"4번 조건 만족 : 3개의 숫자 중 어떤 하나의 수로 다른 두 수를 나누면 나누어 떨어지는 경우가 있다.\")"
   ]
  },
  {
   "cell_type": "markdown",
   "metadata": {},
   "source": [
    "##### 실행 예시 #1\n",
    "첫번쨰 숫자를 입력하세요 : 10<br>\n",
    "두번째 숫자를 입력하세요 : 20<br>\n",
    "세번째 숫자를 입력하세요 : 30<br>\n",
    "3번 조건 만족 : 3개의 숫자 중 어떤 두 수의 합이 나머지 하나의 숫자와 같다.<br>\n",
    "4번 조건 만족 : 3개의 숫자 중 어떤 하나의 수로 다른 두 수를 나누면 나누어 떨어지는 경우가 있다.\n",
    "\n",
    "##### 실행 예시 #2\n",
    "첫번쨰 숫자를 입력하세요 : 10<br>\n",
    "두번째 숫자를 입력하세요 : 10<br>\n",
    "세번째 숫자를 입력하세요 : 20<br>\n",
    "1번 조건 만족 : 3개의 숫자 중 적어도 두 수의 값이 같다.<br>\n",
    "3번 조건 만족 : 3개의 숫자 중 어떤 두 수의 합이 나머지 하나의 숫자와 같다.<br>\n",
    "4번 조건 만족 : 3개의 숫자 중 어떤 하나의 수로 다른 두 수를 나누면 나누어 떨어지는 경우가 있다.\n",
    "\n",
    "##### 실행 예시 #3\n",
    "첫번쨰 숫자를 입력하세요 : 50<br>\n",
    "두번째 숫자를 입력하세요 : 100<br>\n",
    "세번째 숫자를 입력하세요 : 200<br>\n",
    "2번 조건 만족 : 3개의 숫자 중 적어도 두 수의 크기가 모두 50 보다 크다.<br>\n",
    "4번 조건 만족 : 3개의 숫자 중 어떤 하나의 수로 다른 두 수를 나누면 나누어 떨어지는 경우가 있다."
   ]
  },
  {
   "cell_type": "markdown",
   "metadata": {},
   "source": [
    "***"
   ]
  },
  {
   "cell_type": "markdown",
   "metadata": {},
   "source": [
    "#### <a id='B09'>[B09] 비만 판정</a>\n",
    "신장(cm 단위)과 체중(kg 단위)를 입력받은 후, 비만 여부를 판정하여 출력하라. 단, 비만도 수치 = 체중(kg) / (신장(m)의 제곱) 으로 계산하며, 비만여부는 비만도 수치가 25 이상인 경우에 \"비만\"으로 판단한다.  이 때, 신장은 미터 단위로 환산해야 함을 유의하라.\n",
    "\n",
    "변수는 다음과 같이 사용하라.\n",
    "```\n",
    "height, weight # 신장(cm), 체중(kg)\n",
    "bmi # 비만도 수치\n",
    "```"
   ]
  },
  {
   "cell_type": "code",
   "execution_count": null,
   "metadata": {},
   "outputs": [],
   "source": []
  },
  {
   "cell_type": "code",
   "execution_count": null,
   "metadata": {
    "hideCode": true
   },
   "outputs": [],
   "source": [
    "height = eval(input(\"신장 (cm 단위)를 입력하세요 : \")) / 100\n",
    "weight = eval(input(\"체중 (kg 단위)를 입력하세요 : \"))\n",
    "\n",
    "bmi = weight / (height ** 2)\n",
    "print(\"당신은 비만{}.\".format(\"입니다\" if bmi >= 25 else \"이 아니군요\"))"
   ]
  },
  {
   "cell_type": "markdown",
   "metadata": {},
   "source": [
    "##### 실행 예시 #1\n",
    "신장 (cm 단위)를 입력하세요 : 175<br>\n",
    "체중 (kg 단위)를 입력하세요 : 70<br>\n",
    "당신은 비만이 아니군요.\n",
    "\n",
    "##### 실행 예시 #2\n",
    "신장 (cm 단위)를 입력하세요 : 165<br>\n",
    "체중 (kg 단위)를 입력하세요 : 70<br>\n",
    "당신은 비만입니다."
   ]
  }
 ],
 "metadata": {
  "kernelspec": {
   "display_name": "Python 3",
   "language": "python",
   "name": "python3"
  },
  "language_info": {
   "codemirror_mode": {
    "name": "ipython",
    "version": 3
   },
   "file_extension": ".py",
   "mimetype": "text/x-python",
   "name": "python",
   "nbconvert_exporter": "python",
   "pygments_lexer": "ipython3",
   "version": "3.7.3"
  }
 },
 "nbformat": 4,
 "nbformat_minor": 2
}
