{
 "cells": [
  {
   "cell_type": "markdown",
   "metadata": {},
   "source": [
    "# 영역 2 : 프로그래밍 제어구조 응용\n",
    "영역 2에서는 영역 1에서 습득한 프로그래밍의 기본 제어구조를 응용하는 방법을 연습한다. 먼저 2단계 이상이 중복된 복합 반복문을 사용하는 방법과 묶음자료 형식인 리스트를 다루는 방법을 연습한다. 또한 그동안 연습한 조건문과 반복문이 다양하게 적용되는 응용 예제들을 해결하는 연습을 하게 된다. 마지막으로 영역 3으로 진행하기 위한 준비단계로서 파이썬에서 제공하는 주요 함수들을 사용하는 연습을 하게 된다.\n",
    "\n",
    "영역 2는 다음과 같이 5개의 단계로 구성된다.\n",
    "\n",
    "- [[Step E] : 복합 반복문 사용하기](Python_StepE.ipynb#Intro)\n",
    "- [[Step F] : 리스트 사용하기](Python_StepF.ipynb#Intro)\n",
    "- [[Step G] : 조건과 반복을 활용하는 응용 예제 해결하기](Python_StepG.ipynb#Intro)\n",
    "- [[Step H] : 파이썬의 주요 함수 사용하기](#Intro)\n",
    "- [[Step H]' : 딕셔너리 사용하기](#Intro2)"
   ]
  },
  {
   "cell_type": "markdown",
   "metadata": {},
   "source": [
    "***"
   ]
  },
  {
   "cell_type": "markdown",
   "metadata": {},
   "source": [
    "## <a id='Intro'>[Step H] 함수</a>"
   ]
  },
  {
   "cell_type": "markdown",
   "metadata": {},
   "source": [
    "대부분의 프로그램 언어와 같이 파이썬은 다양한 기능의 함수를 제공하고 있다. 프로그램 어느 곳에서나 사용할 수 있는 함수들도 있고, 특정 형식의 변수에 대해서 사용되는 함수들도 있다. 이번 단계에서는 특정 형식의 변수에서 자주 사용되는 파이썬 함수들을 연습해보자. 함수를 사용하는 방\n",
    "법은 변수 뒤에 점(.)을 쓰고 함수의 이름을 넣어주면 된다. 예를 들어 문자열에서 공백을 기준으로 단어들을 나누어 리스트로 만드는 `split()`함수는 다음과 같이 사용한다."
   ]
  },
  {
   "cell_type": "code",
   "execution_count": null,
   "metadata": {},
   "outputs": [],
   "source": [
    "str1 = \"one two three\"\n",
    "list1 = str1.split()\n",
    "for item in list1 : print(item)"
   ]
  },
  {
   "cell_type": "markdown",
   "metadata": {},
   "source": [
    "먼저 문자열 형식의 변수에서 사용되는 주요 함수들을 살펴보도록 하자.\n",
    "\n",
    "| 함수 | 설명 |\n",
    "| --- | --- |\n",
    "| capitalize() | 문자열의 첫 문자만 대문자로 변경된 문자열을 리턴한다. |\n",
    "| count(sub) | 문자열 내에 `sub` 문자열의 포함 개수를 리턴한다. |\n",
    "| find(sub) | 문자열 내에 `sub` 문자열이 나타나는 위치를 리턴한다. 없으면 –1 리턴 |\n",
    "| index(sub) | 문자열 내에 `sub` 문자열이 나타나는 위치를 리턴한다. 없으면 에러 발생 |\n",
    "| isalnum() | 문자열이 알파벳과 숫자로만 되어있으면 `True`를 리턴한다. |\n",
    "| isalpha() | 문자열이 알파벳으로만 되어있으면 `True`를 리턴한다. |\n",
    "| isdigit() | 문자열이 숫자로만 되어있으면 `True`를 리턴한다. |\n",
    "| islower() | 문자열이 모두 소문자로만 되어있으면 `True`를 리턴한다. |\n",
    "| isupper() | 문자열이 모두 대문자로만 되어있으면 `True`를 리턴한다. |\n",
    "| lstrip() | 문자열의 왼쪽 부분에 나타나는 공백문자를 제거한 문자열을 리턴한다. |\n",
    "| rstrip() | 문자열의 오른쪽 부분에 나타나는 공백문자를 제거한 문자열을 리턴한다. |\n",
    "| strip() | 문자열의 좌우에 나타나는 공백문자를 제거한 문자열을 리턴한다. |\n",
    "| lower() | 문자열을 모두 소문자로 변경한 문자열을 리턴한다. |\n",
    "| upper() | 문자열을 모두 대문자로 변경한 문자열을 리턴한다. |\n",
    "| replace(old, new) | 문자열 내에서 `old` 문자열을 모두 `new` 문자열로 변경한 문자열을 리턴한다. |\n",
    "| split(sep) | 문자열을 `sep` 문자열을 기준으로 나눈 다음 나눠지 문자열들로 이뤄진 리스트를 리턴한다. (`sep`이 생략되면 공백을 기준으로 함) |\n",
    "| startswith(sub) | 문자열이 sub문자열로 시작되면 True를 리턴한다. |\n",
    "\n",
    "그러면 간단한 예제를 통해 사용방법을 연습하기로 하자. 영문으로 된 두 개의 문자열을 입력받은 후, 대소문자를 구분하지 않고 이 문자열이 동일한지를 알아보자."
   ]
  },
  {
   "cell_type": "code",
   "execution_count": null,
   "metadata": {},
   "outputs": [],
   "source": [
    "str1 = input(\"첫 번째 문자열은? \")\n",
    "str2 = input(\"두 번째 문자열은? \")\n",
    "if str1.lower() == str2.lower() :\n",
    "    print(\"같습니다.\")\n",
    "else :\n",
    "    print(\"같지 않습니다.\")"
   ]
  },
  {
   "cell_type": "markdown",
   "metadata": {},
   "source": [
    "이번에는 리스트 형식의 변수에서 사용할 수 있는 주요 함수들을 살펴보기로 하자.\n",
    "\n",
    "| 함수 | 설명 |\n",
    "| --- | --- |\n",
    "| append(item) | 리스트에 마지막 요소로 `item`을 추가한다. |\n",
    "| count(item) | 리스트 내에 `item`이라는 요소가 포함된 개수를 리턴한다. |\n",
    "| insert(index, item) | 리스트의 `index` 위치에 `item`이라는 요소를 추가한다. |\n",
    "| index(item) | 리스트 내에 `item`이라는 요소가 나타나는 위치를 리턴한다. 없으면 에러 발생 |\n",
    "| pop() | 리스트의 마지막 요소를 리턴하고 삭제한다. |\n",
    "| remove(item) | 리스트 내에 `item`이라는 값을 가진 요소를 제거한다. |\n",
    "| reverse() | 리스트의 모든 요소를 역순으로 재배치한다. |\n",
    "| sort() | 리스트의 모든 요소를 정렬한다. |"
   ]
  },
  {
   "cell_type": "markdown",
   "metadata": {},
   "source": [
    "***"
   ]
  },
  {
   "cell_type": "markdown",
   "metadata": {},
   "source": [
    "이번에는 외부의 모듈을 가져다가 필요한 함수를 사용하는 방법을 설명한다. 수학관련 계산을 처리해주는 함수들을 사용하려면 프로그램 소스의 처음에 다음과 같은 구문을 넣어주어야 한다.\n",
    "\n",
    "```\n",
    "from math import *\n",
    "```\n",
    "\n",
    "`math` 모듈을 가지고 오면 다음과 같은 함수들을 사용할 수 있다.\n",
    "\n",
    "| 함수 | 설명 |\n",
    "| --- | --- |\n",
    "| cos(x), sin(x), tan(x) | `x`에 대한 코사인, 사인, 탄젠트 값을 리턴한다. |\n",
    "| ceil(x) | 실수 `x`의 천정값, 즉 `x`보다 작지 않은 최소 정수를 리턴한다. |\n",
    "| fabs(x) | 실수 `x`의 절대값을 리턴한다. |\n",
    "| floor(x) | 실수 `x`의 바닥값, 즉 x보다 크지 않은 최대 정수를 리턴한다. |\n",
    "| pow(x, y) | `x`의 `y`제곱값을 리턴한다. `x**y`와 동일하다. |\n",
    "| sqrt(x) | 실수 `x`의 제곱근을 리턴한다. |\n",
    "| pi | 원주율 값을 가지고 있는 상수이다. |\n",
    "\n",
    "그러면 간단한 예제를 통해 사용방법을 연습하기로 하자. 1부터 20까지의 숫자들의 제곱근 값을 구하는 구문을 작성해보면 다음과 같다."
   ]
  },
  {
   "cell_type": "code",
   "execution_count": null,
   "metadata": {},
   "outputs": [],
   "source": [
    "from math import *\n",
    "for i in range(1,21) :\n",
    "    print(\"%d의 제곱근은 %.3f입니다.\"%(i, sqrt(i)))"
   ]
  },
  {
   "cell_type": "markdown",
   "metadata": {},
   "source": [
    "이번에는 절대값을 구하는 함수인 `fabs()`를 사용해 보자. 10개의 숫자를 입력받은 후에 이 숫자들 중에 절대값이 가장 큰 숫자를 찾아서 출력하는 프로그램을 만들려면 어떻게 하면 될까? 먼저 10개짜리 실수형 숫자의 배열을 만든 다음에 반복문을 10번 돌려가면서 숫자를 하나씩 입력받으면서\n",
    "배열에 저장한다. 그런 다음에 [Step D]에서 연습한 최댓값 구하는 해결방법을 이용하되 숫자들을 비교하기 전에 절댓값으로 바꾼 값을 비교하도록 하면 된다."
   ]
  },
  {
   "cell_type": "code",
   "execution_count": null,
   "metadata": {},
   "outputs": [],
   "source": [
    "# -*- coding: utf-8 -*-\n",
    "# 예제 ex_H.py\n",
    "from math import *\n",
    "number = []\n",
    "for i in range(10) :\n",
    "    newnum = eval(input(\"%d번째 숫자를 입력하시오 \"%(i+1)))\n",
    "    number.append(newnum)\n",
    "\n",
    "max_index = 0 # 우선 첫번째 숫자를 가장 큰 수로 정한다.\n",
    "for i in range(1,10) : # 두 번째 숫자부터 열 번째 숫자까지 반복해가면서\n",
    "    if fabs(number[i]) > fabs(number[max_index]) : # 절대값을 서로 비교\n",
    "        max_index = i # max_index를 절대값이 큰 수의 인덱스로 변경.\n",
    "        \n",
    "print(\"10개의 숫자 중에서 절대값이 가장 큰 수는 %.1f입니다.\"%(number[max_index]))"
   ]
  },
  {
   "cell_type": "markdown",
   "metadata": {},
   "source": [
    "***"
   ]
  },
  {
   "cell_type": "markdown",
   "metadata": {},
   "source": [
    "다음은 임의의 숫자를 만들어 사용하는 랜덤 함수를 사용해보자. 랜덤 함수는 숫자를 정해주면 그 숫자만큼의 임의의 수를 자동으로 만들어 리턴하는 것이다. 이 함수들을 사용할 때에는 반드시 다음과 같이 모듈을 가져오도록 정의해야 한다.\n",
    "\n",
    "```\n",
    "from random import *\n",
    "```\n",
    "\n",
    "여기에서 사용되는 주요 함수는 `randint()`와 `random()`이다. 예를 들어 `randint(1,100)`을 호출하면 1에서 100사이의 숫자 100개 중에서 임의의 숫자를 리턴하게 된다. `random()` 함수는 0과 1사이의 임의의 실수값을 만들어 리턴한다. 그러면 간단한 예제를 통해 사용방법을 연습하기로 하자. 로또 복권은 1부터 45까지의 숫자 6개를 맞추는 것인데, 이 6개의 번호를 임의로 만들어보는 프로그램을 작성하려면 어떻게 할까?\n",
    "\n",
    "1부터 45까지의 숫자를 임의로 만들기 위해서는 `randint(1,45)`를 사용하면 된다. 작성된 프로그램은 다음과 같다."
   ]
  },
  {
   "cell_type": "code",
   "execution_count": null,
   "metadata": {},
   "outputs": [],
   "source": [
    "from random import *\n",
    "for i in range(6) :\n",
    "    print(\"%d번째 숫자는 : %d\"%(i+1,randint(1,45)))"
   ]
  },
  {
   "cell_type": "markdown",
   "metadata": {},
   "source": [
    "물론 위 프로그램에서는 1부터 45 사이의 임의의 숫자를 6개 만들어내기 때문에 아래 화면처럼 6개의 숫자들 간에 겹치는 숫자가 나올 가능성이 있다. 절대로 겹치지 않게 만드는 방법은 실습문제를 통해 각자 해결해보도록 하라."
   ]
  },
  {
   "cell_type": "markdown",
   "metadata": {},
   "source": [
    "***\n",
    "***"
   ]
  },
  {
   "cell_type": "markdown",
   "metadata": {},
   "source": [
    "### ○ 실습 문제"
   ]
  },
  {
   "cell_type": "markdown",
   "metadata": {
    "hideCode": false
   },
   "source": [
    "#### <a id='H01'>[H01] 숫자 알아 맞추기</a>\n",
    "1부터 100 사이의 임의의 숫자를 만든 후에 사용자로 하여금 이 숫자를 맞추도록 하라. 사용자가 제시한 숫자보다 큰 수인지 작은 수인지를 알려주면서 몇 번 만에 맞추었는지 출력하라.\n",
    "\n",
    "변수는 다음과 같이 사용하라.\n",
    "\n",
    "```\n",
    "answer # 컴퓨터가 만들어 낸 1부터 100사이의 임의의 숫자\n",
    "number_try # 사용자가 제시한 숫자\n",
    "count # 사용자가 맞추려고 시도한 횟수\n",
    "```"
   ]
  },
  {
   "cell_type": "code",
   "execution_count": null,
   "metadata": {},
   "outputs": [],
   "source": []
  },
  {
   "cell_type": "code",
   "execution_count": null,
   "metadata": {
    "hideCode": true
   },
   "outputs": [],
   "source": [
    "from random import randint\n",
    "ct = 0\n",
    "answer = randint(1, 100)\n",
    "number_try = 0\n",
    "while answer != number_try:\n",
    "    ct+=1\n",
    "    try:\n",
    "        number_try = int(input(\"1부터 100까지의 숫자 하나를 맞춰보세요 \"))\n",
    "    except ValueError:\n",
    "        print(\"숫자 입력\")\n",
    "        continue\n",
    "    if number_try < answer:\n",
    "        print('좀 더 큰 숫자')\n",
    "    elif number_try > answer:\n",
    "        print('더 작은 숫자')\n",
    "\n",
    "print(ct, '번만에 숫자를 맞춤')  \n",
    "        "
   ]
  },
  {
   "cell_type": "markdown",
   "metadata": {},
   "source": [
    "##### 실행 예시 (이 예시에선 55를 맞춰야 하는 상황)\n",
    "1부터 100까지의 숫자 하나를 맞춰보세요 50<br>\n",
    "좀 더 큰 숫자<br>\n",
    "1부터 100까지의 숫자 하나를 맞춰보세요 100<br>\n",
    "더 작은 숫자<br>\n",
    "1부터 100까지의 숫자 하나를 맞춰보세요 75<br>\n",
    "더 작은 숫자<br>\n",
    "1부터 100까지의 숫자 하나를 맞춰보세요 63<br>\n",
    "더 작은 숫자<br>\n",
    "1부터 100까지의 숫자 하나를 맞춰보세요 57<br>\n",
    "더 작은 숫자<br>\n",
    "1부터 100까지의 숫자 하나를 맞춰보세요 53<br>\n",
    "좀 더 큰 숫자<br>\n",
    "1부터 100까지의 숫자 하나를 맞춰보세요 55<br>\n",
    "7 번만에 숫자를 맞춤"
   ]
  },
  {
   "cell_type": "markdown",
   "metadata": {},
   "source": [
    "***"
   ]
  },
  {
   "cell_type": "markdown",
   "metadata": {},
   "source": [
    "#### <a id='H02'>[H02] 로또 번호 만들기</a>\n",
    "1부터 45사이의 임의의 숫자를 6개 만들어 로또 번호를 완성하라. 단, 6개의 번호 중에 중복되는 번호가 없도록 해야 한다. 출력한 후에 사용자에게 \"더 만드시겠습니까? (Y/N) \"를 물어보고 N을 입력할 때까지 계속해서 반복하라.\n",
    "\n",
    "변수는 다음과 같이 사용하라.\n",
    "\n",
    "```\n",
    "lotto = [] # 컴퓨터가 만들어 낸 로또 번호 리스트\n",
    "count # 현재 만들어지고 있는 로또 번호의 순서(0, 1, 2, 3, 4, 5)\n",
    "onemore # 반복여부를 입력하는 문자 (Y/N)\n",
    "i # 반복문을 위한 변수\n",
    "```"
   ]
  },
  {
   "cell_type": "code",
   "execution_count": null,
   "metadata": {},
   "outputs": [],
   "source": []
  },
  {
   "cell_type": "code",
   "execution_count": null,
   "metadata": {
    "hideCode": true
   },
   "outputs": [],
   "source": [
    "from random import *\n",
    "onemore = 'Y'\n",
    "while onemore == 'Y':\n",
    "    lotto = set()\n",
    "    while len(lotto) != 6:\n",
    "        lotto.add(randint(1, 45))\n",
    "    lotto = list(lotto)\n",
    "    print(\"생성된 로또 번호 :\", lotto)\n",
    "    onemore = input(\"더 만드시겠습니까? \")"
   ]
  },
  {
   "cell_type": "markdown",
   "metadata": {},
   "source": [
    "##### 실행 예시\n",
    "생성된 로또 번호 : [38, 43, 45, 14, 21, 23]<br>\n",
    "더 만드시겠습니까? Y<br>\n",
    "생성된 로또 번호 : [5, 8, 45, 21, 22, 25]<br>\n",
    "더 만드시겠습니까? Y<br>\n",
    "생성된 로또 번호 : [32, 37, 6, 7, 5, 17]<br>\n",
    "더 만드시겠습니까? Y<br>\n",
    "생성된 로또 번호 : [6, 9, 42, 11, 14, 21]<br>\n",
    "더 만드시겠습니까? Y<br>\n",
    "생성된 로또 번호 : [32, 40, 41, 21, 26, 30]<br>\n",
    "더 만드시겠습니까? Y<br>\n",
    "생성된 로또 번호 : [34, 7, 43, 11, 22, 26]<br>\n",
    "더 만드시겠습니까? N"
   ]
  },
  {
   "cell_type": "markdown",
   "metadata": {},
   "source": [
    "***"
   ]
  },
  {
   "cell_type": "markdown",
   "metadata": {},
   "source": [
    "#### <a id='H03'>[H03] 로또 번호 당첨 확인하기</a>\n",
    "사용자에게 1부터 45사이의 임의의 숫자를 6개 입력받은 후에, 프로그램에서 만든 임의의 로또 번호와 대조하여 몇 개의 숫자가 일치하는 지 출력하라. 단, 사용자가 입력한 6개의 번호 중에 중복되는 번호가 없도록 입력받아야 하며, 프로그램에서 만든 임의의 로또 번호에서도 중복되는 번호가 없도록 해야 한다.\n",
    "\n",
    "변수는 다음과 같이 사용하라.\n",
    "\n",
    "```\n",
    "lotto_com = [] # 컴퓨터가 만들어 낸 로또 번호 리스트\n",
    "lotto_user =[] # 사용자가 입력한 로또 번호 리스트\n",
    "i # 반복문을 위한 변수\n",
    "count # 현재 만들어지고 있는 로또 번호의 순서(0, 1, 2, 3, 4, 5)\n",
    "match_count # 일치하는 로또 번호의 갯수 (0~6)\n",
    "```"
   ]
  },
  {
   "cell_type": "code",
   "execution_count": null,
   "metadata": {},
   "outputs": [],
   "source": []
  },
  {
   "cell_type": "code",
   "execution_count": null,
   "metadata": {
    "hideCode": true
   },
   "outputs": [],
   "source": [
    "from random import *\n",
    "lotto = set()\n",
    "while len(lotto) != 6:\n",
    "    lotto.add(randint(1, 45))\n",
    "lotto = list(lotto)\n",
    "lotto_user = []\n",
    "i = 0\n",
    "while len(lotto_user) != 6:\n",
    "    try:\n",
    "        tmp = int(input(\"원하는 \"+ repr(i+1)+ \"번째 로또 입력 : \"))\n",
    "    except ValueError:\n",
    "        print(\"숫자 입력\")\n",
    "        continue\n",
    "    if tmp in lotto_user:\n",
    "        print(\"잘못 입력\")\n",
    "        continue\n",
    "    lotto_user.append(tmp)\n",
    "    i+=1\n",
    "print(\"로또 당첨 번호:\", lotto)\n",
    "match_count = 0\n",
    "for i in lotto_user:\n",
    "    if i in lotto:\n",
    "        match_count+=1\n",
    "print(\"일치하는 로또 번호:\", match_count)"
   ]
  },
  {
   "cell_type": "markdown",
   "metadata": {},
   "source": [
    "##### 실행 예시\n",
    "원하는 1번째 로또 입력 : 10<br>\n",
    "원하는 2번째 로또 입력 : 10<br>\n",
    "잘못 입력<br>\n",
    "원하는 2번째 로또 입력 : 22<br>\n",
    "원하는 3번째 로또 입력 : 35<br>\n",
    "원하는 4번째 로또 입력 : 77<br>\n",
    "원하는 5번째 로또 입력 : 41<br>\n",
    "원하는 6번째 로또 입력 : 29<br>\n",
    "로또 당첨 번호: [2, 37, 6, 15, 19, 26]<br>\n",
    "일치하는 로또 번호: 0"
   ]
  },
  {
   "cell_type": "markdown",
   "metadata": {},
   "source": [
    "***"
   ]
  },
  {
   "cell_type": "markdown",
   "metadata": {},
   "source": [
    "#### <a id='H04'>[H04] 가위바위보 게임하기</a>\n",
    "다음과 같이 사용자와 컴퓨터가 가위바위보를 하는 프로그램을 만들어라.\n",
    "1. 랜덤으로 가위(1), 바위(2), 보(3) 셋 중에 하나를 만든다.\n",
    "2. 사용자에게 가위(1), 바위(2), 보(3) 중에 하나를 숫자로 입력받는다.\n",
    "3. 사용자가 입력한 것과 컴퓨터가 만들어 낸 것을 비교하여\n",
    "    - 컴퓨터가 이기면, \"컴퓨터 승!\"\n",
    "    - 사용자가 이기면, \"사용자 승!\"\n",
    "    - 비기면, \"비김~\" 으로 출력한다.\n",
    "4. 사용자가 0을 입력할 때까지 위 1부터 3을 계속 반복하다가, 끝나면 그동안 컴퓨터와 사용자가 이긴 횟수와 진 횟수, 비긴 횟수를 출력하라.\n",
    "\n",
    "변수는 다음과 같이 사용하라.\n",
    "\n",
    "```\n",
    "com_finger # 컴퓨터가 낸 가위(1), 바위(2), 보(3)\n",
    "my_finger # 사용자가 낸 가위(1), 바위(2), 보(3)\n",
    "score = [] # 결과 횟수 리스트 [[컴퓨터의 승, 무, 패], [사용자의 승, 무, 패]]\n",
    "i, j # 반복문을 위한 변수\n",
    "```"
   ]
  },
  {
   "cell_type": "code",
   "execution_count": null,
   "metadata": {},
   "outputs": [],
   "source": []
  },
  {
   "cell_type": "code",
   "execution_count": null,
   "metadata": {
    "hideCode": true
   },
   "outputs": [],
   "source": [
    "from random import *\n",
    "subs = lambda f: '가위' if f == 1 else ('바위' if f == 2 else '보')\n",
    "def rst(player, computer):\n",
    "    if player == computer:\n",
    "        return '비김'\n",
    "    elif player == 2:\n",
    "        if computer == 3:\n",
    "            return \"컴퓨터 승\"\n",
    "        else:\n",
    "            return \"사용자 승\"\n",
    "    elif player == 3:\n",
    "        if computer == 1:\n",
    "            return \"컴퓨터 승\"\n",
    "        else:\n",
    "            return \"사용자 승\"\n",
    "    elif player == 1:\n",
    "        if computer == 2:\n",
    "            return \"컴퓨터 승\"\n",
    "        else:\n",
    "            return \"사용자 승\"\n",
    "    \n",
    "my_finger = -1\n",
    "stats = [[0, 0, 0], [0, 0, 0]]\n",
    "while my_finger != 0:\n",
    "    try:\n",
    "        my_finger = int(input(\"가위(1), 바위(2), 보(3)를 입력 \"))\n",
    "    except ValueError:\n",
    "        print(\"숫자 입력\")\n",
    "        continue\n",
    "    if my_finger == 0: continue\n",
    "    elif my_finger not in [1, 2, 3]:\n",
    "        print(\"1 ~ 3 입력\")\n",
    "        continue\n",
    "    com_finger = randint(1, 3)\n",
    "    \n",
    "    result = rst(my_finger, com_finger)\n",
    "    print(\"컴퓨터가 낸 것은\", subs(com_finger), '--->', rst(my_finger, com_finger))\n",
    "    \n",
    "    if result == \"컴퓨터 승\" : stats[0][0], stats[1][1] = stats[0][0] + 1, stats[1][1] + 1\n",
    "    elif result == \"사용자 승\" : stats[0][1], stats[1][0] = stats[0][1] + 1, stats[1][0] + 1\n",
    "    else: stats[0][2], stats[1][2] = stats[0][2] + 1, stats[1][2] + 1\n",
    "\n",
    "print(\"컴퓨터 : 이긴 횟수는 {}회, 진 횟수 {}회, 비긴 횟수는 {}회 입니다.\".format(stats[0][0], stats[0][1], stats[0][2]))\n",
    "print(\"사용자 : 이긴 횟수는 {}회, 진 횟수 {}회, 비긴 횟수는 {}회 입니다.\".format(stats[1][0], stats[1][1], stats[1][2]))\n",
    "    "
   ]
  },
  {
   "cell_type": "markdown",
   "metadata": {},
   "source": [
    "##### 실행 예시\n",
    "가위(1), 바위(2), 보(3)를 입력 1<br>\n",
    "컴퓨터가 낸 것은 보 ---> 사용자 승<br>\n",
    "가위(1), 바위(2), 보(3)를 입력 2<br>\n",
    "컴퓨터가 낸 것은 바위 ---> 비김<br>\n",
    "가위(1), 바위(2), 보(3)를 입력 3<br>\n",
    "컴퓨터가 낸 것은 보 ---> 비김<br>\n",
    "가위(1), 바위(2), 보(3)를 입력 3<br>\n",
    "컴퓨터가 낸 것은 바위 ---> 사용자 승<br>\n",
    "가위(1), 바위(2), 보(3)를 입력 2<br>\n",
    "컴퓨터가 낸 것은 바위 ---> 비김<br>\n",
    "가위(1), 바위(2), 보(3)를 입력 1<br>\n",
    "컴퓨터가 낸 것은 바위 ---> 컴퓨터 승<br>\n",
    "가위(1), 바위(2), 보(3)를 입력 1<br>\n",
    "컴퓨터가 낸 것은 보 ---> 사용자 승<br>\n",
    "가위(1), 바위(2), 보(3)를 입력 1<br>\n",
    "컴퓨터가 낸 것은 가위 ---> 비김<br>\n",
    "가위(1), 바위(2), 보(3)를 입력 0<br>\n",
    "컴퓨터 : 이긴 횟수는 1회, 진 횟수 3회, 비긴 횟수는 4회 입니다.<br>\n",
    "사용자 : 이긴 횟수는 3회, 진 횟수 1회, 비긴 횟수는 4회 입니다."
   ]
  },
  {
   "cell_type": "markdown",
   "metadata": {},
   "source": [
    "***"
   ]
  },
  {
   "cell_type": "markdown",
   "metadata": {},
   "source": [
    "#### <a id='H05'>[H05] 슬롯머신 만들기</a>\n",
    "간단한 슬롯 머신을 만들어라. 사용자에게 코인의 개수를 숫자로 입력받은 다음에, 1부터 9까지의 숫자 3개를 랜덤으로 만들어 3개의 숫자가 같으면 상금으로 코인 4개, 2개의 숫자가 같으면 코인 2개를 더해준다. 한 번 할 때마다 코인을 1개 씩 소모하게 되고, 사용자의 코인이 모두 소모될 때까지 게임을 반복시켜라.\n",
    "\n",
    "변수는 다음과 같이 사용하라.\n",
    "\n",
    "```\n",
    "coins # 사용자의 코인 수. (최초에 입력받음)\n",
    "number = [] # 랜덤하게 만들어진 슬롯 머신의 숫자 3개의 리스트\n",
    "dummy # 게임스타트를 위한 의미 없는 입력 숫자\n",
    "i # 반복문을 위한 변수\n",
    "```"
   ]
  },
  {
   "cell_type": "code",
   "execution_count": null,
   "metadata": {},
   "outputs": [],
   "source": []
  },
  {
   "cell_type": "code",
   "execution_count": null,
   "metadata": {
    "hideCode": true
   },
   "outputs": [],
   "source": [
    "from random import *\n",
    "try:\n",
    "    coins = int(input(\"코인 개수입력 : \"))\n",
    "except ValueError:\n",
    "    print(\"에러\")\n",
    "    exit(0)\n",
    "i=0\n",
    "while coins != 0:\n",
    "    try:\n",
    "        uin = input('게임 '+repr(1+i)+'회 숫자입력 : ').split()\n",
    "    except ValueError:\n",
    "        continue\n",
    "    num = list()\n",
    "    while len(num) != 3:\n",
    "        num.append(randint(1,9))\n",
    "    ct = 0\n",
    "    for u in num: ct = max(ct, num.count(u))\n",
    "        \n",
    "    print('게임 결과 ', num)\n",
    "    if ct==3:\n",
    "        print('숫자 3개 일치 코인 4개 증정')\n",
    "        coins+=4\n",
    "    elif ct == 2:\n",
    "        print('숫자 2개 일치 코인 2개 증정')\n",
    "        coins+=2\n",
    "         \n",
    "    coins -= 1\n",
    "    print(\"남아 있는 코인 개수 : {}개\".format(coins))\n",
    "\n",
    "print(\"\\n게임 종료\")"
   ]
  },
  {
   "cell_type": "markdown",
   "metadata": {},
   "source": [
    "##### 실행 예시\n",
    "코인 개수입력 : 5<br>\n",
    "게임 1회 숫자입력 : 1<br>\n",
    "게임 결과  [1, 5, 7]<br>\n",
    "남아 있는 코인 개수 : 4개<br>\n",
    "게임 1회 숫자입력 : 1<br>\n",
    "게임 결과  [7, 5, 3]<br>\n",
    "남아 있는 코인 개수 : 3개<br>\n",
    "게임 1회 숫자입력 : 1<br>\n",
    "게임 결과  [7, 8, 7]<br>\n",
    "숫자 2개 일치 코인 2개 증정<br>\n",
    "남아 있는 코인 개수 : 4개<br>\n",
    "게임 1회 숫자입력 : 1<br>\n",
    "게임 결과  [8, 3, 1]<br>\n",
    "남아 있는 코인 개수 : 3개<br>\n",
    "게임 1회 숫자입력 : 1<br>\n",
    "게임 결과  [1, 6, 7]<br>\n",
    "남아 있는 코인 개수 : 2개<br>\n",
    "게임 1회 숫자입력 : 1<br>\n",
    "게임 결과  [5, 5, 7]<br>\n",
    "숫자 2개 일치 코인 2개 증정<br>\n",
    "남아 있는 코인 개수 : 3개<br>\n",
    "게임 1회 숫자입력 : 1<br>\n",
    "게임 결과  [4, 3, 6]<br>\n",
    "남아 있는 코인 개수 : 2개<br>\n",
    "게임 1회 숫자입력 : 1<br>\n",
    "게임 결과  [7, 3, 6]<br>\n",
    "남아 있는 코인 개수 : 1개<br>\n",
    "게임 1회 숫자입력 : 1<br>\n",
    "게임 결과  [8, 2, 4]<br>\n",
    "남아 있는 코인 개수 : 0개\n",
    "\n",
    "게임 종료"
   ]
  },
  {
   "cell_type": "markdown",
   "metadata": {},
   "source": [
    "***"
   ]
  },
  {
   "cell_type": "markdown",
   "metadata": {},
   "source": [
    "#### <a id='H06'>[H06] 5개 숫자의 제곱수 조합 구하기</a>\n",
    "2에서 9사이의 숫자 5개를 입력받아 배열에 저장한 후, 이 5개의 숫자들 중 임의의 2개의 숫자 a와 b를 선택하여 $a^b$의 값을 계산하여 이 중에서 가장 큰 수와 가장 작은 수를 만들 수 있는 경우를 찾아내라. 계산할 때에는 함수 `pow()`를 사용하라. 예를 들어 2, 3, 4, 5, 6을 입력한 경우에는 가장 작은 수는 $2^3$이고, 가장 큰 수는 $5^6$이 된다.\n",
    "\n",
    "변수는 다음과 같이 사용하라.\n",
    "\n",
    "```\n",
    "number = [] # 입력받은 5개의 숫자 리스트\n",
    "pow_value = [] # 임의의 두 수 a, b로 만들 수 있는 ab의 값 들, 5 * 5 리스트\n",
    "max, min # 최댓값과 최솟값\n",
    "max_a, max_b # 최댓값을 만들어 내는 경우의 a와 b의 값\n",
    "min_a, min_b # 최솟값을 만들어 내는 경우의 a와 b의 값\n",
    "i, j # 반복문을 위한 변수\n",
    "```"
   ]
  },
  {
   "cell_type": "code",
   "execution_count": null,
   "metadata": {},
   "outputs": [],
   "source": []
  },
  {
   "cell_type": "code",
   "execution_count": null,
   "metadata": {
    "hideCode": true
   },
   "outputs": [],
   "source": [
    "from itertools import permutations\n",
    "number = map(int, input('2에서 9사이 5개 입력 : ').split())\n",
    "min = float('inf')\n",
    "max = float('-inf')\n",
    "for i, v in enumerate(permutations(number, 2)):\n",
    "    p = pow(v[0], v[1])\n",
    "    if max < p:\n",
    "        max = p\n",
    "        max_a = v[0]\n",
    "        max_b = v[1]\n",
    "    if min > p:\n",
    "        min = p\n",
    "        min_a = v[0]\n",
    "        min_b = v[1]\n",
    "print('입력하신 5개로 제곱수를 만들면')\n",
    "print('가장 큰 수 :', max_a, '의', max_b, '승인', max)\n",
    "print('가장 작은 수 :', min_a, '의', min_b, '승인', min)"
   ]
  },
  {
   "cell_type": "markdown",
   "metadata": {},
   "source": [
    "##### 실행 예시 #1\n",
    "2에서 9사이 5개 입력 : 2 3 4 5 6<br>\n",
    "입력하신 5개로 제곱수를 만들면<br>\n",
    "가장 큰 수 : 5 의 6 승인 15625<br>\n",
    "가장 작은 수 : 2 의 3 승인 8\n",
    "\n",
    "##### 실행 예시 #2\n",
    "2에서 9사이 5개 입력 : 5 6 7 8 9<br>\n",
    "입력하신 5개로 제곱수를 만들면<br>\n",
    "가장 큰 수 : 8 의 9 승인 134217728<br>\n",
    "가장 작은 수 : 6 의 5 승인 7776"
   ]
  },
  {
   "cell_type": "markdown",
   "metadata": {},
   "source": [
    "***"
   ]
  },
  {
   "cell_type": "markdown",
   "metadata": {},
   "source": [
    "#### <a id='H07'>[H07] 표준편차 구하기</a>\n",
    "1에서 100사이의 숫자 10개를 입력받아 배열에 저장한 후, 반복문을 사용하여 이 숫자들의 총합계와 평균을 구한 후, 표준편차를 구하라. 표준편차를 계산할 때에는 함수 `sqrt()`와 `pow()`를 사용하라. 표준편차는 각 숫자와 평균과의 차이 값을 제곱한 수 10개를 구한 후, 이들 평균값의 제곱근을 계산한 것이다.\n",
    "\n",
    "변수는 다음과 같이 사용하라.\n",
    "```\n",
    "number = [] # 입력받은 10개의 숫자 리스트\n",
    "total # 총 합계\n",
    "average # 평균\n",
    "bunsan = [] # 10개 숫자의 분산 값 (각각 (숫자-평균)의 제곱) 리스트\n",
    "total_bunsan # 분산의 총합\n",
    "average_bunsan # 분산의 평균\n",
    "std_dev # 표준편차 (분산 평균의 제곱근)\n",
    "i # 반복문을 위한 변수\n",
    "```"
   ]
  },
  {
   "cell_type": "code",
   "execution_count": null,
   "metadata": {},
   "outputs": [],
   "source": []
  },
  {
   "cell_type": "code",
   "execution_count": null,
   "metadata": {
    "hideCode": true
   },
   "outputs": [],
   "source": [
    "import statistics as st\n",
    "from math import sqrt\n",
    "num = list(map(int, input('1에서 100사이의 숫자 10개 입력 : ').split()))\n",
    "average = st.mean(num)\n",
    "print('입력하신 숫자의 총합', sum(num), '평균 ', average)\n",
    "print('분산은 다음과 같음')\n",
    "bunsan = []\n",
    "for n in num:\n",
    "    bunsan.append(round(pow(average-n, 2), 1))\n",
    "print(bunsan)\n",
    "avg_bunsan = st.mean(bunsan)\n",
    "std_dev = sqrt(avg_bunsan)\n",
    "print('분산의 평균', avg_bunsan, '표준편차 ', std_dev)"
   ]
  },
  {
   "cell_type": "markdown",
   "metadata": {},
   "source": [
    "##### 실행 예시 #1\n",
    "1에서 100사이의 숫자 10개 입력 : 85 96 54 75 79 69 80 70 62 94<br>\n",
    "입력하신 숫자의 총합 764 평균  76.4<br>\n",
    "분산은 다음과 같음<br>\n",
    "[74.0, 384.2, 501.8, 2.0, 6.8, 54.8, 13.0, 41.0, 207.4, 309.8]<br>\n",
    "분산의 평균 159.48 표준편차  12.628539107909512\n",
    "\n",
    "##### 실행 예시 #2\n",
    "1에서 100사이의 숫자 10개 입력 : 87 86 85 84 82 80 89 88 81 85<br>\n",
    "입력하신 숫자의 총합 847 평균  84.7<br>\n",
    "분산은 다음과 같음<br>\n",
    "[5.3, 1.7, 0.1, 0.5, 7.3, 22.1, 18.5, 10.9, 13.7, 0.1]<br>\n",
    "분산의 평균 8.02 표준편차  2.831960451701259"
   ]
  },
  {
   "cell_type": "markdown",
   "metadata": {},
   "source": [
    "***"
   ]
  },
  {
   "cell_type": "markdown",
   "metadata": {},
   "source": [
    "#### <a id='H08'>[H08] 애너그램(anagram) 판별하기</a>\n",
    "문자열 s1, s2 2개를 입력받아 이 두 문자열이 anagram인지 판별하라. anagram이란 두개의 문자열 속의 알파벳이 동일한 갯수만큼 포함된 것을 말한다. 이때, 알파벳을 제외한 문자들 즉 공백, 기호(, . ' \" _ - 등)는 제외해야 하며, 대소문자는 따로 구분하지 않는다.\n",
    "\n",
    "참고할 함수 : 문자열(`str`)의 `lower()`, `isalpha()`, 리스트(`list`)의 `sort()`\n",
    "\n",
    "변수는 다음과 같이 사용하라.\n",
    "```\n",
    "s1, s2 # 입력받은 문자열 2개\n",
    "list1 = [], list2 = [] # 문자열을 리스트로 변경할 때 사용하는 리스트 변수\n",
    "ch, i, j # 반복문을 위한 변수\n",
    "```"
   ]
  },
  {
   "cell_type": "code",
   "execution_count": null,
   "metadata": {},
   "outputs": [],
   "source": []
  },
  {
   "cell_type": "code",
   "execution_count": null,
   "metadata": {
    "hideCode": true
   },
   "outputs": [],
   "source": [
    "def check(s1, s2): \n",
    "    if(sorted(s1.lower())== sorted(s2.lower())): \n",
    "        return True\n",
    "    else: \n",
    "        return False\n",
    "sstrip = lambda str:str.replace(',','').replace('.','').replace('\\'','').replace('\"','').replace('_','').replace('-','').replace(' ','').strip()\n",
    "s1 = sstrip(input('첫번째 문자열 : '))\n",
    "s2 = sstrip(input('두번째 문자열 : '))\n",
    "print('에너 그램입니다.' if check(s1, s2) else '아닙니다')\n"
   ]
  },
  {
   "cell_type": "markdown",
   "metadata": {},
   "source": [
    "##### 실행 예시 #1\n",
    "첫번째 문자열 : Mother-in-Law<br>\n",
    "두번째 문자열 : Woman Hitler<br>\n",
    "에너 그램입니다.\n",
    "\n",
    "##### 실행 예시 #2\n",
    "첫번째 문자열 : Women Hitler<br>\n",
    "두번째 문자열 : Mother-in-law<br>\n",
    "아닙니다\n",
    "\n",
    "##### 실행 예시 #3\n",
    "첫번째 문자열 : Election results<br>\n",
    "두번째 문자열 : Lies-let's recount<br>\n",
    "에너 그램입니다."
   ]
  },
  {
   "cell_type": "markdown",
   "metadata": {},
   "source": [
    "***"
   ]
  },
  {
   "cell_type": "markdown",
   "metadata": {
    "hideCode": false
   },
   "source": [
    "#### <a id='H09'>[H09] 회문(Palindrome) 판별하기</a>\n",
    "회문(Palindrome)인지 검사하는 프로그램을 작성하라. 회문이란 거꾸로 읽어도 동일한 알파벳 순서가 되는 문장이다. 단, 알파벳 이외의 문자는 제외하고, 대소문자는 가리지 않는다.\n",
    "\n",
    "참고할 함수 : 문자열(`str`)의 `lower()`, `isalpha()`, 리스트(`list`)의 `reverse()`\n",
    "\n",
    "변수는 다음과 같이 사용하라.\n",
    "```\n",
    "str # 입력받은 문자열\n",
    "list1 = [], list2 = [] # 문자열을 리스트로 변경할 때 사용하는 리스트 변수\n",
    "ch, i, j # 반복문을 위한 변수\n",
    "```"
   ]
  },
  {
   "cell_type": "code",
   "execution_count": null,
   "metadata": {},
   "outputs": [],
   "source": []
  },
  {
   "cell_type": "code",
   "execution_count": null,
   "metadata": {
    "hideCode": true
   },
   "outputs": [],
   "source": [
    "def isPalindrome(s):\n",
    "    new_s = []\n",
    "    for i in s:\n",
    "        if i.isalpha(): new_s.append(i.lower())\n",
    "    \n",
    "    reversed_new_s = new_s.copy()\n",
    "    reversed_new_s.reverse()\n",
    "    return new_s == reversed_new_s\n",
    "\n",
    "s = input(\"문자열 입력 : \")\n",
    "ans = isPalindrome(s) \n",
    "\n",
    "if ans == 1: \n",
    "    print(\"회문입니다\") \n",
    "else: \n",
    "    print(\"아닙니다\") "
   ]
  },
  {
   "cell_type": "markdown",
   "metadata": {},
   "source": [
    "##### 실행 예시 #1\n",
    "문자열 입력 : Sator Arepo Tenet Opera Rotas<br>\n",
    "회문입니다\n",
    "\n",
    "##### 실행 예시 #2\n",
    "문자열 입력 : Hello World!!!<br>\n",
    "아닙니다\n",
    "\n",
    "##### 실행 예시 #3\n",
    "문자열 입력 : Eva, can I stab bats in a cave?<br>\n",
    "회문입니다"
   ]
  },
  {
   "cell_type": "markdown",
   "metadata": {},
   "source": [
    "***"
   ]
  },
  {
   "cell_type": "markdown",
   "metadata": {},
   "source": [
    "#### <a id='H10'>[H10] 문자열 분석하기</a>\n",
    "문자열을 입력받아서 이 문자열을 분석한 결과를 출력하는 함수를 만들라. 분석결과의 항목은 다음과 같다.\n",
    "1. 문자열 총 개수\n",
    "2. 공백(빈칸, 탭) 수\n",
    "3. 대문자 수\n",
    "4. 소문자 수\n",
    "5. 숫자 갯수\n",
    "6. 그 외 나머지 문자들의 수\n",
    "\n",
    "참고할 함수 : 문자열의 isupper(), islower(), isalpha(), isdigit()\n",
    "\n",
    "변수는 다음과 같이 사용하라.\n",
    "```\n",
    "str # 입력받은 문자열\n",
    "count_all # 총 문자 개수\n",
    "count_upper # 대문자 개수\n",
    "count_lower # 소문자 개수\n",
    "count_space # 공백 개수\n",
    "count_number # 숫자 개수\n",
    "count_etc # 기타 문자 개수\n",
    "ch # 반복문을 위해 사용하는 문자변수 (for ch in str:)\n",
    "```"
   ]
  },
  {
   "cell_type": "code",
   "execution_count": null,
   "metadata": {},
   "outputs": [],
   "source": []
  },
  {
   "cell_type": "code",
   "execution_count": null,
   "metadata": {
    "hideCode": true,
    "scrolled": true
   },
   "outputs": [],
   "source": [
    "s = input(\"문자열 입력 : \")\n",
    "ct = len(s)\n",
    "ct_u=  sum(1 for c in s if c.isupper())\n",
    "ct_l=  sum(1 for c in s if c.islower())\n",
    "ct_s= sum(1 for c in s if c.isspace())\n",
    "ct_n= sum(1 for c in s if c.isdecimal())\n",
    "print('총문자개수 :', ct)\n",
    "print('대문자개수 :', ct_u)\n",
    "print('소문자개수 :', ct_l)\n",
    "print('공백개수 :', ct_s)\n",
    "print('숫자개수 :', ct_n)\n",
    "print('나머지 :', ct - (ct_l + ct_n + ct_s + ct_u))\n"
   ]
  },
  {
   "cell_type": "markdown",
   "metadata": {},
   "source": [
    "##### 실행 예시\n",
    "문자열 입력 : Hello World!! I'm 25 years old...<br>\n",
    "총문자개수 : 33<br>\n",
    "대문자개수 : 3<br>\n",
    "소문자개수 : 17<br>\n",
    "공백개수 : 5<br>\n",
    "숫자개수 : 2<br>\n",
    "나머지 : 6"
   ]
  },
  {
   "cell_type": "markdown",
   "metadata": {},
   "source": [
    "***\n",
    "***"
   ]
  },
  {
   "cell_type": "markdown",
   "metadata": {},
   "source": [
    "## <a id='Intro2'>[Step H`] 딕셔너리</a>"
   ]
  },
  {
   "cell_type": "markdown",
   "metadata": {},
   "source": [
    "이번 단계는 파이썬에서 제공하는 딕셔너리(Dictionary) 형식의 변수를 사용하는 방법을 활용하기로 한다. 딕셔너리 즉, 사전이라는 말에서 알 수 있듯이 어떤 데이터가 단어와 뜻처럼 키(key)와 값(value)의 쌍으로 묶여져 있는 경우에 이런 데이터를 다루기 위한 형식이다. 딕셔너리는 리스트처\n",
    "럼 순서를 매겨서 추가하거나 가져오는 방식이 아니라 특정한 키에 해당되는 값을 찾는 방식으로 사용한다.\n",
    "\n",
    "예를 들어 단어를 키로 하고, 뜻을 값으로 갖는 딕셔너리는 다음과 같이 정할 수 있다."
   ]
  },
  {
   "cell_type": "code",
   "execution_count": null,
   "metadata": {},
   "outputs": [],
   "source": [
    "EngDic = {\"apple\":\"사과\", \"orange\":\"오렌지\", \"strawberry\":\"딸기\"}"
   ]
  },
  {
   "cell_type": "markdown",
   "metadata": {},
   "source": [
    "`\"apple\"`을 키로 가지는 값을 출력하기 위해서는 다음과 같이 하면 된다. 인덱스를 통해 리스트를 접근하듯이 딕셔너리는 키를 통해 접근하는 것이다."
   ]
  },
  {
   "cell_type": "code",
   "execution_count": null,
   "metadata": {},
   "outputs": [],
   "source": [
    "print(EngDic[\"apple\"])"
   ]
  },
  {
   "cell_type": "markdown",
   "metadata": {},
   "source": [
    "이렇게 만든 딕셔너리에서 모든 키를 끄집어내서 키와 값을 화면에 출력하려면 다음과 같이 하면 된다."
   ]
  },
  {
   "cell_type": "code",
   "execution_count": null,
   "metadata": {},
   "outputs": [],
   "source": [
    "EngDic = {\"apple\" : \"사과\", \"orange\" : \"오렌지\", \"strawberry\" : \"딸기\"}\n",
    "for item in EngDic.keys():\n",
    "    print(item, \":\", EngDic[item])"
   ]
  },
  {
   "cell_type": "markdown",
   "metadata": {},
   "source": [
    "윗 셀의 실행결과에서 볼 수 있듯이 딕셔너리는 내용이 순차적으로 들어가지 않기 때문에 `keys()` 함수를 사용해서 키 리스트를 만들 때에 입력한 순서와 상관없다는 것을 염두에 두어야 한다. 다음과 같이 딕셔너리에서 값을 리스트 형식으로 만들 수도 있다."
   ]
  },
  {
   "cell_type": "code",
   "execution_count": null,
   "metadata": {},
   "outputs": [],
   "source": [
    "EngDic = {\"check\" : [\"검사하다\", \"조사하다\"], \"assign\" : [\"할당하다\", \"배정하다\"], \"involved\" : [\"관계된\", \"연루된\"], \"engage\" : [\"종사하다\", \"관여하다\"], \"execute\" : [\"수행하다\", \"실행하다\"]}"
   ]
  },
  {
   "cell_type": "markdown",
   "metadata": {},
   "source": [
    "이렇게 만들어진 딕셔너리의 모든 키와 값을 화면에 출력하려면 다음과 같이 값 리스트에서 반복문을 사용해야 한다."
   ]
  },
  {
   "cell_type": "code",
   "execution_count": null,
   "metadata": {},
   "outputs": [],
   "source": [
    "for item in EngDic.keys():\n",
    "    print(item, \" : \", end = \"\")\n",
    "    for val in EngDic[item] :\n",
    "        print(val, end=\" \")\n",
    "    print()"
   ]
  },
  {
   "cell_type": "markdown",
   "metadata": {},
   "source": [
    "딕셔너리에 대해서 사용할 수 있는 주요 함수들은 다음과 같다.\n",
    "\n",
    "| 함수 | 설명 |\n",
    "| --- | --- |\n",
    "| clear() | 딕셔너리 내의 모든 요소를 제거한다. |\n",
    "| get(k, d) | 딕셔너리 내에 키 `k`가 들어 있으면 그에 대한 값을 리턴하고, 없는 경우에는 d를 리턴한다. (d가 생략되면 None 리턴) |\n",
    "| has_key(k) | 딕셔너리 내에 키 k가 들어 있으면 True를 리턴한다. |\n",
    "| items() | 딕셔너리 내의 모든 키와 값들을 (키, 값)의 리스트로 만들어 리턴한다. |\n",
    "| keys() | 딕셔너리 내의 모든 키를 리스트로 만들어 리턴한다. |\n",
    "| values() | 딕셔너리 내의 모든 값들을 리스트로 만들어 리턴한다. |\n",
    "| pop(k,d) | 딕셔너리 내에 키 k가 들어 있으면 그에 대한 값을 리턴하고 삭제한다. 없는 경우에는 d를 리턴한다. |\n",
    "| popitem() | 딕셔너리 내에서 임의의 (키, 값) 튜플을 리턴하고 제거한다. |"
   ]
  }
 ],
 "metadata": {
  "celltoolbar": "Hide code",
  "kernelspec": {
   "display_name": "Python 3",
   "language": "python",
   "name": "python3"
  },
  "language_info": {
   "codemirror_mode": {
    "name": "ipython",
    "version": 3
   },
   "file_extension": ".py",
   "mimetype": "text/x-python",
   "name": "python",
   "nbconvert_exporter": "python",
   "pygments_lexer": "ipython3",
   "version": "3.7.3"
  }
 },
 "nbformat": 4,
 "nbformat_minor": 2
}
