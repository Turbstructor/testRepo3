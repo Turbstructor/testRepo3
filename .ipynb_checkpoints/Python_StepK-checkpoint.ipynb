{
 "cells": [
  {
   "cell_type": "markdown",
   "metadata": {},
   "source": [
    "# 영역 3 : 함수 만들어 사용하기\n",
    "영역 3에서는 프로그램을 제작할 때에 필수 능력이라고 할 수 있는 함수 제작을 연습한다. 프로그램에서 처리해야 하는 작업들을 내용과 성격에 따라 서브 함수로 제작하여 역할을 분담하는 기술은 반드시 터득해야 하는 기술이다. 영역 3의 연습을 마치고 나면 영역 1과 영역 2에서 습득한 프\n",
    "로그래밍의 제어구조 기술을 메인 함수와 서브 함수 모두에 골고루 적용할 수 있게 될 것이다.\n",
    "\n",
    "함수는 별도로 작업해야 하는 프로그램 구문들을 따로 정해놓은 것이며, 함수를 호출할 때에 전달해야 하는 데이터가 있으면 이를 파라미터로 전달할 수 있다. 그리고 함수의 동작이 마친 후에 결과 값을 돌려받아야 하는 경우에는 리턴 값을 명시해서 돌려줄 수 있다. 물론 함수에 전달할 데이\n",
    "터가 없는 경우에는 파라미터 없이 함수를 제작하면 되며, 리턴할 결과 값이 없는 경우에는 리턴값이 없다고 명시하면 된다.\n",
    "\n",
    "영역 3의 실습 문제에서는 사용해야 하는 변수를 알려주지 않는다. 여러분이 문제를 충분히 읽고 분석한 후, 적절하게 필요한 변수들을 선언하여 사용하기 바란다.\n",
    "\n",
    "영역 3는 다음과 같이 3개의 단계로 구성된다.\n",
    "- [[Step I] : 파라미터 또는 리턴값만 있는 함수 만들기](Python_StepI.ipynb#Intro)\n",
    "- [[Step J] : 파라미터와 리턴 값이 모두 있는 함수 만들기](Python_StepJ.ipynb#Intro)\n",
    "- [[Step K] : 파일 사용하기](#Intro)"
   ]
  },
  {
   "cell_type": "markdown",
   "metadata": {},
   "source": [
    "***"
   ]
  },
  {
   "cell_type": "markdown",
   "metadata": {},
   "source": [
    "## <a id='Intro'>[Step K] 파일</a>"
   ]
  },
  {
   "cell_type": "markdown",
   "metadata": {},
   "source": [
    "이번 단계에서는 텍스트 파일을 사용하여 데이터를 읽고 쓰는 방법을 연습하도록 하겠다. 파일을 사용하기 위해서는 파일 변수를 사용해야 하는데, 이는 특정 텍스트 파일을 읽거나 쓰기 위해서 여는 함수인 `open()`을 사용해 만들 수 있다. 파일로부터 읽어오는 구문을 살펴보자. 데이터 파일인\n",
    "`data.txt` 에는 다음과 같은 내용이 들어 있다고 가정한다.\n",
    "```\n",
    "홍길동\n",
    "강원도 원주시 흥업면\n",
    "25\n",
    "```\n",
    "\n",
    "위 파일로부터 데이터를 읽어들여 화면에 출력하는 프로그램은 다음과 같다."
   ]
  },
  {
   "cell_type": "code",
   "execution_count": null,
   "metadata": {},
   "outputs": [],
   "source": [
    "# -*- coding: utf-8 -*-\n",
    "# 예제 ex_K1.py\n",
    "file = open(\"data.txt\", \"r\", encoding = 'utf8') # 텍스트 파일 data.txt 를 읽는 용도로 연다.\n",
    "lines = file.readlines() # 파일의 모든 줄을 읽어들인다.\n",
    "for line in lines: # 읽어들인 모든 줄의 각각의 줄에 대해 반복\n",
    "    print(line.strip()) # 각각의 줄의 좌우 공백을 없앤 후에 출력한다.\n",
    "file.close() # 파일을 닫는다."
   ]
  },
  {
   "cell_type": "markdown",
   "metadata": {},
   "source": [
    "텍스트 파일의 모든 라인을 읽지 않고, 한 줄씩 읽어들일 수도 있다. 다음 프로그램은 `word.txt`에 들어있는 영어단어와 뜻 10개를 한 줄씩 읽어 들이면서 딕셔너리에 저장한다. `word.txt`의 내용은 다음과 같이 영어단어와 한글 뜻 사이에 콜론(\":\")으로 나뉘어져 있다."
   ]
  },
  {
   "cell_type": "code",
   "execution_count": null,
   "metadata": {},
   "outputs": [],
   "source": [
    "!iconv -f UTF-8 -t EUC-KR word.txt"
   ]
  },
  {
   "cell_type": "markdown",
   "metadata": {},
   "source": [
    "프로그램의 소스는 다음과 같다."
   ]
  },
  {
   "cell_type": "code",
   "execution_count": null,
   "metadata": {},
   "outputs": [],
   "source": [
    "# -*- coding: utf-8 -*-\n",
    "# 예제 ex_K2.py\n",
    "EngDic = {} # 딕셔너리 초기화\n",
    "file = open(\"word.txt\", \"r\", encoding = 'utf8')\n",
    "while 1 :\n",
    "    line = file.readline().strip().split(\":\") # 파일에서 한 줄을 읽어 공백을 제거하고,\n",
    "    # 콜론 문자를 기준으로 분할한다.\n",
    "    if len(line) == 2 : # 단어와 뜻 2개로 분리된 경우에만\n",
    "        EngDic[line[0]] = line[1] # 딕셔너리 EngDic에 넣는다.\n",
    "    else:\n",
    "        break\n",
    "\n",
    "file.close()\n",
    "\n",
    "num = 1\n",
    "for word in EngDic.keys() : # 딕셔너리의 모든 키에 대해서\n",
    "    print(\"%2d.\"%(num),word,\":\",EngDic[word]) # 키와 값을 화면에 출력한다.\n",
    "    num += 1"
   ]
  },
  {
   "cell_type": "markdown",
   "metadata": {},
   "source": [
    "파일에 데이터를 넣는 방법은 파일을 쓰기 용도로 연 다음에 적절한 `write()`와 같은 파일 쓰기 함수들을 사용하면 되는데, 다음 프로그램은 10개의 영어단어와 뜻으로 된 딕셔너리의 내용을 텍스트 파일에 저장한다."
   ]
  },
  {
   "cell_type": "code",
   "execution_count": null,
   "metadata": {},
   "outputs": [],
   "source": [
    "# coding: euc-kr\n",
    "# 예제 ex_K3.py\n",
    "EngDic = {\"applicant\" : \"지원자, 신청자\", \"apprehensive\" : \"걱정하는, 염려하는\", \"aptitude\" : \"재능, 소질\", \"associate\" : \"관련시키다\", \"bilingual\" : \"2개 국어를 구사하는\", \"broad\" : \"폭넓은\", \"candidate\" : \"지원자, 후보자\", \"certification\" : \"증명서, 증명\", \"commensurate\" : \"비례한, 액수가 상응하는\", \"confidence\" : \"확신, 자신, 신임\"}\n",
    "file = open(\"word2.txt\", \"w\", encoding = 'utf8')\n",
    "num = 1\n",
    "for word in EngDic.keys() :\n",
    "    line = \"%2d. %s : %s\\n\"%(num,word,EngDic[word])\n",
    "    file.write(line)\n",
    "    num += 1\n",
    "file.close()"
   ]
  },
  {
   "cell_type": "markdown",
   "metadata": {},
   "source": [
    "새로 만들어진 word2.txt의 내용은 다음과 같다."
   ]
  },
  {
   "cell_type": "code",
   "execution_count": null,
   "metadata": {},
   "outputs": [],
   "source": [
    "!iconv -f UTF-8 -t EUC-KR word2.txt"
   ]
  },
  {
   "cell_type": "markdown",
   "metadata": {},
   "source": [
    "***\n",
    "***"
   ]
  },
  {
   "cell_type": "markdown",
   "metadata": {},
   "source": [
    "### ○ 실습 문제"
   ]
  },
  {
   "cell_type": "markdown",
   "metadata": {},
   "source": [
    "#### <a id='K01'>[K01] 메뉴판 저장하기</a>\n",
    "아래의 실행 예시와 같이 5개의 메뉴내용을 입력받은 후, 화면에 출력하고, `menu.txt` 파일에 저장하는 프로그램을 제작하고 테스트하라."
   ]
  },
  {
   "cell_type": "code",
   "execution_count": null,
   "metadata": {},
   "outputs": [],
   "source": []
  },
  {
   "cell_type": "code",
   "execution_count": null,
   "metadata": {
    "hideCode": true
   },
   "outputs": [],
   "source": [
    "dic={}\n",
    "for i in range(5):\n",
    "    dic[i] = input(repr(i+1)+'번째 메뉴명, 원산지, 가격 입력 : ').split()\n",
    "print('{:7} {:7} {:7} {:7}'.format('메뉴번호', '메뉴이름', '원산지', '1인분가격'))\n",
    "with open('menu.txt','w') as f:\n",
    "    for k, v in dic.items():\n",
    "        data = '{:^7} {:^7} {:^7} {:^7}'.format(k + 1, v[0],v[1],v[2])\n",
    "        f.write(data + '\\n')\n",
    "        print(data)\n",
    "print('menu.txt 에 저장')"
   ]
  },
  {
   "cell_type": "markdown",
   "metadata": {},
   "source": [
    "##### 실행 예시\n",
    "1번째 메뉴명, 원산지, 가격 입력 : 삼겹살 국내산 9000<br>\n",
    "2번째 메뉴명, 원산지, 가격 입력 : 갈비살 미국산 15000<br>\n",
    "3번째 메뉴명, 원산지, 가격 입력 : 꽃등심 호주산 30000<br>\n",
    "4번째 메뉴명, 원산지, 가격 입력 : 양념갈비 호주산 25000<br>\n",
    "5번째 메뉴명, 원산지, 가격 입력 : 차돌박이 국내산 28000<br>\n",
    "메뉴번호    메뉴이름    원산지     1인분가격  <br>\n",
    "   1      삼겹살     국내산    9000  <br>\n",
    "   2      갈비살     미국산    15000 <br>\n",
    "   3      꽃등심     호주산    30000 <br>\n",
    "   4     양념갈비     호주산    25000 <br>\n",
    "   5     차돌박이     국내산    28000 <br>\n",
    "menu.txt 에 저장"
   ]
  },
  {
   "cell_type": "code",
   "execution_count": null,
   "metadata": {},
   "outputs": [],
   "source": [
    "!iconv menu.txt"
   ]
  },
  {
   "cell_type": "markdown",
   "metadata": {},
   "source": [
    "***"
   ]
  },
  {
   "cell_type": "markdown",
   "metadata": {},
   "source": [
    "#### <a id='K02'>[K02] 메뉴판 읽어오기</a>\n",
    "위의 [K01]문제에서 저장한 `menu.txt` 파일에서 메뉴 정보를 읽어와서 화면에 출력하라."
   ]
  },
  {
   "cell_type": "code",
   "execution_count": null,
   "metadata": {},
   "outputs": [],
   "source": []
  },
  {
   "cell_type": "code",
   "execution_count": null,
   "metadata": {
    "hideCode": true
   },
   "outputs": [],
   "source": [
    "with open('menu.txt') as f:\n",
    "    print(\"menu.txt에서 메뉴정보를 읽어들였습니다.\")\n",
    "    print(\"{:7} {:7} {:7} {:7}\".format(\"메뉴번호\", \"메뉴이름\", \"원산지\", \"1인분가격\"))\n",
    "    print(f.read())"
   ]
  },
  {
   "cell_type": "markdown",
   "metadata": {},
   "source": [
    "##### 실행 예시\n",
    "menu.txt에서 메뉴정보를 읽어들였습니다.<br>\n",
    "메뉴번호    메뉴이름    원산지     1인분가격  <br>\n",
    "   1      삼겹살     국내산    9000  <br>\n",
    "   2      갈비살     미국산    15000 <br>\n",
    "   3      꽃등심     호주산    30000 <br>\n",
    "   4     양념갈비     호주산    25000 <br>\n",
    "   5     차돌박이     국내산    28000 "
   ]
  },
  {
   "cell_type": "markdown",
   "metadata": {},
   "source": [
    "***"
   ]
  },
  {
   "cell_type": "markdown",
   "metadata": {},
   "source": [
    "#### <a id='K03'>[K03] 좌표 저장하기</a>\n",
    "10개의 좌표 값(x,y)을 입력받아 `point.txt`파일에 저장하라. 그리고 저장한 파일을 다시 읽어들여서 리스트로 만든 후, 이 좌표가 몇사분면에 위치하는 지를 알아내는 함수를 통해 각 사분면에 속하는 좌표의 갯수를 출력하라.\n",
    "\n",
    "함수 선언부는 다음과 같다.\n",
    "```\n",
    "def get_area(x, y) :\n",
    "    파라미터 : x좌표, y좌표\n",
    "    리턴값 : 좌표가 위치한 사분면 (1,2,3,4. 만일 x 또는 y가 0이면 리턴값은 0이다.)\n",
    "```"
   ]
  },
  {
   "cell_type": "code",
   "execution_count": null,
   "metadata": {},
   "outputs": [],
   "source": []
  },
  {
   "cell_type": "code",
   "execution_count": null,
   "metadata": {
    "hideCode": true,
    "scrolled": true
   },
   "outputs": [],
   "source": [
    "def get_area(x, y):\n",
    "    if x > 0:\n",
    "        if y > 0:\n",
    "            return 1\n",
    "        elif y < 0:\n",
    "            return 4\n",
    "    elif x < 0:\n",
    "        if y > 0:\n",
    "            return 2\n",
    "        elif y < 0:\n",
    "            return 3\n",
    "    else:\n",
    "        return 0\n",
    "\n",
    "COUNT = 10\n",
    "with open('point.txt','w') as f:\n",
    "    for i in range(COUNT):\n",
    "        f.write(input(repr(i+1)+\"번째 좌표의 x,y값을 입력 : \") + '\\n')\n",
    "\n",
    "dic={1 : 0, 2 : 0, 3 : 0, 4 : 0}\n",
    "with open('point.txt') as f:\n",
    "    content = f.read().split('\\n')\n",
    "    for i, c in enumerate(content):\n",
    "        if c == '': break\n",
    "        lst = list(map(float, c.split()))\n",
    "        r = get_area(lst[0], lst[1])\n",
    "        dic[r] += 1\n",
    "        print(repr(i+1)+ '번째 좌표는 '+ repr(r)+ '사분면에 위치함')\n",
    "\n",
    "for i in dic.keys():\n",
    "    print(\"{}사분면의 좌표는 모두 {}개입니다.\".format(i, dic[i]))"
   ]
  },
  {
   "cell_type": "markdown",
   "metadata": {},
   "source": [
    "##### 실행 예시\n",
    "1번째 좌표의 x,y값을 입력 : 1.0 2.0<br>\n",
    "2번째 좌표의 x,y값을 입력 : -1.0 2.0<br>\n",
    "3번째 좌표의 x,y값을 입력 : -1.0 -2.0<br>\n",
    "4번째 좌표의 x,y값을 입력 : 1.0 -2.0<br>\n",
    "5번째 좌표의 x,y값을 입력 : 3.5 4.7<br>\n",
    "6번째 좌표의 x,y값을 입력 : 10.1 45.0<br>\n",
    "7번째 좌표의 x,y값을 입력 : -10.1 100.0<br>\n",
    "8번째 좌표의 x,y값을 입력 : -5.5 -9.0<br>\n",
    "9번째 좌표의 x,y값을 입력 : 3.0 -1.0<br>\n",
    "10번째 좌표의 x,y값을 입력 : 2.0 -7.0<br>\n",
    "1번째 좌표는 1사분면에 위치함<br>\n",
    "2번째 좌표는 2사분면에 위치함<br>\n",
    "3번째 좌표는 3사분면에 위치함<br>\n",
    "4번째 좌표는 4사분면에 위치함<br>\n",
    "5번째 좌표는 1사분면에 위치함<br>\n",
    "6번째 좌표는 1사분면에 위치함<br>\n",
    "7번째 좌표는 2사분면에 위치함<br>\n",
    "8번째 좌표는 3사분면에 위치함<br>\n",
    "9번째 좌표는 4사분면에 위치함<br>\n",
    "10번째 좌표는 4사분면에 위치함<br>\n",
    "1사분면의 좌표는 모두 3개입니다.<br>\n",
    "2사분면의 좌표는 모두 2개입니다.<br>\n",
    "3사분면의 좌표는 모두 2개입니다.<br>\n",
    "4사분면의 좌표는 모두 3개입니다."
   ]
  },
  {
   "cell_type": "markdown",
   "metadata": {},
   "source": [
    "***"
   ]
  },
  {
   "cell_type": "markdown",
   "metadata": {},
   "source": [
    "#### <a id='K04'>[K04] 좌표 불러오기</a>\n",
    "위의 [K03] 문제에서 저장한 `point.txt` 파일로부터 10개의 좌표를 읽어오는 함수를 제작하고, 이를 사용하여 각각의 좌표가 몇 사분면에 위치하는 지와 각 사분면에 속한 좌표의 수를 출력하라.\n",
    "\n",
    "함수 선언부는 다음과 같다.\n",
    "```\n",
    "def load_point(filename) :\n",
    "    파라미터 : 좌표가 들어있는 파일명\n",
    "    리턴값 : 좌표 리스트\n",
    "```"
   ]
  },
  {
   "cell_type": "code",
   "execution_count": null,
   "metadata": {},
   "outputs": [],
   "source": []
  },
  {
   "cell_type": "code",
   "execution_count": null,
   "metadata": {
    "hideCode": true
   },
   "outputs": [],
   "source": [
    "def get_area(x, y):\n",
    "    if x > 0:\n",
    "        if y > 0:\n",
    "            return 1\n",
    "        elif y < 0:\n",
    "            return 4\n",
    "    elif x < 0:\n",
    "        if y > 0:\n",
    "            return 2\n",
    "        elif y < 0:\n",
    "            return 3\n",
    "    else:\n",
    "        return 0\n",
    "\n",
    "def load_point(filename):\n",
    "    COUNT = 10\n",
    "    dic={}\n",
    "    ct1, ct2, ct3, ct4 = 0,0,0,0\n",
    "    with open(filename) as f:\n",
    "        content = f.read().split('\\n')\n",
    "        for i, c in enumerate(content):\n",
    "            if c == '': break\n",
    "            lst = list(map(float, c.split()))\n",
    "            r = get_area(lst[0], lst[1])\n",
    "            print(repr(i+1)+ '번째 좌표' + '({}, {})'.format(lst[0], lst[1]) + '는 '+ repr(r)+ '사분면에 위치함')\n",
    "            if r == 1: ct1+=1\n",
    "            elif r == 2: ct2+=1\n",
    "            elif r == 3: ct3+=1\n",
    "            elif r == 4: ct4+=1\n",
    "    print('1사분면 좌표 : ', ct1)\n",
    "    print('2사분면 좌표 : ', ct2)\n",
    "    print('3사분면 좌표 : ', ct3)\n",
    "    print('4사분면 좌표 : ', ct4)\n",
    "\n",
    "load_point('point.txt')\n"
   ]
  },
  {
   "cell_type": "markdown",
   "metadata": {},
   "source": [
    "##### 실행 예시\n",
    "1번째 좌표(1.0, 2.0)는 1사분면에 위치함<br>\n",
    "2번째 좌표(-1.0, 2.0)는 2사분면에 위치함<br>\n",
    "3번째 좌표(-1.0, -2.0)는 3사분면에 위치함<br>\n",
    "4번째 좌표(1.0, -2.0)는 4사분면에 위치함<br>\n",
    "5번째 좌표(3.5, 4.7)는 1사분면에 위치함<br>\n",
    "6번째 좌표(10.1, 45.0)는 1사분면에 위치함<br>\n",
    "7번째 좌표(-10.1, 100.0)는 2사분면에 위치함<br>\n",
    "8번째 좌표(-5.5, -9.0)는 3사분면에 위치함<br>\n",
    "9번째 좌표(3.0, -1.0)는 4사분면에 위치함<br>\n",
    "10번째 좌표(2.0, -7.0)는 4사분면에 위치함<br>\n",
    "1사분면 좌표 :  3<br>\n",
    "2사분면 좌표 :  2<br>\n",
    "3사분면 좌표 :  2<br>\n",
    "4사분면 좌표 :  3"
   ]
  },
  {
   "cell_type": "markdown",
   "metadata": {},
   "source": [
    "***"
   ]
  },
  {
   "cell_type": "markdown",
   "metadata": {},
   "source": [
    "#### <a id='K05'>[K05] 사용자 목록 저장하기</a>\n",
    "화면과 같이 10명의 아이디와 비밀번호를 입력받아 리스트로 만든 후, 이 리스트를 출력하고 파라미터로 넘겨 모든 사용자 정보를 텍스트 파일인 `user.txt` 파일에 저장하라.\n",
    "\n",
    "함수 선언부는 다음과 같다.\n",
    "```\n",
    "def save_list(userlist, filename) :\n",
    "    파라미터 : 사용자 목록, 저장할 파일명\n",
    "    리턴값 : 없음\n",
    "```"
   ]
  },
  {
   "cell_type": "code",
   "execution_count": null,
   "metadata": {},
   "outputs": [],
   "source": []
  },
  {
   "cell_type": "code",
   "execution_count": null,
   "metadata": {
    "hideCode": true
   },
   "outputs": [],
   "source": [
    "def save_list(userlist, filename):\n",
    "    with open(filename, 'w') as f:\n",
    "        print('-' * 20)\n",
    "        print('{:7} {:10} {:10}'.format('No', '아이디', '비밀번호'))\n",
    "        print('-' * 20)\n",
    "        for i, val in enumerate(userlist.values()):\n",
    "            data = '{:10} {:10}'.format(val[0], val[1])\n",
    "            print('{:7} {}'.format(i + 1, data))\n",
    "            f.write(data)\n",
    "            f.write('\\n')\n",
    "\n",
    "dic={}\n",
    "for i in range(10):\n",
    "    dic[i] = input(repr(i+1)+'번쨰 사람의 아이디 비번: ').split()\n",
    "        \n",
    "print('\\n등록된 사용자 목록')\n",
    "save_list(dic, 'user.txt')"
   ]
  },
  {
   "cell_type": "markdown",
   "metadata": {},
   "source": [
    "##### 실행 예시\n",
    "1번쨰 사람의 아이디 비번: kkim 1234<br>\n",
    "2번쨰 사람의 아이디 비번: hong 2123<br>\n",
    "3번쨰 사람의 아이디 비번: choi 0099<br>\n",
    "4번쨰 사람의 아이디 비번: wang 7324<br>\n",
    "5번쨰 사람의 아이디 비번: yoon 0000<br>\n",
    "6번쨰 사람의 아이디 비번: mary 1212<br>\n",
    "7번쨰 사람의 아이디 비번: david 0101<br>\n",
    "8번쨰 사람의 아이디 비번: mathew 1211<br>\n",
    "9번쨰 사람의 아이디 비번: james 0000<br>\n",
    "10번쨰 사람의 아이디 비번: smith 3333<br>\n",
    "\n",
    "등록된 사용자 목록<br>\n",
    "\\--------------------<br>\n",
    "No      아이디        비밀번호      <br>\n",
    "\\--------------------<br>\n",
    "1       kkim       1234      <br>    \n",
    "2       hong       2123      <br>\n",
    "3       choi       0099      <br>\n",
    "4       wang       7324      <br>\n",
    "5       yoon       0000      <br>\n",
    "6       mary       1212      <br>\n",
    "7       david      0101      <br>\n",
    "8       mathew     1211      <br>\n",
    "9       james      0000      <br>\n",
    "10      smith      3333      "
   ]
  },
  {
   "cell_type": "code",
   "execution_count": null,
   "metadata": {},
   "outputs": [],
   "source": [
    "!cat user.txt"
   ]
  },
  {
   "cell_type": "markdown",
   "metadata": {},
   "source": [
    "***"
   ]
  },
  {
   "cell_type": "markdown",
   "metadata": {},
   "source": [
    "#### <a id='K06'>[K06] 사용자 목록 불러오기</a>\n",
    "위의 [K05] 문제에서 저장한 `user.txt` 파일로부터 사용자 정보를 읽어와서 이를 딕셔너리로 만든 후에 화면에 출력하라.\n",
    "\n",
    "함수 선언부는 다음과 같다.\n",
    "```\n",
    "def load_list(filename) :\n",
    "    파라미터 : 읽을 파일명\n",
    "    리턴값 : 읽어들인 사용자 정보 리스트\n",
    "```"
   ]
  },
  {
   "cell_type": "code",
   "execution_count": null,
   "metadata": {},
   "outputs": [],
   "source": []
  },
  {
   "cell_type": "code",
   "execution_count": null,
   "metadata": {
    "hideCode": true,
    "scrolled": false
   },
   "outputs": [],
   "source": [
    "with open('user.txt') as f:\n",
    "    content = f.read().split('\\n')\n",
    "\n",
    "print(\"user.txt에서 {}명의 사용자 정보를 읽어들였습니다.\".format(len(content) - 1))\n",
    "print(\"\\n등록된 사용자 목록\")\n",
    "print('-'*20)\n",
    "print('{:7} {:10} {:10}'.format('No', '아이디', '비밀번호'))\n",
    "print('-'*20)\n",
    "for i, v in enumerate(content):\n",
    "    if v == '': break\n",
    "    v=v.split()\n",
    "    print('{:7} {:10} {:10}'.format(i + 1, v[0], v[1]))"
   ]
  },
  {
   "cell_type": "markdown",
   "metadata": {},
   "source": [
    "##### 실행 예제\n",
    "user.txt에서 10명의 사용자 정보를 읽어들였습니다.\n",
    "\n",
    "등록된 사용자 목록<br>\n",
    "\\--------------------<br>\n",
    "No      아이디        비밀번호      <br>\n",
    "\\--------------------<br>\n",
    "      1 kkim       1234      <br>\n",
    "      2 hong       2123      <br>\n",
    "      3 choi       0099      <br>\n",
    "      4 wang       7324      <br>\n",
    "      5 yoon       0000      <br>\n",
    "      6 mary       1212      <br>\n",
    "      7 david      0101      <br>\n",
    "      8 mathew     1211      <br>\n",
    "      9 james      0000      <br>\n",
    "     10 smith      3333      "
   ]
  },
  {
   "cell_type": "markdown",
   "metadata": {},
   "source": [
    "***"
   ]
  },
  {
   "cell_type": "markdown",
   "metadata": {},
   "source": [
    "#### <a id='K07'>[K07] 학생 점수 결과 저장하기</a>\n",
    "5명의 학생들의 국어, 영어, 수학 점수를 입력받아 총점과 평균을 계산하고 이 정보를 리스트로 만든 후 이 리스트를 파라미터로 넘겨받아 텍스트 파일에 저장하는 함수를 만들고 테스트하라.\n",
    "\n",
    "함수 선언부는 다음과 같다.\n",
    "```\n",
    "def save_jumsu(jumsulist, filename) :\n",
    "    파라미터 : 점수 목록(국, 영, 수, 총점, 평균), 파일명\n",
    "    리턴값 : 없음\n",
    "```"
   ]
  },
  {
   "cell_type": "code",
   "execution_count": null,
   "metadata": {},
   "outputs": [],
   "source": []
  },
  {
   "cell_type": "code",
   "execution_count": null,
   "metadata": {
    "hideCode": true
   },
   "outputs": [],
   "source": [
    "from statistics import mean\n",
    "dic = {}\n",
    "for i in range(5):\n",
    "    dic[i] = list(map(int, input(repr(i+1)+'번째 학생의 국어/영어/수학 점수입력 : ').split()))\n",
    "    tmp = dic[i]\n",
    "    dic[i].append(sum(tmp))\n",
    "    dic[i].append(sum(tmp) / 3)\n",
    "def save_jumsu(lst, fn):\n",
    "    with open(fn,'w') as f:\n",
    "        print(\"{:3} {:3} {:3} {:3} {:3} {:3}\".format('번호', '국어', '영어', '수학', '총점', '평균'))\n",
    "        for k, v in dic.items():\n",
    "            print('{:5} {:5} {:5} {:5} {:5} {:5} '.format(k, v[0], v[1], v[2], v[3], v[4]))\n",
    "            f.write('{:5} {:5} {:5} {:5} {:5} '.format(v[0], v[1], v[2], v[3], v[4]) + '\\n')\n",
    "save_jumsu(dic, 'jumsu.txt')\n",
    "print(\"jumsu.txt에 저장되었습니다.\")"
   ]
  },
  {
   "cell_type": "markdown",
   "metadata": {},
   "source": [
    "##### 실행 예제\n",
    "1번째 학생의 국어/영어/수학 점수입력 : 95 85 75<br>\n",
    "2번째 학생의 국어/영어/수학 점수입력 : 90 80 70<br>\n",
    "3번째 학생의 국어/영어/수학 점수입력 : 60 85 44<br>\n",
    "4번째 학생의 국어/영어/수학 점수입력 : 77 88 55<br>\n",
    "5번째 학생의 국어/영어/수학 점수입력 : 80 70 40<br>\n",
    "번호  국어  영어  수학  총점  평균 <br>\n",
    "    0    95    85    75   255 170.0 <br>\n",
    "    1    90    80    70   240 160.0 <br>\n",
    "    2    60    85    44   189 126.0 <br>\n",
    "    3    77    88    55   220 146.66666666666666 <br>\n",
    "    4    80    70    40   190 126.66666666666667 <br>\n",
    "jumsu.txt에 저장되었습니다."
   ]
  },
  {
   "cell_type": "code",
   "execution_count": null,
   "metadata": {},
   "outputs": [],
   "source": [
    "!cat jumsu.txt"
   ]
  }
 ],
 "metadata": {
  "celltoolbar": "Hide code",
  "kernelspec": {
   "display_name": "Python 3",
   "language": "python",
   "name": "python3"
  },
  "language_info": {
   "codemirror_mode": {
    "name": "ipython",
    "version": 3
   },
   "file_extension": ".py",
   "mimetype": "text/x-python",
   "name": "python",
   "nbconvert_exporter": "python",
   "pygments_lexer": "ipython3",
   "version": "3.7.3"
  }
 },
 "nbformat": 4,
 "nbformat_minor": 2
}
