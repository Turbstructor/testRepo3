{
 "cells": [
  {
   "cell_type": "markdown",
   "metadata": {},
   "source": [
    "# 영역 2 : 프로그래밍 제어구조 응용\n",
    "영역 2에서는 영역 1에서 습득한 프로그래밍의 기본 제어구조를 응용하는 방법을 연습한다. 먼저 2단계 이상이 중복된 복합 반복문을 사용하는 방법과 묶음자료 형식인 리스트를 다루는 방법을 연습한다. 또한 그동안 연습한 조건문과 반복문이 다양하게 적용되는 응용 예제들을 해결하는 연습을 하게 된다. 마지막으로 영역 3으로 진행하기 위한 준비단계로서 파이썬에서 제공하는 주요 함수들을 사용하는 연습을 하게 된다.\n",
    "\n",
    "영역 2는 다음과 같이 5개의 단계로 구성된다.\n",
    "\n",
    "- [[Step E] : 복합 반복문 사용하기](Python_StepE.ipynb#Intro)\n",
    "- [[Step F] : 리스트 사용하기](#Intro)\n",
    "- [[Step G] : 조건과 반복을 활용하는 응용 예제 해결하기](Python_StepG.ipynb#Intro)\n",
    "- [[Step H] : 파이썬의 주요 함수 사용하기](Python_StepH.ipynb#Intro)\n",
    "- [[Step H]' : 딕셔너리 사용하기](Python_StepH.ipynb#Intro2)"
   ]
  },
  {
   "cell_type": "markdown",
   "metadata": {},
   "source": [
    "***"
   ]
  },
  {
   "cell_type": "markdown",
   "metadata": {},
   "source": [
    "## <a id='Intro'>[Step F] 리스트 사용하기</a>"
   ]
  },
  {
   "cell_type": "markdown",
   "metadata": {},
   "source": [
    "대부분의 프로그램에서는 비슷한 용도로 사용되는 여러 개의 변수가 필요한 경우에 배열이라는 묶음형 변수로 선언하면 아주 편리하다. 파이썬에서는 리스트를 사용하면 이러한 묶음형 데이터들을 쉽게 다룰 수 있다. 예를 들어 5개의 정수형 변수를 사용해서 숫자 5개를 입력받아 그 합계를 계산하려면 다음과 같다."
   ]
  },
  {
   "cell_type": "code",
   "execution_count": null,
   "metadata": {},
   "outputs": [],
   "source": [
    "sum = 0\n",
    "num1 = int(input(\"1번 숫자를 입력하시오. \"))\n",
    "sum = sum + num1\n",
    "num2 = int(input(\"2번 숫자를 입력하시오. \"))\n",
    "sum = sum + num2\n",
    "num3 = int(input(\"3번 숫자를 입력하시오. \"))\n",
    "sum = sum + num3\n",
    "num4 = int(input(\"4번 숫자를 입력하시오. \"))\n",
    "sum = sum + num4\n",
    "num5 = int(input(\"5번 숫자를 입력하시오. \"))\n",
    "sum = sum + num5\n",
    "print(\"숫자의 합계는\", sum, \"입니다.\")"
   ]
  },
  {
   "cell_type": "markdown",
   "metadata": {},
   "source": [
    "위의 프로그램을 자세히 들여다보면 다섯 개의 숫자에 대해 비슷한 모양의 구문이 반복되는 것을 볼 수 있다. 여기에서 다섯 개의 숫자를 위한 변수를 리스트로 선언해서 프로그램을 변경하면 다음과 같다."
   ]
  },
  {
   "cell_type": "code",
   "execution_count": null,
   "metadata": {},
   "outputs": [],
   "source": [
    "num = [] # 리스트를 초기화\n",
    "sum = 0\n",
    "for i in range(5) : # i 가 0부터 4까지 5회 반복하며 실행\n",
    "    newnum = int(input(\"%d번 숫자를 입력하시오. \"%(i+1)))\n",
    "    num.append(newnum) # 리스트에 입력받은 숫자를 추가함\n",
    "\n",
    "for i in range(5) : # i 가 0부터 4까지 5회 반복하며 실행\n",
    "    sum = sum + num[i] # 리스트에서 인덱스 i에 해당되는 수를 누적\n",
    "\n",
    "print(\"숫자의 합계는\", sum, \"입니다.\")"
   ]
  },
  {
   "cell_type": "markdown",
   "metadata": {},
   "source": [
    "위 구문에서 ```int(input(\"%d번 숫자를 입력하시오. \"%(i+1)))```를 보면 문자열 내에 ```%d```라고 표시한 부분은 형식 지시자라고 부르는데 이곳에 문자열 뒤에 따라오는 ```%(i+1)```의 값으로 대치하라는 의미이다.\n",
    "\n",
    "```num[i]```와 같이 리스트 안에 들어있는 요소를 접근할 때에는 인덱스 값이 언제나 0부터 시작한다는 점을 유의해야 한다. 위의 2종류의 프로그램 구문은 동일하게 다음 화면과 같은 실행 결과를 보인다. 하지만 두 번째 프로그램에서는 입력받은 5개의 숫자가 리스트 ```num```에 한꺼번에 보관된다.\n",
    "\n",
    "이번에는 리스트 내에 다시 리스트가 들어 있는 중복 구조를 살펴보자. 예를 들어 다음과 같이 리스트를 만들어 사용한다고 가정해보자.\n",
    "```\n",
    "number = [[1,2,3],[4,5,6],[7,8,9],[10,11,12]]\n",
    "```\n",
    "\n",
    "위 배열의 구조를 그림으로 표시하면 다음 그림과 같다.\n",
    "\n",
    "number[0] | : | number[0][0] | number[0][1] | number[0][2] |\n",
    "--- | --- | --- | --- | --- |\n",
    "[1, 2, 3] | - | 1 | 2 | 3 |\n",
    " \n",
    "number[1] | : | number[1][0] | number[1][1] | number[1][2] |\n",
    "--- | --- | --- | --- | --- |\n",
    "[4, 5, 6] | - | 4 | 5 | 6 |\n",
    "\n",
    "number[2] | : | number[2][0] | number[2][1] | number[2][2] |\n",
    "--- | --- | --- | --- | --- |\n",
    "[7, 8, 9] | - | 7 | 8 | 9 |\n",
    "\n",
    "number[3] | : | number[3][0] | number[3][1] | number[3][2] |\n",
    "--- | --- | --- | --- | --- |\n",
    "[10, 11, 12] | - | 10 | 11 | 12 |\n",
    "\n",
    "그렇다면 반복문을 사용해서 위 리스트에 값을 넣으려면 어떻게 하면 될까? 우선 다음과 같은 방법을 생각해볼 수 있다.\n",
    "```\n",
    "number = []\n",
    "number.append([1, 2, 3])\n",
    "number.append([4, 5, 6])\n",
    "number.append([7, 8, 9])\n",
    "number.append([10, 11, 12])\n",
    "```\n",
    "위 구문을 자세히 살펴보면 매 줄마다 3개의 요소를 갖는 작은 리스트를 `number` 리스트에 추가하고 있음을 볼 수 있다. 그리고 작은 리스트는 각각 `1, 4, 7, 10`으로 시작하는 3개의 숫자들로 이뤄지고 있다. 그러므로 이를 처리하는 구문은 다음과 같다."
   ]
  },
  {
   "cell_type": "code",
   "execution_count": null,
   "metadata": {},
   "outputs": [],
   "source": [
    "number = []\n",
    "for i in range(1,12,3) : # 1부터 11까지 3씩 증가하는 숫자들(1,4,7,10)에 대해 반복\n",
    "    small_list = [] # 작은 리스트 초기화\n",
    "    for j in range(3): # 0부터 2까지 3개의 숫자들에 대해 반복\n",
    "        small_list.append(i+j) # 작은 리스트에 요소를 추가\n",
    "    number.append(small_list) # 만들어진 작은 리스트를 number 리스트에 추가\n",
    "print(number)"
   ]
  },
  {
   "cell_type": "markdown",
   "metadata": {},
   "source": [
    "이렇듯 반복문과 리스트를 사용하여 프로그램을 만들 때에는 인덱스를 사용하는 부분을 정확하게 파악하여 프로그램에 적용하는 것이 중요하다."
   ]
  },
  {
   "cell_type": "markdown",
   "metadata": {},
   "source": [
    "***\n",
    "***"
   ]
  },
  {
   "cell_type": "markdown",
   "metadata": {},
   "source": [
    "### ○ 실습 문제"
   ]
  },
  {
   "cell_type": "markdown",
   "metadata": {},
   "source": [
    "#### <a id='F01'>[F01] 두 번째로 큰 수의 순서 찾기</a>\n",
    "10개의 숫자를 입력받아 리스트에 저장한 후에 이 중에서 두 번째로 큰 수가 몇 번째 숫자인지 찾아내어 출력하라.\n",
    "\n",
    "변수는 다음과 같이 사용하라.\n",
    "```\n",
    "num = [] # 10개의 숫자를 담을 리스트\n",
    "first # 첫 번째로 큰 수\n",
    "second # 두 번째로 큰 수\n",
    "second_max_index # 두 번째로 큰 수의 인덱스\n",
    "newnum # 숫자 입력을 위한 변수\n",
    "i # 반복문을 위한 변수\n",
    "```"
   ]
  },
  {
   "cell_type": "code",
   "execution_count": null,
   "metadata": {},
   "outputs": [],
   "source": []
  },
  {
   "cell_type": "code",
   "execution_count": null,
   "metadata": {
    "hideCode": true
   },
   "outputs": [],
   "source": [
    "second_max_index = 0\n",
    "num = []\n",
    "for i in range(10):\n",
    "    newnum = int(input(\"{}번째 수를 입력하세요 : \".format(i + 1)))\n",
    "    num.append(newnum)\n",
    "    \n",
    "    if i == 0: first = second = num[i]\n",
    "    elif first <= num[i]: first, second = num[i], first\n",
    "        \n",
    "second_max_index = num.index(second) + 1\n",
    "\n",
    "print(\"두번째로 큰 수는 {}번째 수 {}입니다.\".format(second_max_index, second))\n",
    "    "
   ]
  },
  {
   "cell_type": "markdown",
   "metadata": {},
   "source": [
    "##### 실행 예시\n",
    "1번째 수를 입력하세요 : 11<br>\n",
    "2번째 수를 입력하세요 : 22<br>\n",
    "3번째 수를 입력하세요 : 33<br>\n",
    "4번째 수를 입력하세요 : 55<br>\n",
    "5번째 수를 입력하세요 : 66<br>\n",
    "6번째 수를 입력하세요 : 88<br>\n",
    "7번째 수를 입력하세요 : 99<br>\n",
    "8번째 수를 입력하세요 : 44<br>\n",
    "9번째 수를 입력하세요 : 77<br>\n",
    "10번째 수를 입력하세요 : 0<br>\n",
    "두번째로 큰 수는 6번째 수 88입니다."
   ]
  },
  {
   "cell_type": "markdown",
   "metadata": {},
   "source": [
    "***"
   ]
  },
  {
   "cell_type": "markdown",
   "metadata": {},
   "source": [
    "#### <a id='F02'>[F02] 심사점수 계산</a>\n",
    "심사점수를 10개 입력받아 리스트에 저장한 후, 이 중에서 가장 큰 점수와 가장 작은 점수를 제외한 8개의 점수에 대한 평균을 계산하여 출력하라.\n",
    "\n",
    "변수는 다음과 같이 사용하라.\n",
    "```\n",
    "score = [] # 심사점수 리스트\n",
    "maxscore, minscore # 가장 큰 점수, 가장 작은 점수\n",
    "total # 점수 총 합계\n",
    "average # 평균점수\n",
    "newnum # 숫자 입력을 위한 변수\n",
    "i # 반복문을 위한 변수\n",
    "```"
   ]
  },
  {
   "cell_type": "code",
   "execution_count": null,
   "metadata": {},
   "outputs": [],
   "source": []
  },
  {
   "cell_type": "code",
   "execution_count": null,
   "metadata": {
    "hideCode": true
   },
   "outputs": [],
   "source": [
    "score = []\n",
    "maxscore = minscore = None\n",
    "total = 0\n",
    "\n",
    "for i in range(10):\n",
    "    newnum = float(input(\"{}번 심사점수를 입력하세요 : \".format(i + 1)))\n",
    "    score.append(newnum)\n",
    "    if i == 0: maxscore = minscore = newnum\n",
    "    \n",
    "    if maxscore < newnum: maxscore = newnum\n",
    "    if minscore > newnum: minscore = newnum\n",
    "    \n",
    "    total += newnum\n",
    "\n",
    "total -= (maxscore + minscore)\n",
    "average = total / 8\n",
    "\n",
    "print(\"가장 큰 점수와 가장 작은 점수를 제외한 8개의 점수에 대한 평균은 {:.1f}입니다.\".format(average))"
   ]
  },
  {
   "cell_type": "markdown",
   "metadata": {},
   "source": [
    "##### 실행 예시\n",
    "1번 심사점수를 입력하세요 : 9.5<br>\n",
    "2번 심사점수를 입력하세요 : 6.8<br>\n",
    "3번 심사점수를 입력하세요 : 7.9<br>\n",
    "4번 심사점수를 입력하세요 : 9.9<br>\n",
    "5번 심사점수를 입력하세요 : 4.6<br>\n",
    "6번 심사점수를 입력하세요 : 6.2<br>\n",
    "7번 심사점수를 입력하세요 : 7.7<br>\n",
    "8번 심사점수를 입력하세요 : 5.4<br>\n",
    "9번 심사점수를 입력하세요 : 8.0<br>\n",
    "10번 심사점수를 입력하세요 : 7.6<br>\n",
    "가장 큰 점수와 가장 작은 점수를 제외한 8개의 점수에 대한 평균은 7.4입니다."
   ]
  },
  {
   "cell_type": "markdown",
   "metadata": {},
   "source": [
    "***"
   ]
  },
  {
   "cell_type": "markdown",
   "metadata": {},
   "source": [
    "#### <a id='F03'>[F03] 5명의 국, 영, 수 3과목 점수의 과목별 총점, 평균값 구하기</a>\n",
    "학생 5명의 국어, 영어, 수학 점수를 각각 입력받아 저장한 후에, 각 과목별 총점과 평균 점수를 계산하여 출력하라.\n",
    "\n",
    "변수는 다음과 같이 사용하라.\n",
    "```\n",
    "jumsu = [] # 5명의 3과목 점수를 저장하고 있는 중복 리스트\n",
    "sum = [] # 3과목 총점 리스트\n",
    "average = [] # 3과목 평균 리스트\n",
    "kor, eng, mat # 3과목 점수 입력을 위한 변수\n",
    "i, j # 반복문을 위한 변수\n",
    "```"
   ]
  },
  {
   "cell_type": "code",
   "execution_count": null,
   "metadata": {},
   "outputs": [],
   "source": []
  },
  {
   "cell_type": "code",
   "execution_count": null,
   "metadata": {
    "hideCode": true
   },
   "outputs": [],
   "source": [
    "jumsu = []\n",
    "sum = [0, 0, 0]\n",
    "average = [0, 0, 0]\n",
    "\n",
    "for i in range(5):\n",
    "    kor, eng, mat = input(\"{}번 학생 국어, 영어, 수학 점수를 입력하세요 : \".format(i + 1)).split()\n",
    "    kor, eng, mat = int(kor), int(eng), int(mat)\n",
    "    \n",
    "    jumsu.append([kor, eng, mat])\n",
    "    for j in range(3):\n",
    "        sum[j] += jumsu[i][j]\n",
    "\n",
    "for i in range(3):\n",
    "    average[i] = sum[i] / 5\n",
    "\n",
    "for i in range(3):\n",
    "    print(\"{}의 총점은 {}이고, 평균은 {:.1f}입니다.\".format(['국어', '영어', '수학'][i], sum[i], average[i]))"
   ]
  },
  {
   "cell_type": "markdown",
   "metadata": {},
   "source": [
    "##### 실행 예시\n",
    "1번 학생 국어, 영어, 수학 점수를 입력하세요 : 95 85 75<br>\n",
    "2번 학생 국어, 영어, 수학 점수를 입력하세요 : 87 79 88<br>\n",
    "3번 학생 국어, 영어, 수학 점수를 입력하세요 : 95 85 75<br>\n",
    "4번 학생 국어, 영어, 수학 점수를 입력하세요 : 65 77 79<br>\n",
    "5번 학생 국어, 영어, 수학 점수를 입력하세요 : 77 88 99<br>\n",
    "국어의 총점은 419이고, 평균은 83.8입니다.<br>\n",
    "영어의 총점은 414이고, 평균은 82.8입니다.<br>\n",
    "수학의 총점은 416이고, 평균은 83.2입니다."
   ]
  },
  {
   "cell_type": "markdown",
   "metadata": {},
   "source": [
    "***"
   ]
  },
  {
   "cell_type": "markdown",
   "metadata": {},
   "source": [
    "#### <a id='F04'>[F04] 5명의 국, 영, 수 3과목 점수의 학생별 총점, 평균값 구하기</a>\n",
    "학생 5명의 국어, 영어, 수학 점수를 각각 입력받아 저장한 후에, 각 과목별 총점과 평균 점수를 계산하여 출력하라.\n",
    "\n",
    "변수는 다음과 같이 사용하라.\n",
    "```\n",
    "jumsu = [] # 5명의 3과목 점수를 저장하고 있는 중복 리스트\n",
    "sum = [] # 3과목 총점 리스트\n",
    "average = [] # 3과목 평균 리스트\n",
    "kor, eng, mat # 3과목 점수 입력을 위한 변수\n",
    "i, j # 반복문을 위한 변수\n",
    "```"
   ]
  },
  {
   "cell_type": "code",
   "execution_count": null,
   "metadata": {},
   "outputs": [],
   "source": []
  },
  {
   "cell_type": "code",
   "execution_count": null,
   "metadata": {
    "hideCode": true
   },
   "outputs": [],
   "source": [
    "jumsu = []\n",
    "sum = []\n",
    "average = []\n",
    "\n",
    "for i in range(5):\n",
    "    kor, eng, mat = input(\"{}번 학생 국어, 영어, 수학 점수를 입력하세요 : \".format(i + 1)).split()\n",
    "    kor, eng, mat = int(kor), int(eng), int(mat)\n",
    "    \n",
    "    jumsu.append([kor, eng, mat])\n",
    "    sum.append(jumsu[i][0] + jumsu[i][1] + jumsu[i][2])\n",
    "    average.append(sum[i] / 3)\n",
    "\n",
    "for i in range(5):\n",
    "    print(\"{}번 학생의 총점은 {}이고, 평균은 {:.1f}입니다.\".format(i + 1, sum[i], average[i]))"
   ]
  },
  {
   "cell_type": "markdown",
   "metadata": {},
   "source": [
    "##### 실행 예시\n",
    "1번 학생 국어, 영어, 수학 점수를 입력하세요 : 95 85 75<br>\n",
    "2번 학생 국어, 영어, 수학 점수를 입력하세요 : 87 79 88<br>\n",
    "3번 학생 국어, 영어, 수학 점수를 입력하세요 : 95 85 75<br>\n",
    "4번 학생 국어, 영어, 수학 점수를 입력하세요 : 65 77 79<br>\n",
    "5번 학생 국어, 영어, 수학 점수를 입력하세요 : 77 88 99<br>\n",
    "1번 학생의 총점은 255이고, 평균은 85.0입니다.<br>\n",
    "2번 학생의 총점은 254이고, 평균은 84.7입니다.<br>\n",
    "3번 학생의 총점은 255이고, 평균은 85.0입니다.<br>\n",
    "4번 학생의 총점은 221이고, 평균은 73.7입니다.<br>\n",
    "5번 학생의 총점은 264이고, 평균은 88.0입니다."
   ]
  },
  {
   "cell_type": "markdown",
   "metadata": {},
   "source": [
    "***"
   ]
  },
  {
   "cell_type": "markdown",
   "metadata": {},
   "source": [
    "#### <a id='F05'>[F05] 비만 판정</a>\n",
    "10명의 신장(cm 단위)과 체중(kg 단위)를 입력받은 후, 이들 중 몇 번째 사람들이 비만인지를 판정하여 출력하라. 그리고 도합 몇 명이 비만인지 출력하라. 단, 비만여부는 다음 비만도 수치가 25이상인 경우에 \"비만\"으로 판단한다.\n",
    "\n",
    "비만도 수치 = 체중(kg) / (신장(m)의 제곱) 으로 계산한다. 이 때, 신장은 미터 단위로 환산해야 함을 유의하라.\n",
    "\n",
    "변수는 다음과 같이 사용하라.\n",
    "```\n",
    "height, weight # 입력받은 신장(cm), 체중(kg)\n",
    "bmi # 계산된 비만도 수치\n",
    "bmilist = [] # 10명에 대한 신장, 체중, 비만도수치를 담고 있는 리스트\n",
    "count # 비만인 사람의 숫자\n",
    "i # 반복문을 위한 변수\n",
    "```"
   ]
  },
  {
   "cell_type": "code",
   "execution_count": null,
   "metadata": {},
   "outputs": [],
   "source": []
  },
  {
   "cell_type": "code",
   "execution_count": null,
   "metadata": {
    "hideCode": true
   },
   "outputs": [],
   "source": [
    "count = 0\n",
    "bmilist = []\n",
    "for i in range(10):\n",
    "    height, weight = input(\"{}번째 사람의 신장(cm)과 체중(kg)을 입력하세요 : \".format(i + 1)).split()\n",
    "    height, weight = int(height), int(weight)\n",
    "    \n",
    "    bmi = weight / (height ** 2 / 10000)\n",
    "    bmilist.append(bmi)\n",
    "\n",
    "for i in range(10):\n",
    "    if bmilist[i] >= 25:\n",
    "        print('{}번째 사람은 비만입니다.'.format(i + 1))\n",
    "        count += 1\n",
    "\n",
    "print('\\n총 {}명의 사람이 비만입니다.'.format(count))"
   ]
  },
  {
   "cell_type": "markdown",
   "metadata": {},
   "source": [
    "##### 실행 예시\n",
    "1번째 사람의 신장(cm)과 체중(kg)을 입력하세요 : 166 56<br>\n",
    "2번째 사람의 신장(cm)과 체중(kg)을 입력하세요 : 176 90<br>\n",
    "3번째 사람의 신장(cm)과 체중(kg)을 입력하세요 : 187 60<br>\n",
    "4번째 사람의 신장(cm)과 체중(kg)을 입력하세요 : 155 47<br>\n",
    "5번째 사람의 신장(cm)과 체중(kg)을 입력하세요 : 170 75<br>\n",
    "6번째 사람의 신장(cm)과 체중(kg)을 입력하세요 : 173 80<br>\n",
    "7번째 사람의 신장(cm)과 체중(kg)을 입력하세요 : 165 50<br>\n",
    "8번째 사람의 신장(cm)과 체중(kg)을 입력하세요 : 182 73<br>\n",
    "9번째 사람의 신장(cm)과 체중(kg)을 입력하세요 : 158 48<br>\n",
    "10번째 사람의 신장(cm)과 체중(kg)을 입력하세요 : 170 66<br>\n",
    "2번째 사람은 비만입니다.<br>\n",
    "5번째 사람은 비만입니다.<br>\n",
    "6번째 사람은 비만입니다.<br>\n",
    "\n",
    "총 3명의 사람이 비만입니다."
   ]
  },
  {
   "cell_type": "markdown",
   "metadata": {},
   "source": [
    "***"
   ]
  },
  {
   "cell_type": "markdown",
   "metadata": {},
   "source": [
    "#### <a id='F06'>[F06] 5층 아파트의 거주자 숫자 구하기</a>\n",
    "한 층에 3집(1호, 2호, 3호)으로 되어 있는 5층짜리 아파트가 있다. 2차원 배열을 사용하여 101호부터 503호까지 각 집에 살고 있는 사람의 숫자를 입력받아 보관하라. 그리고 이 아파트에 사는 거주자는 모두 몇 명인지 출력하라.\n",
    "\n",
    "변수는 다음과 같이 사용하라.\n",
    "```\n",
    "number = [] # 각 집의 거주자 수, 층별, 호수별 중복 리스트\n",
    "newnum # 입력받은 숫자\n",
    "total # 아파트의 총 거주자 수\n",
    "ho # 아파트 호를 나타내는 변수\n",
    "i, j # 반복문 사용을 위한 변수\n",
    "```"
   ]
  },
  {
   "cell_type": "code",
   "execution_count": null,
   "metadata": {},
   "outputs": [],
   "source": []
  },
  {
   "cell_type": "code",
   "execution_count": null,
   "metadata": {
    "hideCode": true,
    "hidePrompt": true
   },
   "outputs": [],
   "source": [
    "number = []\n",
    "total = 0\n",
    "for i in range(5):\n",
    "    number.append([])\n",
    "    for j in range(3):\n",
    "        ho = (i + 1) * 100 + (j + 1)\n",
    "        newnum = int(input(\"{}호에 살고 있는 사람의 숫자를 입력하세요 : \".format(ho)))\n",
    "        number[i].append(newnum)\n",
    "        total += newnum\n",
    "\n",
    "print(\"이 아파트에 사는 거주자는 모두 {}명입니다.\".format(total))\n",
    "\n",
    "                     "
   ]
  },
  {
   "cell_type": "markdown",
   "metadata": {},
   "source": [
    "##### 실행 예시\n",
    "101호에 살고 있는 사람의 숫자를 입력하세요 : 3<br>\n",
    "102호에 살고 있는 사람의 숫자를 입력하세요 : 4<br>\n",
    "103호에 살고 있는 사람의 숫자를 입력하세요 : 6<br>\n",
    "201호에 살고 있는 사람의 숫자를 입력하세요 : 2<br>\n",
    "202호에 살고 있는 사람의 숫자를 입력하세요 : 7<br>\n",
    "203호에 살고 있는 사람의 숫자를 입력하세요 : 5<br>\n",
    "301호에 살고 있는 사람의 숫자를 입력하세요 : 7<br>\n",
    "302호에 살고 있는 사람의 숫자를 입력하세요 : 4<br>\n",
    "303호에 살고 있는 사람의 숫자를 입력하세요 : 3<br>\n",
    "401호에 살고 있는 사람의 숫자를 입력하세요 : 4<br>\n",
    "402호에 살고 있는 사람의 숫자를 입력하세요 : 3<br>\n",
    "403호에 살고 있는 사람의 숫자를 입력하세요 : 2<br>\n",
    "501호에 살고 있는 사람의 숫자를 입력하세요 : 1<br>\n",
    "502호에 살고 있는 사람의 숫자를 입력하세요 : 3<br>\n",
    "503호에 살고 있는 사람의 숫자를 입력하세요 : 4<br>\n",
    "\n",
    "이 아파트에 사는 거주자는 모두 58명입니다."
   ]
  },
  {
   "cell_type": "markdown",
   "metadata": {},
   "source": [
    "***"
   ]
  },
  {
   "cell_type": "markdown",
   "metadata": {},
   "source": [
    "#### <a id='F07'>[F07] 5층 아파트의 층별, 호수별 거주자 숫자 구하기</a>\n",
    "한 층에 3집(1호, 2호, 3호)으로 되어 있는 5층짜리 아파트가 있다. 2차원 배열을 사용하여 101호부터 503호까지 각 집에 살고 있는 사람의 숫자를 입력받아 보관하라. 그리고 이 아파트에 사는 거주자의 숫자를 층별(1층~5층)로 합산하여 출력하고, 호수별(1호~3호)로 합산하여 출력하라. 예를 들어 1층 거주자의 수는 101호, 102호, 103호 거주자의 수를 합한 것이고, 2호 라인 거주자의 수는 102호, 202호, 302호, 402호, 502호 거주자의 수를 합한 것이다.\n",
    "\n",
    "변수는 다음과 같이 사용하라.\n",
    "```\n",
    "number = [] # 각 집의 거주자 수, 층별, 호수별 중복 리스트\n",
    "newnum # 입력받은 숫자\n",
    "floor_total = [] # 층별 거주자 합계 리스트 (1층, 2층, 3층, 4층, 5층)\n",
    "line_total = [] # 호수별 거주자 합계 리스트 (1호라인, 2호라인, 3호라인)\n",
    "total # 아파트의 총 거주자 수\n",
    "ho # 아파트 호를 나타내는 변수\n",
    "i, j # 반복문 사용을 위한 변수\n",
    "```"
   ]
  },
  {
   "cell_type": "code",
   "execution_count": null,
   "metadata": {},
   "outputs": [],
   "source": []
  },
  {
   "cell_type": "code",
   "execution_count": null,
   "metadata": {
    "hideCode": true,
    "scrolled": true
   },
   "outputs": [],
   "source": [
    "number = []\n",
    "floor_total = []\n",
    "line_total = []\n",
    "total = 0\n",
    "\n",
    "for i in range(5):\n",
    "    number.append([])\n",
    "    for j in range(3):\n",
    "        ho = (i + 1) * 100 + (j + 1)\n",
    "        newnum = int(input(\"{}호에 살고 있는 사람의 숫자를 입력하세요 : \".format(ho)))\n",
    "        number[i].append(newnum)\n",
    "        total += newnum\n",
    "\n",
    "print()\n",
    "        \n",
    "for i in range(5):\n",
    "    floor_total.append(0)\n",
    "    for j in range(3):\n",
    "        floor_total[i] += number[i][j]\n",
    "\n",
    "for i in range(3):\n",
    "    line_total.append(0)\n",
    "    for j in range(5):\n",
    "        line_total[i] += number[j][i]\n",
    "\n",
    "for i in range(5):\n",
    "    print(\"{}층에 사는 거주자는 모두 {}명 입니다.\".format(i + 1, floor_total[i]))\n",
    "\n",
    "print()\n",
    "\n",
    "for i in range(3):\n",
    "    print(\"{}호 라인에 사는 거주자는 모두 {}명 입니다.\".format(i + 1, line_total[i]))\n",
    "\n",
    "print()\n",
    "\n",
    "print(\"이 아파트에 사는 거주자는 모두 {}명 입니다.\".format(total))"
   ]
  },
  {
   "cell_type": "markdown",
   "metadata": {},
   "source": [
    "##### 실행 예시\n",
    "101호에 살고 있는 사람의 숫자를 입력하세요 : 2<br>\n",
    "102호에 살고 있는 사람의 숫자를 입력하세요 : 3<br>\n",
    "103호에 살고 있는 사람의 숫자를 입력하세요 : 5<br>\n",
    "201호에 살고 있는 사람의 숫자를 입력하세요 : 4<br>\n",
    "202호에 살고 있는 사람의 숫자를 입력하세요 : 3<br>\n",
    "203호에 살고 있는 사람의 숫자를 입력하세요 : 6<br>\n",
    "301호에 살고 있는 사람의 숫자를 입력하세요 : 5<br>\n",
    "302호에 살고 있는 사람의 숫자를 입력하세요 : 7<br>\n",
    "303호에 살고 있는 사람의 숫자를 입력하세요 : 4<br>\n",
    "401호에 살고 있는 사람의 숫자를 입력하세요 : 3<br>\n",
    "402호에 살고 있는 사람의 숫자를 입력하세요 : 2<br>\n",
    "403호에 살고 있는 사람의 숫자를 입력하세요 : 5<br>\n",
    "501호에 살고 있는 사람의 숫자를 입력하세요 : 6<br>\n",
    "502호에 살고 있는 사람의 숫자를 입력하세요 : 4<br>\n",
    "503호에 살고 있는 사람의 숫자를 입력하세요 : 3\n",
    "\n",
    "1층에 사는 거주자는 모두 10명 입니다.<br>\n",
    "2층에 사는 거주자는 모두 13명 입니다.<br>\n",
    "3층에 사는 거주자는 모두 16명 입니다.<br>\n",
    "4층에 사는 거주자는 모두 10명 입니다.<br>\n",
    "5층에 사는 거주자는 모두 13명 입니다.\n",
    "\n",
    "1호 라인에 사는 거주자는 모두 20명 입니다.<br>\n",
    "2호 라인에 사는 거주자는 모두 19명 입니다.<br>\n",
    "3호 라인에 사는 거주자는 모두 23명 입니다.\n",
    "\n",
    "이 아파트에 사는 거주자는 모두 62명 입니다."
   ]
  },
  {
   "cell_type": "markdown",
   "metadata": {},
   "source": [
    "***"
   ]
  },
  {
   "cell_type": "markdown",
   "metadata": {
    "hideCode": false
   },
   "source": [
    "#### <a id='F08'>[F08] 겹치지 않는 숫자 10개 입력 받기</a>\n",
    "사용자에게 1부터 100사이의 숫자를 10개 입력받아 이를 순서대로 출력하라. 단, 사용자가 입력하는 동안 이미 입력한 숫자와 같은 숫자를 입력하면 \"잘못 입력하였습니다. 다시 입력하세요.\"라는 문구와 함께 다시 입력받도록 하라. 입력이 완료되면 10개의 수를 모두 출력하라.\n",
    "\n",
    "변수는 다음과 같이 사용하라.\n",
    "```\n",
    "number = [] # 사용자가 입력한 숫자 10개\n",
    "newnum # 입력받은 숫자\n",
    "count # 현재까지 입력된 숫자의 개수(0~10)\n",
    "dup # 중복검사 통과 여부 (True : 중복, False : 중복없음)\n",
    "i # 반복문을 위한 변수\n",
    "```"
   ]
  },
  {
   "cell_type": "code",
   "execution_count": null,
   "metadata": {},
   "outputs": [],
   "source": []
  },
  {
   "cell_type": "code",
   "execution_count": null,
   "metadata": {
    "hideCode": true
   },
   "outputs": [],
   "source": [
    "number = []\n",
    "count = 0\n",
    "\n",
    "print(\"1부터 100 사이의 숫자를 입력하세요.\")\n",
    "while count != 10:\n",
    "    newnum = int(input(\"{}번째 숫자를 입력하세요 : \".format(count + 1)))\n",
    "    dup = newnum in number\n",
    "    \n",
    "    if dup:\n",
    "        print(\"잘못 입력하였습니다. 다시 입력하세요.\")\n",
    "        continue\n",
    "    else:\n",
    "        number.append(newnum)\n",
    "        count += 1\n",
    "\n",
    "for i in range(10):\n",
    "    print(\"{}번째 숫자는 {}입니다.\".format(i + 1, number[i]))"
   ]
  },
  {
   "cell_type": "markdown",
   "metadata": {},
   "source": [
    "##### 실행 예시\n",
    "1부터 100 사이의 숫자를 입력하세요.<br>\n",
    "1번째 숫자를 입력하세요 : 1<br>\n",
    "2번째 숫자를 입력하세요 : 1<br>\n",
    "잘못 입력하였습니다. 다시 입력하세요.<br>\n",
    "2번째 숫자를 입력하세요 : 2<br>\n",
    "3번째 숫자를 입력하세요 : 4<br>\n",
    "4번째 숫자를 입력하세요 : 6<br>\n",
    "5번째 숫자를 입력하세요 : 4<br>\n",
    "잘못 입력하였습니다. 다시 입력하세요.<br>\n",
    "5번째 숫자를 입력하세요 : 2<br>\n",
    "잘못 입력하였습니다. 다시 입력하세요.<br>\n",
    "5번째 숫자를 입력하세요 : 7<br>\n",
    "6번째 숫자를 입력하세요 : 10<br>\n",
    "7번째 숫자를 입력하세요 : 35<br>\n",
    "8번째 숫자를 입력하세요 : 10<br>\n",
    "잘못 입력하였습니다. 다시 입력하세요.<br>\n",
    "8번째 숫자를 입력하세요 : 23<br>\n",
    "9번째 숫자를 입력하세요 : 43<br>\n",
    "10번째 숫자를 입력하세요 : 35<br>\n",
    "잘못 입력하였습니다. 다시 입력하세요.<br>\n",
    "10번째 숫자를 입력하세요 : 33<br>\n",
    "1번째 숫자는 1입니다.<br>\n",
    "2번째 숫자는 2입니다.<br>\n",
    "3번째 숫자는 4입니다.<br>\n",
    "4번째 숫자는 6입니다.<br>\n",
    "5번째 숫자는 7입니다.<br>\n",
    "6번째 숫자는 10입니다.<br>\n",
    "7번째 숫자는 35입니다.<br>\n",
    "8번째 숫자는 23입니다.<br>\n",
    "9번째 숫자는 43입니다.<br>\n",
    "10번째 숫자는 33입니다."
   ]
  },
  {
   "cell_type": "markdown",
   "metadata": {},
   "source": [
    "***"
   ]
  },
  {
   "cell_type": "markdown",
   "metadata": {},
   "source": [
    "#### <a id='F09'>[F09] 리스트를 이용한 연중 날짜 계산</a>\n",
    "날짜를 월과 일로 입력받아 이 날짜는 1년 중 몇 번째 날에 해당되는지 계산하여 출력하라. 단, 매 월의 날 수를 다음과 같이 리스트로 만들어 이를 이용하여 계산하라.\n",
    "\n",
    "변수는 다음과 같이 사용하라.\n",
    "```\n",
    "monthdays = [31,28,31,30,31,30,31,31,30,31,30,31] # 1~12월의 날 수\n",
    "month, day # 입력받은 월, 일\n",
    "day_count # 1년 중 날 수\n",
    "i # 반복문을 위한 변수\n",
    "```"
   ]
  },
  {
   "cell_type": "code",
   "execution_count": null,
   "metadata": {},
   "outputs": [],
   "source": []
  },
  {
   "cell_type": "code",
   "execution_count": null,
   "metadata": {
    "hideCode": true
   },
   "outputs": [],
   "source": [
    "monthdays = [31, 28, 31, 30, 31, 30, 31, 31, 30, 31, 30, 31]\n",
    "month = int(input(\"월을 입력하세요 : \"))\n",
    "day = int(input(\"일을 입력하세요 : \"))\n",
    "\n",
    "if month < 1 or month > 12: print(\"잘못 입력하셨습니다.\")\n",
    "elif day < 1 or day > monthdays[month - 1]: print(\"잘못 입력하셨습니다.\")\n",
    "else:\n",
    "    day_count = 0\n",
    "    for i in range(month - 1): day_count += monthdays[i]\n",
    "    day_count += day\n",
    "\n",
    "    print(\"이 날짜는 1년 중 {}번째 날에 해당됩니다.\".format(day_count))"
   ]
  },
  {
   "cell_type": "markdown",
   "metadata": {},
   "source": [
    "##### 실행 예시 #1\n",
    "월을 입력하세요 : 5<br>\n",
    "일을 입력하세요 : 5<br>\n",
    "이 날짜는 1년 중 125번째 날에 해당됩니다.\n",
    "\n",
    "##### 실행 예시 #2\n",
    "월을 입력하세요 : 12<br>\n",
    "일을 입력하세요 : 25<br>\n",
    "이 날짜는 1년 중 359번째 날에 해당됩니다.\n",
    "\n",
    "##### 실행 예시 #3\n",
    "월을 입력하세요 : 13<br>\n",
    "일을 입력하세요 : 1<br>\n",
    "잘못 입력하셨습니다.\n",
    "\n",
    "##### 실행 예시 #4\n",
    "월을 입력하세요 : 2<br>\n",
    "일을 입력하세요 : 30<br>\n",
    "잘못 입력하셨습니다."
   ]
  }
 ],
 "metadata": {
  "kernelspec": {
   "display_name": "Python 3",
   "language": "python",
   "name": "python3"
  },
  "language_info": {
   "codemirror_mode": {
    "name": "ipython",
    "version": 3
   },
   "file_extension": ".py",
   "mimetype": "text/x-python",
   "name": "python",
   "nbconvert_exporter": "python",
   "pygments_lexer": "ipython3",
   "version": "3.7.3"
  }
 },
 "nbformat": 4,
 "nbformat_minor": 2
}
